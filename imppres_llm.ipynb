{
 "cells": [
  {
   "cell_type": "markdown",
   "id": "c468709d",
   "metadata": {},
   "source": [
    "# ImpPres with LLM\n",
    "\n",
    "You have to implement in this notebook a better ImpPres classifier using an LLM.\n",
    "This classifier must be implemented using DSPy.\n"
   ]
  },
  {
   "cell_type": "code",
   "execution_count": null,
   "id": "2cec0d02",
   "metadata": {},
   "outputs": [],
   "source": [
    "from dotenv import load_dotenv\n",
    "import os\n",
    "import dspy\n",
    "load_dotenv(\"grok_key.ini\")  \n",
    "lm = dspy.LM('xai/grok-3-mini', api_key=os.environ['XAI_API_KEY'])\n",
    "dspy.configure(lm=lm)"
   ]
  },
  {
   "cell_type": "code",
   "execution_count": null,
   "id": "b60da44b",
   "metadata": {},
   "outputs": [],
   "source": [
    "from typing import List, Literal, Tuple\n",
    "\n",
    "class TransformationSignature(dspy.Signature):\n",
    "    premise: str = dspy.InputField()\n",
    "    hypothesis: str = dspy.InputField()\n",
    "    label: Literal['entailment', 'neutral', 'contradiction'] = dspy.OutputField()\n",
    "\n",
    "class ParadigmModule(dspy.Module):\n",
    "    def __init__(self):\n",
    "        super().__init__()\n",
    "        self.predict = dspy.Predict(TransformationSignature)\n",
    "    \n",
    "    def forward(self, transformations: List[Tuple[str, str]]) -> dspy.Prediction:\n",
    "        results = []\n",
    "        for premise, hypothesis in transformations:\n",
    "            try:\n",
    "                prediction = self.predict(premise=premise, hypothesis=hypothesis)\n",
    "                results.append(prediction.label)\n",
    "            except Exception as e:\n",
    "                print(f\"Error in prediction: {e}\")\n",
    "                continue\n",
    "        \n",
    "        return dspy.Prediction(results=results)\n"
   ]
  },
  {
   "cell_type": "markdown",
   "id": "17ab422d",
   "metadata": {},
   "source": [
    "## Load ImpPres Dataset"
   ]
  },
  {
   "cell_type": "code",
   "execution_count": 3,
   "id": "0438789b",
   "metadata": {},
   "outputs": [
    {
     "name": "stdout",
     "output_type": "stream",
     "text": [
      "Loading dataset for section: presupposition_all_n_presupposition\n",
      "Loading dataset for section: presupposition_both_presupposition\n",
      "Loading dataset for section: presupposition_change_of_state\n",
      "Loading dataset for section: presupposition_cleft_existence\n",
      "Loading dataset for section: presupposition_cleft_uniqueness\n",
      "Loading dataset for section: presupposition_only_presupposition\n",
      "Loading dataset for section: presupposition_possessed_definites_existence\n",
      "Loading dataset for section: presupposition_possessed_definites_uniqueness\n",
      "Loading dataset for section: presupposition_question_presupposition\n"
     ]
    }
   ],
   "source": [
    "from datasets import load_dataset\n",
    "\n",
    "sections = ['presupposition_all_n_presupposition', \n",
    "            'presupposition_both_presupposition', \n",
    "            'presupposition_change_of_state', \n",
    "            'presupposition_cleft_existence', \n",
    "            'presupposition_cleft_uniqueness', \n",
    "            'presupposition_only_presupposition', \n",
    "            'presupposition_possessed_definites_existence', \n",
    "            'presupposition_possessed_definites_uniqueness', \n",
    "            'presupposition_question_presupposition']\n",
    "\n",
    "dataset = {}\n",
    "for section in sections:\n",
    "    print(f\"Loading dataset for section: {section}\")\n",
    "    dataset[section] = load_dataset(\"facebook/imppres\", section)"
   ]
  },
  {
   "cell_type": "code",
   "execution_count": null,
   "id": "2feb10d2",
   "metadata": {},
   "outputs": [],
   "source": [
    "import random\n",
    "section_to_split = {\n",
    "    'presupposition_all_n_presupposition': 'all_n_presupposition',\n",
    "    'presupposition_both_presupposition': 'both_presupposition',\n",
    "    'presupposition_change_of_state': 'change_of_state',\n",
    "    'presupposition_cleft_existence': 'cleft_existence',\n",
    "    'presupposition_cleft_uniqueness': 'cleft_uniqueness',\n",
    "    'presupposition_only_presupposition': 'only_presupposition',\n",
    "    'presupposition_possessed_definites_existence': 'possessed_definites_existence',\n",
    "    'presupposition_possessed_definites_uniqueness': 'possessed_definites_uniqueness',\n",
    "    'presupposition_question_presupposition': 'question_presupposition',\n",
    "}\n",
    "\n",
    "\n",
    "def prepare_paradigm_examples(dataset, sections):\n",
    "    paradigm_examples = {}\n",
    "    \n",
    "    for section in sections:\n",
    "        paradigm_examples[section] = {}\n",
    "        split_name = section_to_split[section]\n",
    "        data = dataset[section][split_name]\n",
    "        \n",
    "        # Group by paradigmID\n",
    "        paradigm_groups = {}\n",
    "        for item in data:\n",
    "            paradigm_id = item['paradigmID']\n",
    "            if paradigm_id not in paradigm_groups:\n",
    "                paradigm_groups[paradigm_id] = []\n",
    "            paradigm_groups[paradigm_id].append(item)\n",
    "        \n",
    "        for paradigm_id, items in paradigm_groups.items():\n",
    "            if len(items) == 19:  # Only use complete paradigms\n",
    "                # Shuffle to avoid position bias\n",
    "                random.shuffle(items)\n",
    "                transformations = [(item['premise'], item['hypothesis']) for item in items]\n",
    "                true_labels = [item['gold_label'] for item in items]\n",
    "                paradigm_examples[section][paradigm_id] = {\n",
    "                    'transformations': transformations,\n",
    "                    'true_labels': true_labels,\n",
    "                    'items': items\n",
    "                }\n",
    "    \n",
    "    return paradigm_examples\n"
   ]
  },
  {
   "cell_type": "markdown",
   "id": "ea8e1258",
   "metadata": {},
   "source": [
    "## Evaluate Metrics\n",
    "\n",
    "Let's use the huggingface `evaluate` package to compute the performance of the baseline.\n"
   ]
  },
  {
   "cell_type": "code",
   "execution_count": 37,
   "id": "0e2e9027",
   "metadata": {},
   "outputs": [],
   "source": [
    "from evaluate import load\n",
    "\n",
    "accuracy = load(\"accuracy\")\n",
    "precision = load(\"precision\")\n",
    "recall = load(\"recall\")\n",
    "f1 = load(\"f1\")\n"
   ]
  },
  {
   "cell_type": "code",
   "execution_count": 38,
   "id": "1ab24e1b",
   "metadata": {},
   "outputs": [],
   "source": [
    "import evaluate\n",
    "clf_metrics = evaluate.combine([\"accuracy\", \"f1\", \"precision\", \"recall\"])"
   ]
  },
  {
   "cell_type": "markdown",
   "id": "0909d58b",
   "metadata": {},
   "source": [
    "## Your Turn\n",
    "\n",
    "Compute the classification metrics on the baseline LLM model on each test section of the ANLI dataset for samples that have a non-empty 'reason' field.\n",
    "\n",
    "You also must show a comparison between the DeBERTa baseline model and this LLM baseline model. The comparison metric should compute the agreement between the two models:\n",
    "* On how many samples they are both correct [Correct]\n",
    "* On how many samples Model1 is correct and Model2 is incorrect [Correct1]\n",
    "* On how many samples Model1 is incorrect and Model2 is correct [Correct2]\n",
    "* On how many samples both are incorrect [Incorrect]"
   ]
  },
  {
   "cell_type": "code",
   "execution_count": 7,
   "id": "950426b5",
   "metadata": {},
   "outputs": [],
   "source": [
    "from scipy.stats import entropy\n",
    "from collections import Counter\n",
    "\n",
    "def calculate_consistency_metric(predictions):\n",
    "    if not predictions:\n",
    "        return 0.0\n",
    "    \n",
    "    label_counts = Counter(predictions)\n",
    "    total = len(predictions)\n",
    "    \n",
    "    probabilities = [count / total for count in label_counts.values()]\n",
    "    \n",
    "    ent = entropy(probabilities, base=len(label_counts)) if len(label_counts) > 1 else 0\n",
    "    \n",
    "    # Return consistency (1 - normalized entropy)\n",
    "    return 1 - ent\n",
    "\n",
    "def calculate_accuracy_metric(predictions, true_labels):\n",
    "    if len(predictions) != len(true_labels):\n",
    "        return 0.0\n",
    "    \n",
    "    correct = sum(1 for pred, true in zip(predictions, true_labels) if pred == true)\n",
    "    return correct / len(true_labels)\n",
    "\n",
    "def combined_metric(example, pred, alpha=0.5):\n",
    "    accuracy = calculate_accuracy_metric(pred.results, example['true_labels'])\n",
    "    consistency = calculate_consistency_metric(pred.results)\n",
    "    \n",
    "    return alpha * accuracy + (1 - alpha) * consistency\n"
   ]
  },
  {
   "cell_type": "code",
   "execution_count": 8,
   "id": "d10f065d",
   "metadata": {},
   "outputs": [],
   "source": [
    "def create_training_examples(paradigm_examples, sections, max_examples_per_section=10):\n",
    "    training_examples = []\n",
    "    \n",
    "    for section in sections:\n",
    "        paradigms = list(paradigm_examples[section].items())\n",
    "        # Limit number of examples per section for training\n",
    "        selected_paradigms = paradigms[:max_examples_per_section]\n",
    "        \n",
    "        for paradigm_id, paradigm_data in selected_paradigms:\n",
    "            example = dspy.Example(\n",
    "                transformations=paradigm_data['transformations'],\n",
    "                true_labels=paradigm_data['true_labels']\n",
    "            ).with_inputs('transformations')\n",
    "            \n",
    "            training_examples.append(example)\n",
    "    \n",
    "    return training_examples"
   ]
  },
  {
   "cell_type": "code",
   "execution_count": null,
   "id": "f06583eb",
   "metadata": {},
   "outputs": [],
   "source": [
    "import numpy as np\n",
    "from tqdm import tqdm\n",
    "\n",
    "label_names = [\"entailment\", \"neutral\", \"contradiction\"]\n",
    "label2id = {label: i for i, label in enumerate(label_names)}\n",
    "\n",
    "def evaluate_section(module, paradigm_examples, section):\n",
    "    paradigms = paradigm_examples[section]\n",
    "    \n",
    "    all_predictions = []\n",
    "    all_true_labels = []\n",
    "    consistency_scores = []\n",
    "    transformation_results = {i: {'predictions': [], 'true_labels': []} for i in range(19)}\n",
    "    \n",
    "    for paradigm_id, paradigm_data in tqdm(paradigms.items()):\n",
    "        pred = module(paradigm_data['transformations'])\n",
    "        \n",
    "        all_predictions.extend(pred.results)\n",
    "        all_true_labels.extend(paradigm_data['true_labels'])\n",
    "        consistency = calculate_consistency_metric(pred.results)\n",
    "        print(f\"Paradigm {paradigm_id} consistency: {consistency}\")\n",
    "        consistency_scores.append(consistency)\n",
    "        \n",
    "        for i, (prediction, true_label) in enumerate(zip(pred.results, paradigm_data['true_labels'])):\n",
    "            transformation_results[i]['predictions'].append(label2id[prediction.strip().lower()])\n",
    "            transformation_results[i]['true_labels'].append(true_label)\n",
    "    \n",
    "    numbered_all_predictions = [label2id[pred.strip().lower()] for pred in all_predictions]\n",
    "    \n",
    "    total_accuracy = accuracy.compute(predictions=numbered_all_predictions, references=all_true_labels)[\"accuracy\"]\n",
    "    total_precision = precision.compute(predictions=numbered_all_predictions, references=all_true_labels, average=\"macro\")[\"precision\"]\n",
    "    total_recall = recall.compute(predictions=numbered_all_predictions, references=all_true_labels, average=\"macro\")[\"recall\"]\n",
    "    total_f1 = f1.compute(predictions=numbered_all_predictions, references=all_true_labels, average=\"macro\")[\"f1\"]\n",
    "    avg_consistency = np.mean(consistency_scores) if consistency_scores else 0.0\n",
    "    \n",
    "    print(\"Calculate metrics by transformation\")\n",
    "    transformation_metrics = {}\n",
    "    for i in tqdm(range(19)):\n",
    "        if transformation_results[i]['predictions']:\n",
    "            trans_acc = accuracy.compute(\n",
    "                predictions=transformation_results[i]['predictions'], \n",
    "                references=transformation_results[i]['true_labels']\n",
    "            )[\"accuracy\"]\n",
    "            trans_p = precision.compute(\n",
    "                predictions=transformation_results[i]['predictions'], \n",
    "                references=transformation_results[i]['true_labels'], \n",
    "                average='macro', zero_division=0\n",
    "            )[\"precision\"]\n",
    "            trans_r = recall.compute(\n",
    "                predictions=transformation_results[i]['predictions'], \n",
    "                references=transformation_results[i]['true_labels'], \n",
    "                average='macro', zero_division=0\n",
    "            )[\"recall\"]\n",
    "            trans_f1= f1.compute(\n",
    "                predictions=transformation_results[i]['predictions'], \n",
    "                references=transformation_results[i]['true_labels'], \n",
    "                average='macro'\n",
    "            )[\"f1\"]\n",
    "            transformation_metrics[i] = {\n",
    "                'accuracy': trans_acc,\n",
    "                'precision': trans_p,\n",
    "                'recall': trans_r,\n",
    "                'f1': trans_f1\n",
    "            }\n",
    "    \n",
    "    return {\n",
    "        'accuracy': total_accuracy,\n",
    "        'precision': total_precision,\n",
    "        'recall': total_recall,\n",
    "        'f1': total_f1,\n",
    "        'consistency': avg_consistency,\n",
    "        'transformation_metrics': transformation_metrics\n",
    "    }"
   ]
  },
  {
   "cell_type": "code",
   "execution_count": null,
   "id": "34b118f6",
   "metadata": {},
   "outputs": [],
   "source": [
    "from dspy import MIPROv2\n",
    "label_names = [\"entailment\", \"neutral\", \"contradiction\"]\n",
    "label2id = {label: i for i, label in enumerate(label_names)}\n",
    "\n",
    "def exact_match_metric(example, pred, trace=None):\n",
    "    count = 0\n",
    "    for i in range(len(pred.results)):\n",
    "        count += 1 if label2id[pred.results[i].strip().lower()] == example['true_labels'][i] else 0\n",
    "    return count == len(pred.results) \n",
    "\n",
    "optimizer = MIPROv2(metric=exact_match_metric)"
   ]
  },
  {
   "cell_type": "code",
   "execution_count": null,
   "id": "bc743466",
   "metadata": {},
   "outputs": [],
   "source": [
    "import pandas as pd\n",
    "from tqdm import tqdm\n",
    "\n",
    "def run_evaluation():\n",
    "    print(\"Preparing paradigm examples...\")\n",
    "    paradigm_examples = prepare_paradigm_examples(dataset, sections)\n",
    "    \n",
    "    print(\"Creating training examples...\")\n",
    "    training_examples = create_training_examples(paradigm_examples, sections)\n",
    "    \n",
    "    print(\"Initializing module...\")\n",
    "    module = ParadigmModule()\n",
    "    \n",
    "    print(\"Optimizing module...\")\n",
    "    compiled_module = optimizer.compile(\n",
    "        module, \n",
    "        trainset=training_examples, \n",
    "        requires_permission_to_run=False\n",
    "    )\n",
    "    return compiled_module, paradigm_examples\n",
    "\n",
    "def evaluate_all_sections(module, paradigm_examples):\n",
    "    print(\"Running evaluation...\")\n",
    "    results = {}\n",
    "    \n",
    "    for section in tqdm(sections):\n",
    "        if section == 'presupposition_all_n_presupposition':\n",
    "            continue\n",
    "        print(f\"Evaluating section: {section}\")\n",
    "        section_results = evaluate_section(module, paradigm_examples, section)\n",
    "        results[section] = section_results\n",
    "        \n",
    "        print(f\"Section {section}:\")\n",
    "        print(f\"  Accuracy: {section_results['accuracy']:.4f}\")\n",
    "        print(f\"  Precision: {section_results['precision']:.4f}\")\n",
    "        print(f\"  Recall: {section_results['recall']:.4f}\")\n",
    "        print(f\"  F1: {section_results['f1']:.4f}\")\n",
    "        print(f\"  Consistency: {section_results['consistency']:.4f}\")\n",
    "        print()\n",
    "    \n",
    "    return results\n",
    "\n",
    "\n",
    "def create_results_table(results, sections):\n",
    "    section_data = []\n",
    "    for section in sections:\n",
    "        section_data.append({\n",
    "            'Section': section,\n",
    "            'Accuracy': results[section]['accuracy'],\n",
    "            'Precision': results[section]['precision'],\n",
    "            'Recall': results[section]['recall'],\n",
    "            'F1': results[section]['f1'],\n",
    "            'Consistency': results[section]['consistency']\n",
    "        })\n",
    "    section_df = pd.DataFrame(section_data)\n",
    "    \n",
    "    # Transformation-level results (averaged across sections)\n",
    "    transformation_data = []\n",
    "    for i in range(19):\n",
    "        trans_metrics = {'transformation': i}\n",
    "        for metric in ['accuracy', 'precision', 'recall', 'f1']:\n",
    "            values = []\n",
    "            for section in sections:\n",
    "                if i in results[section]['transformation_metrics']:\n",
    "                    values.append(results[section]['transformation_metrics'][i][metric])\n",
    "            trans_metrics[metric] = np.mean(values) if values else 0.0\n",
    "        transformation_data.append(trans_metrics)\n",
    "    transformation_df = pd.DataFrame(transformation_data)\n",
    "    \n",
    "    return section_df, transformation_df\n"
   ]
  },
  {
   "cell_type": "code",
   "execution_count": 22,
   "id": "581c8677",
   "metadata": {},
   "outputs": [
    {
     "name": "stdout",
     "output_type": "stream",
     "text": [
      "Preparing paradigm examples...\n"
     ]
    },
    {
     "name": "stderr",
     "output_type": "stream",
     "text": [
      "2025/07/17 15:49:32 INFO dspy.teleprompt.mipro_optimizer_v2: \n",
      "RUNNING WITH THE FOLLOWING LIGHT AUTO RUN SETTINGS:\n",
      "num_trials: 10\n",
      "minibatch: True\n",
      "num_fewshot_candidates: 6\n",
      "num_instruct_candidates: 3\n",
      "valset size: 72\n",
      "\n",
      "2025/07/17 15:49:32 INFO dspy.teleprompt.mipro_optimizer_v2: \n",
      "==> STEP 1: BOOTSTRAP FEWSHOT EXAMPLES <==\n",
      "2025/07/17 15:49:32 INFO dspy.teleprompt.mipro_optimizer_v2: These will be used as few-shot example candidates for our program and for creating instructions.\n",
      "\n",
      "2025/07/17 15:49:32 INFO dspy.teleprompt.mipro_optimizer_v2: Bootstrapping N=6 sets of demonstrations...\n"
     ]
    },
    {
     "name": "stdout",
     "output_type": "stream",
     "text": [
      "Creating training examples...\n",
      "Initializing module...\n",
      "Optimizing module...\n",
      "Bootstrapping set 1/6\n",
      "Bootstrapping set 2/6\n",
      "Bootstrapping set 3/6\n"
     ]
    },
    {
     "name": "stderr",
     "output_type": "stream",
     "text": [
      " 33%|███▎      | 6/18 [00:00<00:00, 55.42it/s]\n"
     ]
    },
    {
     "name": "stdout",
     "output_type": "stream",
     "text": [
      "Bootstrapped 4 full traces after 6 examples for up to 1 rounds, amounting to 6 attempts.\n",
      "Bootstrapping set 4/6\n"
     ]
    },
    {
     "name": "stderr",
     "output_type": "stream",
     "text": [
      " 39%|███▉      | 7/18 [00:00<00:00, 47.66it/s]\n"
     ]
    },
    {
     "name": "stdout",
     "output_type": "stream",
     "text": [
      "Bootstrapped 3 full traces after 7 examples for up to 1 rounds, amounting to 7 attempts.\n",
      "Bootstrapping set 5/6\n"
     ]
    },
    {
     "name": "stderr",
     "output_type": "stream",
     "text": [
      " 33%|███▎      | 6/18 [00:00<00:00, 65.11it/s]\n"
     ]
    },
    {
     "name": "stdout",
     "output_type": "stream",
     "text": [
      "Bootstrapped 4 full traces after 6 examples for up to 1 rounds, amounting to 6 attempts.\n",
      "Bootstrapping set 6/6\n"
     ]
    },
    {
     "name": "stderr",
     "output_type": "stream",
     "text": [
      "  6%|▌         | 1/18 [00:00<00:00, 116.16it/s]\n",
      "2025/07/17 15:49:32 INFO dspy.teleprompt.mipro_optimizer_v2: \n",
      "==> STEP 2: PROPOSE INSTRUCTION CANDIDATES <==\n",
      "2025/07/17 15:49:32 INFO dspy.teleprompt.mipro_optimizer_v2: We will use the few-shot examples from the previous step, a generated dataset summary, a summary of the program code, and a randomly selected prompting tip to propose instructions.\n"
     ]
    },
    {
     "name": "stdout",
     "output_type": "stream",
     "text": [
      "Bootstrapped 1 full traces after 1 examples for up to 1 rounds, amounting to 1 attempts.\n"
     ]
    },
    {
     "name": "stderr",
     "output_type": "stream",
     "text": [
      "2025/07/17 15:50:17 WARNING dspy.clients.lm: LM response was truncated due to exceeding max_tokens=4000. You can inspect the latest LM interactions with `dspy.inspect_history()`. To avoid truncation, consider passing a larger max_tokens when setting up dspy.LM. You may also consider increasing the temperature (currently 0.0)  if the reason for truncation is repetition.\n",
      "2025/07/17 15:50:17 WARNING dspy.adapters.json_adapter: Failed to use structured output format, falling back to JSON mode.\n",
      "2025/07/17 15:50:30 INFO dspy.teleprompt.mipro_optimizer_v2: \n",
      "Proposing N=3 instructions...\n",
      "\n",
      "2025/07/17 15:51:36 INFO dspy.teleprompt.mipro_optimizer_v2: Proposed Instructions for Predictor 0:\n",
      "\n",
      "2025/07/17 15:51:36 INFO dspy.teleprompt.mipro_optimizer_v2: 0: Given the fields `premise`, `hypothesis`, produce the fields `label`.\n",
      "\n",
      "2025/07/17 15:51:36 INFO dspy.teleprompt.mipro_optimizer_v2: 1: You are an expert in Natural Language Inference (NLI). Your task is to analyze a given premise and hypothesis, considering elements like quantified groups, negation, modality, numerical precision, and semantic relationships, and classify their logical relationship. Output a single label: 'entailment' if the hypothesis logically follows from the premise, 'neutral' if it is neither entailed nor contradicted, or 'contradiction' if it directly opposes the premise. Base your decision on the provided examples for guidance.\n",
      "\n",
      "For reference:\n",
      "- Example 1: Premise: \"Are all ten reports that can bore some waiter disagreeing with Naomi?\" Hypothesis: \"All ten reports that can bore some waiter are disagreeing with Naomi.\" Label: neutral (The hypothesis restates the premise but introduces uncertainty, making it neither fully entailed nor contradicted.)\n",
      "- Example 2: Premise: \"The five waiters that approached Paul don't depart.\" Hypothesis: \"The five waiters that approached Paul depart.\" Label: contradiction (The hypothesis directly negates the premise.)\n",
      "- Example 3: Premise: \"The five boys who research that university had examined those reports.\" Hypothesis: \"There are dozens of boys who research that university.\" Label: contradiction (The hypothesis exaggerates the quantity, contradicting the premise.)\n",
      "\n",
      "Given the fields `premise` and `hypothesis`, produce the field `label` as one of: 'entailment', 'neutral', or 'contradiction'.\n",
      "\n",
      "2025/07/17 15:51:36 INFO dspy.teleprompt.mipro_optimizer_v2: 2: Imagine you are a top-tier intelligence analyst in a high-stakes global security operation, where a single misclassification of information could lead to international conflict or loss of innocent lives. Your mission is to meticulously evaluate the relationship between a given premise and hypothesis in this critical context, determining whether the hypothesis logically follows from the premise (entailment), is unrelated or uncertain (neutral), or directly opposes it (contradiction). You must base your analysis on the complexities of quantified groups, semantic modifications, negations, and modalities as described in the dataset. Given the fields `premise` and `hypothesis`, produce the field `label` as one of the following: 'entailment', 'neutral', or 'contradiction'. Always reason step by step to ensure accuracy, considering examples like: If the premise is \"Are all ten reports that can bore some waiter disagreeing with Naomi?\" and the hypothesis is \"All ten reports that can bore some waiter are disagreeing with Naomi?\", the label is 'neutral' because the hypothesis doesn't fully confirm the premise's uncertainty.\n",
      "\n",
      "2025/07/17 15:51:36 INFO dspy.teleprompt.mipro_optimizer_v2: \n",
      "\n",
      "2025/07/17 15:51:36 INFO dspy.teleprompt.mipro_optimizer_v2: ==> STEP 3: FINDING OPTIMAL PROMPT PARAMETERS <==\n",
      "2025/07/17 15:51:36 INFO dspy.teleprompt.mipro_optimizer_v2: We will evaluate the program over a series of trials with different combinations of instructions and few-shot examples to find the optimal combination using Bayesian Optimization.\n",
      "\n",
      "2025/07/17 15:51:36 INFO dspy.teleprompt.mipro_optimizer_v2: == Trial 1 / 13 - Full Evaluation of Default Program ==\n"
     ]
    },
    {
     "name": "stdout",
     "output_type": "stream",
     "text": [
      "Average Metric: 10.00 / 72 (13.9%): 100%|██████████| 72/72 [00:00<00:00, 879.49it/s]"
     ]
    },
    {
     "name": "stderr",
     "output_type": "stream",
     "text": [
      "2025/07/17 15:51:37 INFO dspy.evaluate.evaluate: Average Metric: 10 / 72 (13.9%)\n",
      "2025/07/17 15:51:37 INFO dspy.teleprompt.mipro_optimizer_v2: Default program score: 13.89\n",
      "\n"
     ]
    },
    {
     "name": "stdout",
     "output_type": "stream",
     "text": [
      "\n"
     ]
    },
    {
     "name": "stderr",
     "output_type": "stream",
     "text": [
      "c:\\Users\\97252\\Desktop\\לימודים\\סמסטר ו\\LLM\\hm2\\nlp-with-llms-2025-hw2\\.venv\\Lib\\site-packages\\optuna\\_experimental.py:32: ExperimentalWarning: Argument ``multivariate`` is an experimental feature. The interface can change in the future.\n",
      "  warnings.warn(\n",
      "2025/07/17 15:51:40 INFO dspy.teleprompt.mipro_optimizer_v2: == Trial 2 / 13 - Minibatch ==\n"
     ]
    },
    {
     "name": "stdout",
     "output_type": "stream",
     "text": [
      "Average Metric: 1.00 / 35 (2.9%): 100%|██████████| 35/35 [08:45<00:00, 15.03s/it]"
     ]
    },
    {
     "name": "stderr",
     "output_type": "stream",
     "text": [
      "2025/07/17 16:00:27 INFO dspy.evaluate.evaluate: Average Metric: 1 / 35 (2.9%)\n"
     ]
    },
    {
     "name": "stdout",
     "output_type": "stream",
     "text": [
      "\n"
     ]
    },
    {
     "name": "stderr",
     "output_type": "stream",
     "text": [
      "2025/07/17 16:00:27 INFO dspy.teleprompt.mipro_optimizer_v2: Score: 2.86 on minibatch of size 35 with parameters ['Predictor 0: Instruction 1', 'Predictor 0: Few-Shot Set 3'].\n",
      "2025/07/17 16:00:27 INFO dspy.teleprompt.mipro_optimizer_v2: Minibatch scores so far: [2.86]\n",
      "2025/07/17 16:00:27 INFO dspy.teleprompt.mipro_optimizer_v2: Full eval scores so far: [13.89]\n",
      "2025/07/17 16:00:27 INFO dspy.teleprompt.mipro_optimizer_v2: Best full score so far: 13.89\n",
      "2025/07/17 16:00:27 INFO dspy.teleprompt.mipro_optimizer_v2: =========================================\n",
      "\n",
      "\n",
      "2025/07/17 16:00:27 INFO dspy.teleprompt.mipro_optimizer_v2: == Trial 3 / 13 - Minibatch ==\n"
     ]
    },
    {
     "name": "stdout",
     "output_type": "stream",
     "text": [
      "Average Metric: 4.00 / 35 (11.4%): : 37it [14:53, 24.15s/it]                       "
     ]
    },
    {
     "name": "stderr",
     "output_type": "stream",
     "text": [
      "2025/07/17 16:15:21 INFO dspy.evaluate.evaluate: Average Metric: 4 / 35 (11.4%)\n"
     ]
    },
    {
     "name": "stdout",
     "output_type": "stream",
     "text": [
      "\n"
     ]
    },
    {
     "name": "stderr",
     "output_type": "stream",
     "text": [
      "2025/07/17 16:15:21 INFO dspy.teleprompt.mipro_optimizer_v2: Score: 11.43 on minibatch of size 35 with parameters ['Predictor 0: Instruction 2', 'Predictor 0: Few-Shot Set 0'].\n",
      "2025/07/17 16:15:21 INFO dspy.teleprompt.mipro_optimizer_v2: Minibatch scores so far: [2.86, 11.43]\n",
      "2025/07/17 16:15:21 INFO dspy.teleprompt.mipro_optimizer_v2: Full eval scores so far: [13.89]\n",
      "2025/07/17 16:15:21 INFO dspy.teleprompt.mipro_optimizer_v2: Best full score so far: 13.89\n",
      "2025/07/17 16:15:21 INFO dspy.teleprompt.mipro_optimizer_v2: =========================================\n",
      "\n",
      "\n",
      "2025/07/17 16:15:21 INFO dspy.teleprompt.mipro_optimizer_v2: == Trial 4 / 13 - Minibatch ==\n"
     ]
    },
    {
     "name": "stdout",
     "output_type": "stream",
     "text": [
      "Average Metric: 3.00 / 35 (8.6%): 100%|██████████| 35/35 [08:34<00:00, 14.70s/it] "
     ]
    },
    {
     "name": "stderr",
     "output_type": "stream",
     "text": [
      "2025/07/17 16:23:56 INFO dspy.evaluate.evaluate: Average Metric: 3 / 35 (8.6%)\n"
     ]
    },
    {
     "name": "stdout",
     "output_type": "stream",
     "text": [
      "\n"
     ]
    },
    {
     "name": "stderr",
     "output_type": "stream",
     "text": [
      "2025/07/17 16:23:56 INFO dspy.teleprompt.mipro_optimizer_v2: Score: 8.57 on minibatch of size 35 with parameters ['Predictor 0: Instruction 1', 'Predictor 0: Few-Shot Set 5'].\n",
      "2025/07/17 16:23:56 INFO dspy.teleprompt.mipro_optimizer_v2: Minibatch scores so far: [2.86, 11.43, 8.57]\n",
      "2025/07/17 16:23:56 INFO dspy.teleprompt.mipro_optimizer_v2: Full eval scores so far: [13.89]\n",
      "2025/07/17 16:23:56 INFO dspy.teleprompt.mipro_optimizer_v2: Best full score so far: 13.89\n",
      "2025/07/17 16:23:56 INFO dspy.teleprompt.mipro_optimizer_v2: =========================================\n",
      "\n",
      "\n",
      "2025/07/17 16:23:56 INFO dspy.teleprompt.mipro_optimizer_v2: == Trial 5 / 13 - Minibatch ==\n"
     ]
    },
    {
     "name": "stdout",
     "output_type": "stream",
     "text": [
      "Average Metric: 1.00 / 35 (2.9%): 100%|██████████| 35/35 [09:22<00:00, 16.07s/it] "
     ]
    },
    {
     "name": "stderr",
     "output_type": "stream",
     "text": [
      "2025/07/17 16:33:19 INFO dspy.evaluate.evaluate: Average Metric: 1 / 35 (2.9%)\n"
     ]
    },
    {
     "name": "stdout",
     "output_type": "stream",
     "text": [
      "\n"
     ]
    },
    {
     "name": "stderr",
     "output_type": "stream",
     "text": [
      "2025/07/17 16:33:19 INFO dspy.teleprompt.mipro_optimizer_v2: Score: 2.86 on minibatch of size 35 with parameters ['Predictor 0: Instruction 2', 'Predictor 0: Few-Shot Set 2'].\n",
      "2025/07/17 16:33:19 INFO dspy.teleprompt.mipro_optimizer_v2: Minibatch scores so far: [2.86, 11.43, 8.57, 2.86]\n",
      "2025/07/17 16:33:19 INFO dspy.teleprompt.mipro_optimizer_v2: Full eval scores so far: [13.89]\n",
      "2025/07/17 16:33:19 INFO dspy.teleprompt.mipro_optimizer_v2: Best full score so far: 13.89\n",
      "2025/07/17 16:33:19 INFO dspy.teleprompt.mipro_optimizer_v2: =========================================\n",
      "\n",
      "\n",
      "2025/07/17 16:33:19 INFO dspy.teleprompt.mipro_optimizer_v2: == Trial 6 / 13 - Minibatch ==\n"
     ]
    },
    {
     "name": "stdout",
     "output_type": "stream",
     "text": [
      "Average Metric: 6.00 / 35 (17.1%): 100%|██████████| 35/35 [00:00<00:00, 66.06it/s] "
     ]
    },
    {
     "name": "stderr",
     "output_type": "stream",
     "text": [
      "2025/07/17 16:33:20 INFO dspy.evaluate.evaluate: Average Metric: 6 / 35 (17.1%)\n"
     ]
    },
    {
     "name": "stdout",
     "output_type": "stream",
     "text": [
      "\n"
     ]
    },
    {
     "name": "stderr",
     "output_type": "stream",
     "text": [
      "2025/07/17 16:33:20 INFO dspy.teleprompt.mipro_optimizer_v2: Score: 17.14 on minibatch of size 35 with parameters ['Predictor 0: Instruction 0', 'Predictor 0: Few-Shot Set 5'].\n",
      "2025/07/17 16:33:20 INFO dspy.teleprompt.mipro_optimizer_v2: Minibatch scores so far: [2.86, 11.43, 8.57, 2.86, 17.14]\n",
      "2025/07/17 16:33:20 INFO dspy.teleprompt.mipro_optimizer_v2: Full eval scores so far: [13.89]\n",
      "2025/07/17 16:33:20 INFO dspy.teleprompt.mipro_optimizer_v2: Best full score so far: 13.89\n",
      "2025/07/17 16:33:20 INFO dspy.teleprompt.mipro_optimizer_v2: =========================================\n",
      "\n",
      "\n",
      "2025/07/17 16:33:20 INFO dspy.teleprompt.mipro_optimizer_v2: ===== Trial 7 / 13 - Full Evaluation =====\n",
      "2025/07/17 16:33:20 INFO dspy.teleprompt.mipro_optimizer_v2: Doing full eval on next top averaging program (Avg Score: 17.14) from minibatch trials...\n"
     ]
    },
    {
     "name": "stdout",
     "output_type": "stream",
     "text": [
      "Average Metric: 9.00 / 72 (12.5%): 100%|██████████| 72/72 [00:00<00:00, 244.85it/s]"
     ]
    },
    {
     "name": "stderr",
     "output_type": "stream",
     "text": [
      "2025/07/17 16:33:21 INFO dspy.evaluate.evaluate: Average Metric: 9 / 72 (12.5%)\n",
      "2025/07/17 16:33:21 INFO dspy.teleprompt.mipro_optimizer_v2: Full eval scores so far: [13.89, 12.5]\n",
      "2025/07/17 16:33:21 INFO dspy.teleprompt.mipro_optimizer_v2: Best full score so far: 13.89\n",
      "2025/07/17 16:33:21 INFO dspy.teleprompt.mipro_optimizer_v2: =======================\n"
     ]
    },
    {
     "name": "stdout",
     "output_type": "stream",
     "text": [
      "\n"
     ]
    },
    {
     "name": "stderr",
     "output_type": "stream",
     "text": [
      "2025/07/17 16:33:21 INFO dspy.teleprompt.mipro_optimizer_v2: \n",
      "\n",
      "2025/07/17 16:33:21 INFO dspy.teleprompt.mipro_optimizer_v2: == Trial 8 / 13 - Minibatch ==\n"
     ]
    },
    {
     "name": "stdout",
     "output_type": "stream",
     "text": [
      "Average Metric: 4.00 / 31 (12.9%):  89%|████████▊ | 31/35 [04:58<00:23,  5.79s/it]"
     ]
    },
    {
     "name": "stderr",
     "output_type": "stream",
     "text": [
      "2025/07/17 16:38:43 WARNING dspy.adapters.json_adapter: Failed to use structured output format, falling back to JSON mode.\n"
     ]
    },
    {
     "name": "stdout",
     "output_type": "stream",
     "text": [
      "Average Metric: 4.00 / 35 (11.4%): : 36it [07:07, 11.86s/it]                      "
     ]
    },
    {
     "name": "stderr",
     "output_type": "stream",
     "text": [
      "2025/07/17 16:40:29 INFO dspy.evaluate.evaluate: Average Metric: 4 / 35 (11.4%)\n"
     ]
    },
    {
     "name": "stdout",
     "output_type": "stream",
     "text": [
      "\n"
     ]
    },
    {
     "name": "stderr",
     "output_type": "stream",
     "text": [
      "2025/07/17 16:40:29 INFO dspy.teleprompt.mipro_optimizer_v2: Score: 11.43 on minibatch of size 35 with parameters ['Predictor 0: Instruction 2', 'Predictor 0: Few-Shot Set 0'].\n",
      "2025/07/17 16:40:29 INFO dspy.teleprompt.mipro_optimizer_v2: Minibatch scores so far: [2.86, 11.43, 8.57, 2.86, 17.14, 11.43]\n",
      "2025/07/17 16:40:29 INFO dspy.teleprompt.mipro_optimizer_v2: Full eval scores so far: [13.89, 12.5]\n",
      "2025/07/17 16:40:29 INFO dspy.teleprompt.mipro_optimizer_v2: Best full score so far: 13.89\n",
      "2025/07/17 16:40:29 INFO dspy.teleprompt.mipro_optimizer_v2: =========================================\n",
      "\n",
      "\n",
      "2025/07/17 16:40:29 INFO dspy.teleprompt.mipro_optimizer_v2: == Trial 9 / 13 - Minibatch ==\n"
     ]
    },
    {
     "name": "stdout",
     "output_type": "stream",
     "text": [
      "Average Metric: 2.00 / 35 (5.7%): : 37it [13:36, 22.06s/it]                         "
     ]
    },
    {
     "name": "stderr",
     "output_type": "stream",
     "text": [
      "2025/07/17 16:54:09 INFO dspy.evaluate.evaluate: Average Metric: 2 / 35 (5.7%)\n"
     ]
    },
    {
     "name": "stdout",
     "output_type": "stream",
     "text": [
      "\n"
     ]
    },
    {
     "name": "stderr",
     "output_type": "stream",
     "text": [
      "2025/07/17 16:54:09 INFO dspy.teleprompt.mipro_optimizer_v2: Score: 5.71 on minibatch of size 35 with parameters ['Predictor 0: Instruction 2', 'Predictor 0: Few-Shot Set 5'].\n",
      "2025/07/17 16:54:09 INFO dspy.teleprompt.mipro_optimizer_v2: Minibatch scores so far: [2.86, 11.43, 8.57, 2.86, 17.14, 11.43, 5.71]\n",
      "2025/07/17 16:54:09 INFO dspy.teleprompt.mipro_optimizer_v2: Full eval scores so far: [13.89, 12.5]\n",
      "2025/07/17 16:54:09 INFO dspy.teleprompt.mipro_optimizer_v2: Best full score so far: 13.89\n",
      "2025/07/17 16:54:09 INFO dspy.teleprompt.mipro_optimizer_v2: =========================================\n",
      "\n",
      "\n",
      "2025/07/17 16:54:09 INFO dspy.teleprompt.mipro_optimizer_v2: == Trial 10 / 13 - Minibatch ==\n"
     ]
    },
    {
     "name": "stdout",
     "output_type": "stream",
     "text": [
      "Average Metric: 4.00 / 35 (11.4%): 100%|██████████| 35/35 [08:37<00:00, 14.79s/it]"
     ]
    },
    {
     "name": "stderr",
     "output_type": "stream",
     "text": [
      "2025/07/17 17:02:47 INFO dspy.evaluate.evaluate: Average Metric: 4 / 35 (11.4%)\n"
     ]
    },
    {
     "name": "stdout",
     "output_type": "stream",
     "text": [
      "\n"
     ]
    },
    {
     "name": "stderr",
     "output_type": "stream",
     "text": [
      "2025/07/17 17:02:47 INFO dspy.teleprompt.mipro_optimizer_v2: Score: 11.43 on minibatch of size 35 with parameters ['Predictor 0: Instruction 1', 'Predictor 0: Few-Shot Set 4'].\n",
      "2025/07/17 17:02:47 INFO dspy.teleprompt.mipro_optimizer_v2: Minibatch scores so far: [2.86, 11.43, 8.57, 2.86, 17.14, 11.43, 5.71, 11.43]\n",
      "2025/07/17 17:02:47 INFO dspy.teleprompt.mipro_optimizer_v2: Full eval scores so far: [13.89, 12.5]\n",
      "2025/07/17 17:02:47 INFO dspy.teleprompt.mipro_optimizer_v2: Best full score so far: 13.89\n",
      "2025/07/17 17:02:47 INFO dspy.teleprompt.mipro_optimizer_v2: ==========================================\n",
      "\n",
      "\n",
      "2025/07/17 17:02:47 INFO dspy.teleprompt.mipro_optimizer_v2: == Trial 11 / 13 - Minibatch ==\n"
     ]
    },
    {
     "name": "stdout",
     "output_type": "stream",
     "text": [
      "Average Metric: 6.00 / 35 (17.1%): 100%|██████████| 35/35 [00:00<00:00, 908.48it/s] "
     ]
    },
    {
     "name": "stderr",
     "output_type": "stream",
     "text": [
      "2025/07/17 17:02:47 INFO dspy.evaluate.evaluate: Average Metric: 6 / 35 (17.1%)\n"
     ]
    },
    {
     "name": "stdout",
     "output_type": "stream",
     "text": [
      "\n"
     ]
    },
    {
     "name": "stderr",
     "output_type": "stream",
     "text": [
      "2025/07/17 17:02:48 INFO dspy.teleprompt.mipro_optimizer_v2: Score: 17.14 on minibatch of size 35 with parameters ['Predictor 0: Instruction 0', 'Predictor 0: Few-Shot Set 5'].\n",
      "2025/07/17 17:02:48 INFO dspy.teleprompt.mipro_optimizer_v2: Minibatch scores so far: [2.86, 11.43, 8.57, 2.86, 17.14, 11.43, 5.71, 11.43, 17.14]\n",
      "2025/07/17 17:02:48 INFO dspy.teleprompt.mipro_optimizer_v2: Full eval scores so far: [13.89, 12.5]\n",
      "2025/07/17 17:02:48 INFO dspy.teleprompt.mipro_optimizer_v2: Best full score so far: 13.89\n",
      "2025/07/17 17:02:48 INFO dspy.teleprompt.mipro_optimizer_v2: ==========================================\n",
      "\n",
      "\n",
      "2025/07/17 17:02:48 INFO dspy.teleprompt.mipro_optimizer_v2: == Trial 12 / 13 - Minibatch ==\n"
     ]
    },
    {
     "name": "stdout",
     "output_type": "stream",
     "text": [
      "Average Metric: 4.00 / 35 (11.4%): 100%|██████████| 35/35 [00:00<00:00, 507.99it/s]"
     ]
    },
    {
     "name": "stderr",
     "output_type": "stream",
     "text": [
      "2025/07/17 17:02:48 INFO dspy.evaluate.evaluate: Average Metric: 4 / 35 (11.4%)\n"
     ]
    },
    {
     "name": "stdout",
     "output_type": "stream",
     "text": [
      "\n"
     ]
    },
    {
     "name": "stderr",
     "output_type": "stream",
     "text": [
      "2025/07/17 17:02:48 INFO dspy.teleprompt.mipro_optimizer_v2: Score: 11.43 on minibatch of size 35 with parameters ['Predictor 0: Instruction 0', 'Predictor 0: Few-Shot Set 5'].\n",
      "2025/07/17 17:02:48 INFO dspy.teleprompt.mipro_optimizer_v2: Minibatch scores so far: [2.86, 11.43, 8.57, 2.86, 17.14, 11.43, 5.71, 11.43, 17.14, 11.43]\n",
      "2025/07/17 17:02:48 INFO dspy.teleprompt.mipro_optimizer_v2: Full eval scores so far: [13.89, 12.5]\n",
      "2025/07/17 17:02:48 INFO dspy.teleprompt.mipro_optimizer_v2: Best full score so far: 13.89\n",
      "2025/07/17 17:02:48 INFO dspy.teleprompt.mipro_optimizer_v2: ==========================================\n",
      "\n",
      "\n",
      "2025/07/17 17:02:48 INFO dspy.teleprompt.mipro_optimizer_v2: ===== Trial 13 / 13 - Full Evaluation =====\n",
      "2025/07/17 17:02:48 INFO dspy.teleprompt.mipro_optimizer_v2: Doing full eval on next top averaging program (Avg Score: 11.43) from minibatch trials...\n"
     ]
    },
    {
     "name": "stdout",
     "output_type": "stream",
     "text": [
      "Average Metric: 4.00 / 28 (14.3%):  38%|███▊      | 27/72 [02:07<03:32,  4.72s/it] "
     ]
    },
    {
     "name": "stderr",
     "output_type": "stream",
     "text": [
      "2025/07/17 17:04:56 WARNING dspy.adapters.json_adapter: Failed to use structured output format, falling back to JSON mode.\n"
     ]
    },
    {
     "name": "stdout",
     "output_type": "stream",
     "text": [
      "Average Metric: 4.00 / 34 (11.8%):  46%|████▌     | 33/72 [02:07<02:57,  4.55s/it]"
     ]
    },
    {
     "name": "stderr",
     "output_type": "stream",
     "text": [
      "2025/07/17 17:04:58 WARNING dspy.adapters.json_adapter: Failed to use structured output format, falling back to JSON mode.\n"
     ]
    },
    {
     "name": "stdout",
     "output_type": "stream",
     "text": [
      "Average Metric: 7.00 / 72 (9.7%): : 74it [07:03,  5.72s/it]                       "
     ]
    },
    {
     "name": "stderr",
     "output_type": "stream",
     "text": [
      "2025/07/17 17:09:52 INFO dspy.evaluate.evaluate: Average Metric: 7 / 72 (9.7%)\n",
      "2025/07/17 17:09:52 INFO dspy.teleprompt.mipro_optimizer_v2: Full eval scores so far: [13.89, 12.5, 9.72]\n",
      "2025/07/17 17:09:52 INFO dspy.teleprompt.mipro_optimizer_v2: Best full score so far: 13.89\n",
      "2025/07/17 17:09:52 INFO dspy.teleprompt.mipro_optimizer_v2: =======================\n",
      "2025/07/17 17:09:52 INFO dspy.teleprompt.mipro_optimizer_v2: \n",
      "\n",
      "2025/07/17 17:09:52 INFO dspy.teleprompt.mipro_optimizer_v2: Returning best identified program with score 13.89!\n"
     ]
    },
    {
     "name": "stdout",
     "output_type": "stream",
     "text": [
      "\n"
     ]
    }
   ],
   "source": [
    "trained_module, paradigm_examples = run_evaluation()"
   ]
  },
  {
   "cell_type": "code",
   "execution_count": 52,
   "id": "b452a56c",
   "metadata": {},
   "outputs": [
    {
     "name": "stdout",
     "output_type": "stream",
     "text": [
      "Running evaluation...\n"
     ]
    },
    {
     "name": "stderr",
     "output_type": "stream",
     "text": [
      "  0%|          | 0/9 [00:00<?, ?it/s]"
     ]
    },
    {
     "name": "stdout",
     "output_type": "stream",
     "text": [
      "Evaluating section: presupposition_both_presupposition\n"
     ]
    },
    {
     "name": "stderr",
     "output_type": "stream",
     "text": []
    },
    {
     "name": "stdout",
     "output_type": "stream",
     "text": [
      "Paradigm 0 consistency: 0.01736983605538045\n",
      "Paradigm 1 consistency: 0.01736983605538034\n",
      "Paradigm 2 consistency: 0.01736983605538045\n",
      "Paradigm 3 consistency: 0.01736983605538034\n",
      "Paradigm 4 consistency: 0.01736983605538034\n",
      "Paradigm 5 consistency: 0.01736983605538045\n",
      "Paradigm 6 consistency: 0.01736983605538034\n",
      "Paradigm 7 consistency: 0.01736983605538034\n",
      "Paradigm 8 consistency: 0.01736983605538045\n",
      "Paradigm 9 consistency: 0.03826325692095478\n"
     ]
    },
    {
     "name": "stderr",
     "output_type": "stream",
     "text": [
      "\n"
     ]
    },
    {
     "name": "stdout",
     "output_type": "stream",
     "text": [
      "Paradigm 10 consistency: 0.047909643385225076\n"
     ]
    },
    {
     "name": "stderr",
     "output_type": "stream",
     "text": [
      " 11%|█         | 11/100 [00:00<00:01, 53.13it/s]\u001b[A"
     ]
    },
    {
     "name": "stdout",
     "output_type": "stream",
     "text": [
      "Paradigm 11 consistency: 0.01736983605538034\n",
      "Paradigm 12 consistency: 0.01736983605538045\n",
      "Paradigm 13 consistency: 0.01736983605538034\n",
      "Paradigm 14 consistency: 0.01736983605538034\n",
      "Paradigm 15 consistency: 0.03826325692095478\n",
      "Paradigm 16 consistency: 0.047909643385224854\n",
      "Paradigm 17 consistency: 0.03826325692095478\n",
      "Paradigm 18 consistency: 0.01736983605538034\n",
      "Paradigm 19 consistency: 0.01736983605538045\n",
      "Paradigm 20 consistency: 0.01736983605538034\n",
      "Paradigm 21 consistency: 0.01736983605538034\n"
     ]
    },
    {
     "name": "stderr",
     "output_type": "stream",
     "text": []
    },
    {
     "name": "stdout",
     "output_type": "stream",
     "text": [
      "Paradigm 22 consistency: 0.01736983605538045\n",
      "Paradigm 23 consistency: 0.0024805242792796944\n",
      "Paradigm 24 consistency: 0.01736983605538034\n",
      "Paradigm 25 consistency: 0.07413710786179006\n",
      "Paradigm 26 consistency: 0.01736983605538034\n",
      "Paradigm 27 consistency: 0.01736983605538045\n",
      "Paradigm 28 consistency: 0.01736983605538045\n",
      "Paradigm 29 consistency: 0.03826325692095478\n",
      "Paradigm 30 consistency: 0.0024805242792796944\n",
      "Paradigm 31 consistency: 0.01736983605538045\n",
      "Paradigm 32 consistency: 0.01736983605538034\n",
      "Paradigm 33 consistency: 0.03826325692095478\n"
     ]
    },
    {
     "name": "stderr",
     "output_type": "stream",
     "text": []
    },
    {
     "name": "stdout",
     "output_type": "stream",
     "text": [
      "Paradigm 34 consistency: 0.01736983605538034\n",
      "Paradigm 35 consistency: 0.047909643385225076\n",
      "Paradigm 36 consistency: 0.01736983605538045\n",
      "Paradigm 37 consistency: 0.07413710786179006\n",
      "Paradigm 38 consistency: 0.01736983605538045\n",
      "Paradigm 39 consistency: 0.010502461377285166\n",
      "Paradigm 40 consistency: 0.01736983605538045\n",
      "Paradigm 41 consistency: 0.01736983605538045\n",
      "Paradigm 42 consistency: 0.01736983605538045\n",
      "Paradigm 43 consistency: 0.01736983605538034\n",
      "Paradigm 44 consistency: 0.01736983605538034\n",
      "Paradigm 45 consistency: 0.01736983605538034\n"
     ]
    },
    {
     "name": "stderr",
     "output_type": "stream",
     "text": [
      "\n"
     ]
    },
    {
     "name": "stdout",
     "output_type": "stream",
     "text": [
      "Paradigm 46 consistency: 0.047909643385225076\n",
      "Paradigm 47 consistency: 0.01736983605538034\n",
      "Paradigm 48 consistency: 0.01736983605538034\n",
      "Paradigm 49 consistency: 0.01736983605538045\n",
      "Paradigm 50 consistency: 0.03826325692095478\n",
      "Paradigm 51 consistency: 0.01736983605538045\n",
      "Paradigm 52 consistency: 0.01736983605538045\n",
      "Paradigm 53 consistency: 0.01736983605538045\n",
      "Paradigm 54 consistency: 0.01736983605538045\n",
      "Paradigm 55 consistency: 0.01736983605538045\n",
      "Paradigm 56 consistency: 0.01736983605538045\n",
      "Paradigm 57 consistency: 0.01736983605538045\n",
      "Paradigm 58 consistency: 0.01736983605538034\n",
      "Paradigm 59 consistency: 0.01736983605538045\n",
      "Paradigm 60 consistency: 0.010502461377285166\n"
     ]
    },
    {
     "name": "stderr",
     "output_type": "stream",
     "text": [
      " 61%|██████    | 61/100 [00:01<00:00, 56.14it/s]\u001b[A\n"
     ]
    },
    {
     "name": "stdout",
     "output_type": "stream",
     "text": [
      "Paradigm 61 consistency: 0.01736983605538045\n",
      "Paradigm 62 consistency: 0.01736983605538034\n",
      "Paradigm 63 consistency: 0.01736983605538045\n",
      "Paradigm 64 consistency: 0.01736983605538034\n",
      "Paradigm 65 consistency: 0.01736983605538034\n",
      "Paradigm 66 consistency: 0.01736983605538045\n",
      "Paradigm 67 consistency: 0.01736983605538045\n",
      "Paradigm 68 consistency: 0.01736983605538034\n",
      "Paradigm 69 consistency: 0.0024805242792796944\n",
      "Paradigm 70 consistency: 0.010502461377285166\n",
      "Paradigm 71 consistency: 0.03826325692095478\n",
      "Paradigm 72 consistency: 0.01736983605538034\n",
      "Paradigm 73 consistency: 0.01736983605538045\n"
     ]
    },
    {
     "name": "stderr",
     "output_type": "stream",
     "text": [
      " 74%|███████▍  | 74/100 [00:01<00:00, 57.77it/s]\u001b[A"
     ]
    },
    {
     "name": "stdout",
     "output_type": "stream",
     "text": [
      "Paradigm 74 consistency: 0.03826325692095478\n",
      "Paradigm 75 consistency: 0.0958883125600768\n",
      "Paradigm 76 consistency: 0.01736983605538034\n",
      "Paradigm 77 consistency: 0.01736983605538034\n",
      "Paradigm 78 consistency: 0.01736983605538045\n",
      "Paradigm 79 consistency: 0.010502461377285166\n",
      "Paradigm 80 consistency: 0.01736983605538045\n",
      "Paradigm 81 consistency: 0.01736983605538045\n",
      "Paradigm 82 consistency: 0.01736983605538034\n",
      "Paradigm 83 consistency: 0.01736983605538045\n",
      "Paradigm 84 consistency: 0.01736983605538045\n",
      "Paradigm 85 consistency: 0.01736983605538034\n"
     ]
    },
    {
     "name": "stderr",
     "output_type": "stream",
     "text": []
    },
    {
     "name": "stdout",
     "output_type": "stream",
     "text": [
      "Paradigm 86 consistency: 0.01736983605538034\n",
      "Paradigm 87 consistency: 0.07413710786179006\n",
      "Paradigm 88 consistency: 0.047909643385224854\n",
      "Paradigm 89 consistency: 0.01736983605538045\n",
      "Paradigm 90 consistency: 0.047909643385224854\n",
      "Paradigm 91 consistency: 0.01736983605538045\n",
      "Paradigm 92 consistency: 0.01736983605538045\n",
      "Paradigm 93 consistency: 0.03826325692095478\n",
      "Paradigm 94 consistency: 0.01736983605538034\n",
      "Paradigm 95 consistency: 0.01736983605538045\n",
      "Paradigm 96 consistency: 0.01736983605538045\n",
      "Paradigm 97 consistency: 0.03826325692095478\n"
     ]
    },
    {
     "name": "stderr",
     "output_type": "stream",
     "text": [
      "100%|██████████| 100/100 [00:01<00:00, 53.10it/s]\n"
     ]
    },
    {
     "name": "stdout",
     "output_type": "stream",
     "text": [
      "Paradigm 98 consistency: 0.047909643385224854\n",
      "Paradigm 99 consistency: 0.01736983605538045\n",
      "1900\n",
      "Calculate metrics by transformation\n"
     ]
    },
    {
     "name": "stderr",
     "output_type": "stream",
     "text": [
      "100%|██████████| 19/19 [00:01<00:00, 10.84it/s]\n",
      " 22%|██▏       | 2/9 [00:03<00:13,  1.95s/it]"
     ]
    },
    {
     "name": "stdout",
     "output_type": "stream",
     "text": [
      "Section presupposition_both_presupposition:\n",
      "  Accuracy: 0.9763\n",
      "  Precision: 0.9767\n",
      "  Recall: 0.9773\n",
      "  F1: 0.9769\n",
      "  Consistency: 0.0234\n",
      "\n",
      "Evaluating section: presupposition_change_of_state\n"
     ]
    },
    {
     "name": "stderr",
     "output_type": "stream",
     "text": []
    },
    {
     "name": "stdout",
     "output_type": "stream",
     "text": [
      "Paradigm 0 consistency: 0.5145392392540866\n",
      "Paradigm 1 consistency: 0.39871518417755825\n",
      "Paradigm 2 consistency: 0.3141871168274789\n",
      "Paradigm 3 consistency: 0.7025277510807103\n",
      "Paradigm 4 consistency: 0.39871518417755825\n",
      "Paradigm 5 consistency: 0.5115068636860558\n",
      "Paradigm 6 consistency: 0.5115068636860558\n",
      "Paradigm 7 consistency: 0.5115068636860558\n",
      "Paradigm 8 consistency: 0.3028137911081479\n",
      "Paradigm 9 consistency: 0.5115068636860558\n"
     ]
    },
    {
     "name": "stderr",
     "output_type": "stream",
     "text": []
    },
    {
     "name": "stdout",
     "output_type": "stream",
     "text": [
      "Paradigm 10 consistency: 0.6272947035832889\n",
      "Paradigm 11 consistency: 0.5115068636860558\n",
      "Paradigm 12 consistency: 0.314187116827479\n",
      "Paradigm 13 consistency: 0.3141871168274789\n",
      "Paradigm 14 consistency: 0.314187116827479\n",
      "Paradigm 15 consistency: 0.37075077614396534\n",
      "Paradigm 16 consistency: 0.24936273490419736\n"
     ]
    },
    {
     "name": "stderr",
     "output_type": "stream",
     "text": []
    },
    {
     "name": "stdout",
     "output_type": "stream",
     "text": [
      "Paradigm 17 consistency: 0.5115068636860558\n",
      "Paradigm 18 consistency: 0.314187116827479\n",
      "Paradigm 19 consistency: 0.5115068636860558\n",
      "Paradigm 20 consistency: 0.6272947035832889\n",
      "Paradigm 21 consistency: 0.6272947035832889\n",
      "Paradigm 22 consistency: 0.37075077614396534\n",
      "Paradigm 23 consistency: 0.5115068636860558\n",
      "Paradigm 24 consistency: 0.20033199319823147\n",
      "Paradigm 25 consistency: 0.3141871168274789\n"
     ]
    },
    {
     "name": "stderr",
     "output_type": "stream",
     "text": []
    },
    {
     "name": "stdout",
     "output_type": "stream",
     "text": [
      "Paradigm 26 consistency: 0.3555333547974129\n",
      "Paradigm 27 consistency: 0.6272947035832889\n",
      "Paradigm 28 consistency: 0.5115068636860558\n",
      "Paradigm 29 consistency: 0.5145392392540866\n",
      "Paradigm 30 consistency: 0.5115068636860558\n",
      "Paradigm 31 consistency: 0.3555333547974129\n",
      "Paradigm 32 consistency: 0.5145392392540866\n",
      "Paradigm 33 consistency: 0.37075077614396534\n",
      "Paradigm 34 consistency: 0.5145392392540866\n",
      "Paradigm 35 consistency: 0.5145392392540866\n",
      "Paradigm 36 consistency: 0.314187116827479\n",
      "Paradigm 37 consistency: 0.6272947035832889\n"
     ]
    },
    {
     "name": "stderr",
     "output_type": "stream",
     "text": []
    },
    {
     "name": "stdout",
     "output_type": "stream",
     "text": [
      "Paradigm 38 consistency: 0.37075077614396534\n",
      "Paradigm 39 consistency: 0.6272947035832889\n",
      "Paradigm 40 consistency: 0.42378260447830407\n",
      "Paradigm 41 consistency: 0.5145392392540866\n",
      "Paradigm 42 consistency: 0.7025277510807103\n",
      "Paradigm 43 consistency: 0.5145392392540866\n",
      "Paradigm 44 consistency: 0.7025277510807103\n",
      "Paradigm 45 consistency: 0.5115068636860558\n",
      "Paradigm 46 consistency: 0.7025277510807103\n",
      "Paradigm 47 consistency: 0.5115068636860558\n",
      "Paradigm 48 consistency: 0.5115068636860558\n",
      "Paradigm 49 consistency: 0.7025277510807103\n",
      "Paradigm 50 consistency: 0.3555333547974129\n",
      "Paradigm 51 consistency: 0.39871518417755825\n",
      "Paradigm 52 consistency: 0.314187116827479\n",
      "Paradigm 53 consistency: 0.6272947035832889\n",
      "Paradigm 54 consistency: 0.16494454884084464\n",
      "Paradigm 55 consistency: 0.17194835729502667\n",
      "Paradigm 56 consistency: 0.7025277510807103\n"
     ]
    },
    {
     "name": "stderr",
     "output_type": "stream",
     "text": []
    },
    {
     "name": "stdout",
     "output_type": "stream",
     "text": [
      "Paradigm 57 consistency: 0.3141871168274789\n",
      "Paradigm 58 consistency: 0.3028137911081479\n",
      "Paradigm 59 consistency: 0.3028137911081479\n",
      "Paradigm 60 consistency: 0.2575124304578764\n",
      "Paradigm 61 consistency: 0.37075077614396534\n",
      "Paradigm 62 consistency: 0.6272947035832889\n",
      "Paradigm 63 consistency: 0.5145392392540866\n",
      "Paradigm 64 consistency: 0.5115068636860558\n",
      "Paradigm 65 consistency: 0.16494454884084464\n"
     ]
    },
    {
     "name": "stderr",
     "output_type": "stream",
     "text": []
    },
    {
     "name": "stdout",
     "output_type": "stream",
     "text": [
      "Paradigm 66 consistency: 0.7025277510807103\n",
      "Paradigm 67 consistency: 0.07413710786179006\n",
      "Paradigm 68 consistency: 0.7025277510807103\n",
      "Paradigm 69 consistency: 0.7025277510807103\n",
      "Paradigm 70 consistency: 0.5145392392540866\n",
      "Paradigm 71 consistency: 0.5145392392540866\n",
      "Paradigm 72 consistency: 0.12691452647336965\n",
      "Paradigm 73 consistency: 0.6272947035832889\n",
      "Paradigm 74 consistency: 0.17194835729502667\n",
      "Paradigm 75 consistency: 0.5115068636860558\n",
      "Paradigm 76 consistency: 0.7025277510807103\n"
     ]
    },
    {
     "name": "stderr",
     "output_type": "stream",
     "text": []
    },
    {
     "name": "stdout",
     "output_type": "stream",
     "text": [
      "Paradigm 77 consistency: 0.5115068636860558\n",
      "Paradigm 78 consistency: 0.314187116827479\n",
      "Paradigm 79 consistency: 0.39871518417755825\n",
      "Paradigm 80 consistency: 0.5115068636860558\n",
      "Paradigm 81 consistency: 0.1148097082393531\n",
      "Paradigm 82 consistency: 0.3028137911081479\n",
      "Paradigm 83 consistency: 0.37075077614396534\n",
      "Paradigm 84 consistency: 0.20033199319823147\n"
     ]
    },
    {
     "name": "stderr",
     "output_type": "stream",
     "text": []
    },
    {
     "name": "stdout",
     "output_type": "stream",
     "text": [
      "Paradigm 85 consistency: 0.3555333547974129\n",
      "Paradigm 86 consistency: 0.3028137911081479\n",
      "Paradigm 87 consistency: 0.314187116827479\n",
      "Paradigm 88 consistency: 0.42378260447830407\n",
      "Paradigm 89 consistency: 0.314187116827479\n",
      "Paradigm 90 consistency: 0.7025277510807103\n",
      "Paradigm 91 consistency: 0.314187116827479\n",
      "Paradigm 92 consistency: 0.314187116827479\n",
      "Paradigm 93 consistency: 0.7025277510807103\n",
      "Paradigm 94 consistency: 0.42378260447830407\n"
     ]
    },
    {
     "name": "stderr",
     "output_type": "stream",
     "text": [
      "100%|██████████| 100/100 [00:02<00:00, 44.65it/s]\n"
     ]
    },
    {
     "name": "stdout",
     "output_type": "stream",
     "text": [
      "Paradigm 95 consistency: 0.5115068636860558\n",
      "Paradigm 96 consistency: 0.2330839172350092\n",
      "Paradigm 97 consistency: 0.42378260447830407\n",
      "Paradigm 98 consistency: 0.314187116827479\n",
      "Paradigm 99 consistency: 0.39871518417755825\n",
      "1900\n",
      "Calculate metrics by transformation\n"
     ]
    },
    {
     "name": "stderr",
     "output_type": "stream",
     "text": [
      "100%|██████████| 19/19 [00:01<00:00, 11.03it/s]\n",
      " 33%|███▎      | 3/9 [00:08<00:17,  2.88s/it]"
     ]
    },
    {
     "name": "stdout",
     "output_type": "stream",
     "text": [
      "Section presupposition_change_of_state:\n",
      "  Accuracy: 0.5679\n",
      "  Precision: 0.6619\n",
      "  Recall: 0.4970\n",
      "  F1: 0.4706\n",
      "  Consistency: 0.4412\n",
      "\n",
      "Evaluating section: presupposition_cleft_existence\n"
     ]
    },
    {
     "name": "stderr",
     "output_type": "stream",
     "text": []
    },
    {
     "name": "stdout",
     "output_type": "stream",
     "text": [
      "Paradigm 0 consistency: 0.3555333547974129\n",
      "Paradigm 1 consistency: 0.3555333547974129\n",
      "Paradigm 2 consistency: 0.3555333547974129\n",
      "Paradigm 3 consistency: 0.3555333547974129\n",
      "Paradigm 4 consistency: 0.3555333547974129\n",
      "Paradigm 5 consistency: 0.26342943586645207\n",
      "Paradigm 6 consistency: 0.24936273490419736\n",
      "Paradigm 7 consistency: 0.42378260447830407\n",
      "Paradigm 8 consistency: 0.42378260447830407\n",
      "Paradigm 9 consistency: 0.5115068636860558\n",
      "Paradigm 10 consistency: 0.3555333547974129\n"
     ]
    },
    {
     "name": "stderr",
     "output_type": "stream",
     "text": []
    },
    {
     "name": "stdout",
     "output_type": "stream",
     "text": [
      "Paradigm 11 consistency: 0.42378260447830407\n",
      "Paradigm 12 consistency: 0.3555333547974129\n",
      "Paradigm 13 consistency: 0.24936273490419736\n",
      "Paradigm 14 consistency: 0.3555333547974129\n",
      "Paradigm 15 consistency: 0.24936273490419725\n",
      "Paradigm 16 consistency: 0.20033199319823147\n",
      "Paradigm 17 consistency: 0.39871518417755825\n",
      "Paradigm 18 consistency: 0.3555333547974129\n"
     ]
    },
    {
     "name": "stderr",
     "output_type": "stream",
     "text": []
    },
    {
     "name": "stdout",
     "output_type": "stream",
     "text": [
      "Paradigm 19 consistency: 0.2330839172350092\n",
      "Paradigm 20 consistency: 0.24936273490419725\n",
      "Paradigm 21 consistency: 0.24936273490419736\n",
      "Paradigm 22 consistency: 0.3555333547974129\n",
      "Paradigm 23 consistency: 0.3555333547974129\n",
      "Paradigm 24 consistency: 0.3555333547974129\n",
      "Paradigm 25 consistency: 0.5115068636860558\n",
      "Paradigm 26 consistency: 0.42378260447830407\n",
      "Paradigm 27 consistency: 0.3555333547974129\n",
      "Paradigm 28 consistency: 0.3028137911081479\n",
      "Paradigm 29 consistency: 0.3555333547974129\n",
      "Paradigm 30 consistency: 0.17194835729502667\n"
     ]
    },
    {
     "name": "stderr",
     "output_type": "stream",
     "text": []
    },
    {
     "name": "stdout",
     "output_type": "stream",
     "text": [
      "Paradigm 31 consistency: 0.3555333547974129\n",
      "Paradigm 32 consistency: 0.20033199319823147\n",
      "Paradigm 33 consistency: 0.3555333547974129\n",
      "Paradigm 34 consistency: 0.42378260447830407\n",
      "Paradigm 35 consistency: 0.24936273490419736\n",
      "Paradigm 36 consistency: 0.42378260447830407\n",
      "Paradigm 37 consistency: 0.3555333547974129\n",
      "Paradigm 38 consistency: 0.3141871168274789\n",
      "Paradigm 39 consistency: 0.24936273490419736\n",
      "Paradigm 40 consistency: 0.24936273490419736\n",
      "Paradigm 41 consistency: 0.42378260447830407\n",
      "Paradigm 42 consistency: 0.24936273490419736\n"
     ]
    },
    {
     "name": "stderr",
     "output_type": "stream",
     "text": []
    },
    {
     "name": "stdout",
     "output_type": "stream",
     "text": [
      "Paradigm 43 consistency: 0.3555333547974129\n",
      "Paradigm 44 consistency: 0.3555333547974129\n",
      "Paradigm 45 consistency: 0.42378260447830407\n",
      "Paradigm 46 consistency: 0.3555333547974129\n",
      "Paradigm 47 consistency: 0.3141871168274789\n",
      "Paradigm 48 consistency: 0.2330839172350092\n",
      "Paradigm 49 consistency: 0.12691452647336965\n",
      "Paradigm 50 consistency: 0.20033199319823147\n",
      "Paradigm 51 consistency: 0.3555333547974129\n",
      "Paradigm 52 consistency: 0.3028137911081479\n"
     ]
    },
    {
     "name": "stderr",
     "output_type": "stream",
     "text": [
      "\n"
     ]
    },
    {
     "name": "stdout",
     "output_type": "stream",
     "text": [
      "Paradigm 53 consistency: 0.24936273490419736\n",
      "Paradigm 54 consistency: 0.2330839172350092\n",
      "Paradigm 55 consistency: 0.20033199319823147\n",
      "Paradigm 56 consistency: 0.3555333547974129\n",
      "Paradigm 57 consistency: 0.3555333547974129\n",
      "Paradigm 58 consistency: 0.42378260447830407\n",
      "Paradigm 59 consistency: 0.3555333547974129\n",
      "Paradigm 60 consistency: 0.42378260447830407\n",
      "Paradigm 61 consistency: 0.3555333547974129\n",
      "Paradigm 62 consistency: 0.3555333547974129\n",
      "Paradigm 63 consistency: 0.314187116827479\n",
      "Paradigm 64 consistency: 0.3555333547974129\n",
      "Paradigm 65 consistency: 0.42378260447830407\n"
     ]
    },
    {
     "name": "stderr",
     "output_type": "stream",
     "text": [
      " 66%|██████▌   | 66/100 [00:01<00:00, 53.27it/s]\u001b[A"
     ]
    },
    {
     "name": "stdout",
     "output_type": "stream",
     "text": [
      "Paradigm 66 consistency: 0.42378260447830407\n",
      "Paradigm 67 consistency: 0.20033199319823147\n",
      "Paradigm 68 consistency: 0.3555333547974129\n",
      "Paradigm 69 consistency: 0.42378260447830407\n",
      "Paradigm 70 consistency: 0.17194835729502667\n",
      "Paradigm 71 consistency: 0.42378260447830407\n",
      "Paradigm 72 consistency: 0.24936273490419736\n",
      "Paradigm 73 consistency: 0.24936273490419736\n",
      "Paradigm 74 consistency: 0.42378260447830407\n"
     ]
    },
    {
     "name": "stderr",
     "output_type": "stream",
     "text": []
    },
    {
     "name": "stdout",
     "output_type": "stream",
     "text": [
      "Paradigm 75 consistency: 0.3555333547974129\n",
      "Paradigm 76 consistency: 0.3555333547974129\n",
      "Paradigm 77 consistency: 0.42378260447830407\n",
      "Paradigm 78 consistency: 0.24936273490419725\n",
      "Paradigm 79 consistency: 0.3555333547974129\n",
      "Paradigm 80 consistency: 0.42378260447830407\n",
      "Paradigm 81 consistency: 0.24936273490419736\n",
      "Paradigm 82 consistency: 0.3555333547974129\n",
      "Paradigm 83 consistency: 0.24936273490419736\n",
      "Paradigm 84 consistency: 0.3555333547974129\n"
     ]
    },
    {
     "name": "stderr",
     "output_type": "stream",
     "text": []
    },
    {
     "name": "stdout",
     "output_type": "stream",
     "text": [
      "Paradigm 85 consistency: 0.24936273490419736\n",
      "Paradigm 86 consistency: 0.24936273490419736\n",
      "Paradigm 87 consistency: 0.42378260447830407\n",
      "Paradigm 88 consistency: 0.3555333547974129\n",
      "Paradigm 89 consistency: 0.24936273490419736\n",
      "Paradigm 90 consistency: 0.3555333547974129\n",
      "Paradigm 91 consistency: 0.3555333547974129\n",
      "Paradigm 92 consistency: 0.42378260447830407\n",
      "Paradigm 93 consistency: 0.3555333547974129\n",
      "Paradigm 94 consistency: 0.42378260447830407\n"
     ]
    },
    {
     "name": "stderr",
     "output_type": "stream",
     "text": [
      "100%|██████████| 100/100 [00:02<00:00, 44.37it/s]\n"
     ]
    },
    {
     "name": "stdout",
     "output_type": "stream",
     "text": [
      "Paradigm 95 consistency: 0.3028137911081479\n",
      "Paradigm 96 consistency: 0.3555333547974129\n",
      "Paradigm 97 consistency: 0.314187116827479\n",
      "Paradigm 98 consistency: 0.42378260447830407\n",
      "Paradigm 99 consistency: 0.42378260447830407\n",
      "1900\n",
      "Calculate metrics by transformation\n"
     ]
    },
    {
     "name": "stderr",
     "output_type": "stream",
     "text": [
      "100%|██████████| 19/19 [00:01<00:00, 11.83it/s]\n",
      " 44%|████▍     | 4/9 [00:12<00:16,  3.33s/it]"
     ]
    },
    {
     "name": "stdout",
     "output_type": "stream",
     "text": [
      "Section presupposition_cleft_existence:\n",
      "  Accuracy: 0.6884\n",
      "  Precision: 0.8489\n",
      "  Recall: 0.6312\n",
      "  F1: 0.6415\n",
      "  Consistency: 0.3334\n",
      "\n",
      "Evaluating section: presupposition_cleft_uniqueness\n"
     ]
    },
    {
     "name": "stderr",
     "output_type": "stream",
     "text": []
    },
    {
     "name": "stdout",
     "output_type": "stream",
     "text": [
      "Paradigm 0 consistency: 0.7025277510807103\n",
      "Paradigm 1 consistency: 0.6272947035832889\n",
      "Paradigm 2 consistency: 0.7025277510807103\n",
      "Paradigm 3 consistency: 0.7025277510807103\n",
      "Paradigm 4 consistency: 0.7025277510807103\n",
      "Paradigm 5 consistency: 0.7025277510807103\n",
      "Paradigm 6 consistency: 0.7025277510807103\n",
      "Paradigm 7 consistency: 0.7025277510807103\n",
      "Paradigm 8 consistency: 0.7025277510807103\n",
      "Paradigm 9 consistency: 0.7025277510807103\n",
      "Paradigm 10 consistency: 0.7025277510807103"
     ]
    },
    {
     "name": "stderr",
     "output_type": "stream",
     "text": []
    },
    {
     "name": "stdout",
     "output_type": "stream",
     "text": [
      "\n",
      "Paradigm 11 consistency: 0.7025277510807103\n",
      "Paradigm 12 consistency: 0.7025277510807103\n",
      "Paradigm 13 consistency: 0.7025277510807103\n",
      "Paradigm 14 consistency: 0.7025277510807103\n",
      "Paradigm 15 consistency: 0.7025277510807103\n",
      "Paradigm 16 consistency: 0.7025277510807103\n",
      "Paradigm 17 consistency: 0.7025277510807103\n",
      "Paradigm 18 consistency: 0.7025277510807103\n",
      "Paradigm 19 consistency: 0.5145392392540866\n",
      "Paradigm 20 consistency: 0.7025277510807103\n",
      "Paradigm 21 consistency: 0.7025277510807103\n",
      "Paradigm 22 consistency: 0.7025277510807103\n"
     ]
    },
    {
     "name": "stderr",
     "output_type": "stream",
     "text": [
      "\n"
     ]
    },
    {
     "name": "stdout",
     "output_type": "stream",
     "text": [
      "Paradigm 23 consistency: 0.7025277510807103\n"
     ]
    },
    {
     "name": "stderr",
     "output_type": "stream",
     "text": [
      " 24%|██▍       | 24/100 [00:00<00:01, 52.86it/s]\u001b[A\n"
     ]
    },
    {
     "name": "stdout",
     "output_type": "stream",
     "text": [
      "Paradigm 24 consistency: 0.7025277510807103\n",
      "Paradigm 25 consistency: 0.7025277510807103\n",
      "Paradigm 26 consistency: 0.7025277510807103\n",
      "Paradigm 27 consistency: 0.7025277510807103\n",
      "Paradigm 28 consistency: 0.5145392392540866\n",
      "Paradigm 29 consistency: 0.7025277510807103\n",
      "Paradigm 30 consistency: 0.7025277510807103\n",
      "Paradigm 31 consistency: 0.7025277510807103\n",
      "Paradigm 32 consistency: 0.7025277510807103\n",
      "Paradigm 33 consistency: 0.7025277510807103\n",
      "Paradigm 34 consistency: 0.7025277510807103\n",
      "Paradigm 35 consistency: 0.7025277510807103\n",
      "Paradigm 36 consistency: 0.7025277510807103\n",
      "Paradigm 37 consistency: 0.6272947035832889\n",
      "Paradigm 38 consistency: 0.7025277510807103\n"
     ]
    },
    {
     "name": "stderr",
     "output_type": "stream",
     "text": [
      " 39%|███▉      | 39/100 [00:00<00:00, 63.60it/s]\u001b[A"
     ]
    },
    {
     "name": "stdout",
     "output_type": "stream",
     "text": [
      "Paradigm 39 consistency: 0.7025277510807103\n",
      "Paradigm 40 consistency: 0.7025277510807103\n",
      "Paradigm 41 consistency: 0.7025277510807103\n",
      "Paradigm 42 consistency: 0.7025277510807103\n",
      "Paradigm 43 consistency: 0.7025277510807103\n",
      "Paradigm 44 consistency: 0.7025277510807103\n",
      "Paradigm 45 consistency: 0.7025277510807103\n",
      "Paradigm 46 consistency: 0.7025277510807103\n"
     ]
    },
    {
     "name": "stderr",
     "output_type": "stream",
     "text": []
    },
    {
     "name": "stdout",
     "output_type": "stream",
     "text": [
      "Paradigm 47 consistency: 0.6272947035832889\n",
      "Paradigm 48 consistency: 0.7025277510807103\n",
      "Paradigm 49 consistency: 0.7025277510807103\n",
      "Paradigm 50 consistency: 0.7025277510807103\n",
      "Paradigm 51 consistency: 0.7025277510807103\n",
      "Paradigm 52 consistency: 0.7025277510807103\n",
      "Paradigm 53 consistency: 0.7025277510807103\n",
      "Paradigm 54 consistency: 0.7025277510807103\n",
      "Paradigm 55 consistency: 0.7025277510807103\n",
      "Paradigm 56 consistency: 0.7025277510807103\n",
      "Paradigm 57 consistency: 0.7025277510807103\n",
      "Paradigm 58 consistency: 0.7025277510807103\n"
     ]
    },
    {
     "name": "stderr",
     "output_type": "stream",
     "text": []
    },
    {
     "name": "stdout",
     "output_type": "stream",
     "text": [
      "Paradigm 59 consistency: 0.5145392392540866\n",
      "Paradigm 60 consistency: 0.6272947035832889\n",
      "Paradigm 61 consistency: 0.7025277510807103\n",
      "Paradigm 62 consistency: 0.7025277510807103\n",
      "Paradigm 63 consistency: 0.7025277510807103\n",
      "Paradigm 64 consistency: 0.7025277510807103\n",
      "Paradigm 65 consistency: 0.7025277510807103\n",
      "Paradigm 66 consistency: 0.7025277510807103\n",
      "Paradigm 67 consistency: 0.7025277510807103\n",
      "Paradigm 68 consistency: 0.7025277510807103\n",
      "Paradigm 69 consistency: 0.7025277510807103\n",
      "Paradigm 70 consistency: 0.42378260447830407\n"
     ]
    },
    {
     "name": "stderr",
     "output_type": "stream",
     "text": []
    },
    {
     "name": "stdout",
     "output_type": "stream",
     "text": [
      "Paradigm 71 consistency: 0.7025277510807103\n",
      "Paradigm 72 consistency: 0.7025277510807103\n",
      "Paradigm 73 consistency: 0.7025277510807103\n",
      "Paradigm 74 consistency: 0.7025277510807103\n",
      "Paradigm 75 consistency: 0.7025277510807103\n",
      "Paradigm 76 consistency: 0.7025277510807103\n",
      "Paradigm 77 consistency: 0.7025277510807103\n",
      "Paradigm 78 consistency: 0.7025277510807103\n",
      "Paradigm 79 consistency: 0.7025277510807103\n",
      "Paradigm 80 consistency: 0.5145392392540866\n",
      "Paradigm 81 consistency: 0.7025277510807103\n",
      "Paradigm 82 consistency: 0.7025277510807103\n",
      "Paradigm 83 consistency: 0.7025277510807103\n",
      "Paradigm 84 consistency: 0.7025277510807103\n",
      "Paradigm 85 consistency: 0.7025277510807103\n",
      "Paradigm 86 consistency: 0.5145392392540866\n",
      "Paradigm 87 consistency: 0.7025277510807103\n",
      "Paradigm 88 consistency: 0.7025277510807103\n"
     ]
    },
    {
     "name": "stderr",
     "output_type": "stream",
     "text": [
      "100%|██████████| 100/100 [00:01<00:00, 53.51it/s]"
     ]
    },
    {
     "name": "stdout",
     "output_type": "stream",
     "text": [
      "Paradigm 89 consistency: 0.7025277510807103\n",
      "Paradigm 90 consistency: 0.7025277510807103\n",
      "Paradigm 91 consistency: 0.7025277510807103\n",
      "Paradigm 92 consistency: 0.7025277510807103\n",
      "Paradigm 93 consistency: 0.7025277510807103\n",
      "Paradigm 94 consistency: 0.7025277510807103\n",
      "Paradigm 95 consistency: 0.7025277510807103\n",
      "Paradigm 96 consistency: 0.7025277510807103\n",
      "Paradigm 97 consistency: 0.7025277510807103\n",
      "Paradigm 98 consistency: 0.7025277510807103\n",
      "Paradigm 99 consistency: 0.7025277510807103\n"
     ]
    },
    {
     "name": "stderr",
     "output_type": "stream",
     "text": [
      "\n"
     ]
    },
    {
     "name": "stdout",
     "output_type": "stream",
     "text": [
      "1900\n",
      "Calculate metrics by transformation\n"
     ]
    },
    {
     "name": "stderr",
     "output_type": "stream",
     "text": [
      "100%|██████████| 19/19 [00:01<00:00, 10.34it/s]\n",
      " 56%|█████▌    | 5/9 [00:16<00:14,  3.54s/it]"
     ]
    },
    {
     "name": "stdout",
     "output_type": "stream",
     "text": [
      "Section presupposition_cleft_uniqueness:\n",
      "  Accuracy: 0.4789\n",
      "  Precision: 0.7490\n",
      "  Recall: 0.3950\n",
      "  F1: 0.3120\n",
      "  Consistency: 0.6873\n",
      "\n",
      "Evaluating section: presupposition_only_presupposition\n"
     ]
    },
    {
     "name": "stderr",
     "output_type": "stream",
     "text": []
    },
    {
     "name": "stdout",
     "output_type": "stream",
     "text": [
      "Paradigm 0 consistency: 0.314187116827479\n",
      "Paradigm 1 consistency: 0.16494454884084464\n",
      "Paradigm 2 consistency: 0.2330839172350092\n",
      "Paradigm 3 consistency: 0.20033199319823147\n",
      "Paradigm 4 consistency: 0.24936273490419736\n",
      "Paradigm 5 consistency: 0.07768278518151717\n",
      "Paradigm 6 consistency: 0.3141871168274789\n",
      "Paradigm 7 consistency: 0.314187116827479\n",
      "Paradigm 8 consistency: 0.16494454884084464\n"
     ]
    },
    {
     "name": "stderr",
     "output_type": "stream",
     "text": []
    },
    {
     "name": "stdout",
     "output_type": "stream",
     "text": [
      "Paradigm 9 consistency: 0.20033199319823147"
     ]
    },
    {
     "name": "stderr",
     "output_type": "stream",
     "text": []
    },
    {
     "name": "stdout",
     "output_type": "stream",
     "text": [
      "\n",
      "Paradigm 10 consistency: 0.20033199319823147\n",
      "Paradigm 11 consistency: 0.39871518417755825\n",
      "Paradigm 12 consistency: 0.3555333547974129\n",
      "Paradigm 13 consistency: 0.16494454884084464\n",
      "Paradigm 14 consistency: 0.24936273490419736\n",
      "Paradigm 15 consistency: 0.24936273490419736\n",
      "Paradigm 16 consistency: 0.20033199319823147\n",
      "Paradigm 17 consistency: 0.20033199319823147\n",
      "Paradigm 18 consistency: 0.20033199319823147\n"
     ]
    },
    {
     "name": "stderr",
     "output_type": "stream",
     "text": []
    },
    {
     "name": "stdout",
     "output_type": "stream",
     "text": [
      "Paradigm 19 consistency: 0.20033199319823147\n",
      "Paradigm 20 consistency: 0.20033199319823147\n",
      "Paradigm 21 consistency: 0.20033199319823147\n",
      "Paradigm 22 consistency: 0.12691452647336965\n",
      "Paradigm 23 consistency: 0.16494454884084464\n"
     ]
    },
    {
     "name": "stderr",
     "output_type": "stream",
     "text": []
    },
    {
     "name": "stdout",
     "output_type": "stream",
     "text": [
      "Paradigm 24 consistency: 0.39871518417755825\n",
      "Paradigm 25 consistency: 0.20033199319823147\n",
      "Paradigm 26 consistency: 0.17194835729502667\n",
      "Paradigm 27 consistency: 0.20033199319823147\n",
      "Paradigm 28 consistency: 0.24936273490419736\n",
      "Paradigm 29 consistency: 0.39871518417755825\n",
      "Paradigm 30 consistency: 0.17194835729502667\n",
      "Paradigm 31 consistency: 0.24936273490419725\n",
      "Paradigm 32 consistency: 0.24936273490419725\n"
     ]
    },
    {
     "name": "stderr",
     "output_type": "stream",
     "text": []
    },
    {
     "name": "stdout",
     "output_type": "stream",
     "text": [
      "Paradigm 33 consistency: 0.314187116827479\n",
      "Paradigm 34 consistency: 0.314187116827479\n",
      "Paradigm 35 consistency: 0.314187116827479\n",
      "Paradigm 36 consistency: 0.17194835729502667\n",
      "Paradigm 37 consistency: 0.314187116827479\n",
      "Paradigm 38 consistency: 0.20033199319823147\n",
      "Paradigm 39 consistency: 0.17194835729502667\n",
      "Paradigm 40 consistency: 0.3141871168274789\n"
     ]
    },
    {
     "name": "stderr",
     "output_type": "stream",
     "text": []
    },
    {
     "name": "stdout",
     "output_type": "stream",
     "text": [
      "Paradigm 41 consistency: 0.3141871168274789\n",
      "Paradigm 42 consistency: 0.24936273490419736\n",
      "Paradigm 43 consistency: 0.3141871168274789\n",
      "Paradigm 44 consistency: 0.24936273490419736\n",
      "Paradigm 45 consistency: 0.24936273490419725\n",
      "Paradigm 46 consistency: 0.14194027202555726\n",
      "Paradigm 47 consistency: 0.24936273490419725\n"
     ]
    },
    {
     "name": "stderr",
     "output_type": "stream",
     "text": [
      "\n"
     ]
    },
    {
     "name": "stdout",
     "output_type": "stream",
     "text": [
      "Paradigm 48 consistency: 0.24936273490419725\n",
      "Paradigm 49 consistency: 0.24936273490419725\n",
      "Paradigm 50 consistency: 0.24936273490419725\n",
      "Paradigm 51 consistency: 0.39871518417755825\n",
      "Paradigm 52 consistency: 0.24936273490419725\n",
      "Paradigm 53 consistency: 0.314187116827479\n"
     ]
    },
    {
     "name": "stderr",
     "output_type": "stream",
     "text": [
      " 54%|█████▍    | 54/100 [00:00<00:00, 59.56it/s]\u001b[A\n"
     ]
    },
    {
     "name": "stdout",
     "output_type": "stream",
     "text": [
      "Paradigm 54 consistency: 0.24936273490419736\n",
      "Paradigm 55 consistency: 0.314187116827479\n",
      "Paradigm 56 consistency: 0.314187116827479\n",
      "Paradigm 57 consistency: 0.20033199319823147\n",
      "Paradigm 58 consistency: 0.24936273490419736\n",
      "Paradigm 59 consistency: 0.314187116827479\n"
     ]
    },
    {
     "name": "stderr",
     "output_type": "stream",
     "text": [
      " 60%|██████    | 60/100 [00:01<00:00, 58.65it/s]\u001b[A\n"
     ]
    },
    {
     "name": "stdout",
     "output_type": "stream",
     "text": [
      "Paradigm 60 consistency: 0.20033199319823147\n",
      "Paradigm 61 consistency: 0.314187116827479\n",
      "Paradigm 62 consistency: 0.20033199319823147\n",
      "Paradigm 63 consistency: 0.20033199319823147\n",
      "Paradigm 64 consistency: 0.3141871168274789\n",
      "Paradigm 65 consistency: 0.24936273490419725\n"
     ]
    },
    {
     "name": "stderr",
     "output_type": "stream",
     "text": [
      " 66%|██████▌   | 66/100 [00:01<00:00, 57.54it/s]\u001b[A"
     ]
    },
    {
     "name": "stdout",
     "output_type": "stream",
     "text": [
      "Paradigm 66 consistency: 0.314187116827479\n",
      "Paradigm 67 consistency: 0.17194835729502667\n",
      "Paradigm 68 consistency: 0.24936273490419725\n",
      "Paradigm 69 consistency: 0.20033199319823147\n"
     ]
    },
    {
     "name": "stderr",
     "output_type": "stream",
     "text": []
    },
    {
     "name": "stdout",
     "output_type": "stream",
     "text": [
      "Paradigm 70 consistency: 0.24936273490419736\n",
      "Paradigm 71 consistency: 0.3141871168274789\n",
      "Paradigm 72 consistency: 0.314187116827479\n",
      "Paradigm 73 consistency: 0.39871518417755825\n",
      "Paradigm 74 consistency: 0.20033199319823147\n"
     ]
    },
    {
     "name": "stderr",
     "output_type": "stream",
     "text": [
      "\n"
     ]
    },
    {
     "name": "stdout",
     "output_type": "stream",
     "text": [
      "Paradigm 75 consistency: 0.24936273490419725\n",
      "Paradigm 76 consistency: 0.314187116827479\n",
      "Paradigm 77 consistency: 0.07413710786179006\n",
      "Paradigm 78 consistency: 0.3141871168274789\n",
      "Paradigm 79 consistency: 0.20033199319823147\n",
      "Paradigm 80 consistency: 0.20033199319823147\n",
      "Paradigm 81 consistency: 0.17194835729502667\n",
      "Paradigm 82 consistency: 0.20033199319823147\n",
      "Paradigm 83 consistency: 0.3141871168274789\n"
     ]
    },
    {
     "name": "stderr",
     "output_type": "stream",
     "text": [
      " 84%|████████▍ | 84/100 [00:01<00:00, 49.13it/s]\u001b[A"
     ]
    },
    {
     "name": "stdout",
     "output_type": "stream",
     "text": [
      "Paradigm 84 consistency: 0.314187116827479\n",
      "Paradigm 85 consistency: 0.2330839172350092\n",
      "Paradigm 86 consistency: 0.3141871168274789\n",
      "Paradigm 87 consistency: 0.314187116827479\n"
     ]
    },
    {
     "name": "stderr",
     "output_type": "stream",
     "text": []
    },
    {
     "name": "stdout",
     "output_type": "stream",
     "text": [
      "Paradigm 88 consistency: 0.24936273490419736\n",
      "Paradigm 89 consistency: 0.24936273490419736\n",
      "Paradigm 90 consistency: 0.17194835729502667\n",
      "Paradigm 91 consistency: 0.314187116827479\n",
      "Paradigm 92 consistency: 0.42378260447830407\n",
      "Paradigm 93 consistency: 0.24936273490419736\n",
      "Paradigm 94 consistency: 0.3141871168274789\n"
     ]
    },
    {
     "name": "stderr",
     "output_type": "stream",
     "text": []
    },
    {
     "name": "stdout",
     "output_type": "stream",
     "text": [
      "Paradigm 95 consistency: 0.314187116827479\n",
      "Paradigm 96 consistency: 0.314187116827479\n",
      "Paradigm 97 consistency: 0.314187116827479\n"
     ]
    },
    {
     "name": "stderr",
     "output_type": "stream",
     "text": [
      "100%|██████████| 100/100 [00:02<00:00, 49.61it/s]\n"
     ]
    },
    {
     "name": "stdout",
     "output_type": "stream",
     "text": [
      "Paradigm 98 consistency: 0.314187116827479\n",
      "Paradigm 99 consistency: 0.20033199319823147\n",
      "1900\n",
      "Calculate metrics by transformation\n"
     ]
    },
    {
     "name": "stderr",
     "output_type": "stream",
     "text": [
      "100%|██████████| 19/19 [00:01<00:00, 11.95it/s]\n",
      " 67%|██████▋   | 6/9 [00:19<00:10,  3.65s/it]"
     ]
    },
    {
     "name": "stdout",
     "output_type": "stream",
     "text": [
      "Section presupposition_only_presupposition:\n",
      "  Accuracy: 0.6995\n",
      "  Precision: 0.8292\n",
      "  Recall: 0.6557\n",
      "  F1: 0.6786\n",
      "  Consistency: 0.2541\n",
      "\n",
      "Evaluating section: presupposition_possessed_definites_existence\n"
     ]
    },
    {
     "name": "stderr",
     "output_type": "stream",
     "text": []
    },
    {
     "name": "stdout",
     "output_type": "stream",
     "text": [
      "Paradigm 0 consistency: 0.047909643385224854\n",
      "Paradigm 1 consistency: 0.01736983605538045\n",
      "Paradigm 2 consistency: 0.01736983605538034\n",
      "Paradigm 3 consistency: 0.01736983605538045\n",
      "Paradigm 4 consistency: 0.0958883125600768\n",
      "Paradigm 5 consistency: 0.01736983605538045\n"
     ]
    },
    {
     "name": "stderr",
     "output_type": "stream",
     "text": []
    },
    {
     "name": "stdout",
     "output_type": "stream",
     "text": [
      "Paradigm 6 consistency: 0.01736983605538034\n",
      "Paradigm 7 consistency: 0.01736983605538045\n",
      "Paradigm 8 consistency: 0.01736983605538034\n"
     ]
    },
    {
     "name": "stderr",
     "output_type": "stream",
     "text": [
      "\n"
     ]
    },
    {
     "name": "stdout",
     "output_type": "stream",
     "text": [
      "Paradigm 9 consistency: 0.16494454884084464\n",
      "Paradigm 10 consistency: 0.047909643385224854\n",
      "Paradigm 11 consistency: 0.01736983605538034\n",
      "Paradigm 12 consistency: 0.01736983605538034\n",
      "Paradigm 13 consistency: 0.3141871168274789\n",
      "Paradigm 14 consistency: 0.01736983605538045\n",
      "Paradigm 15 consistency: 0.01736983605538045\n",
      "Paradigm 16 consistency: 0.0024805242792796944\n",
      "Paradigm 17 consistency: 0.047909643385225076\n"
     ]
    },
    {
     "name": "stderr",
     "output_type": "stream",
     "text": [
      " 18%|█▊        | 18/100 [00:00<00:01, 45.53it/s]\u001b[A"
     ]
    },
    {
     "name": "stdout",
     "output_type": "stream",
     "text": [
      "Paradigm 18 consistency: 0.01736983605538034\n",
      "Paradigm 19 consistency: 0.01736983605538034\n",
      "Paradigm 20 consistency: 0.047909643385224854\n",
      "Paradigm 21 consistency: 0.047909643385224854\n"
     ]
    },
    {
     "name": "stderr",
     "output_type": "stream",
     "text": [
      "\n"
     ]
    },
    {
     "name": "stdout",
     "output_type": "stream",
     "text": [
      "Paradigm 22 consistency: 0.047909643385224854\n",
      "Paradigm 23 consistency: 0.01736983605538045\n",
      "Paradigm 24 consistency: 0.01736983605538045\n",
      "Paradigm 25 consistency: 0.01736983605538034\n",
      "Paradigm 26 consistency: 0.01736983605538034\n",
      "Paradigm 27 consistency: 0.047909643385224854\n",
      "Paradigm 28 consistency: 0.01736983605538045\n"
     ]
    },
    {
     "name": "stderr",
     "output_type": "stream",
     "text": [
      " 29%|██▉       | 29/100 [00:00<00:01, 47.55it/s]\u001b[A"
     ]
    },
    {
     "name": "stdout",
     "output_type": "stream",
     "text": [
      "Paradigm 29 consistency: 0.047909643385225076\n",
      "Paradigm 30 consistency: 0.047909643385225076\n",
      "Paradigm 31 consistency: 0.2330839172350092\n",
      "Paradigm 32 consistency: 0.17194835729502667\n"
     ]
    },
    {
     "name": "stderr",
     "output_type": "stream",
     "text": []
    },
    {
     "name": "stdout",
     "output_type": "stream",
     "text": [
      "Paradigm 33 consistency: 0.01736983605538034\n",
      "Paradigm 34 consistency: 0.0958883125600768\n",
      "Paradigm 35 consistency: 0.01736983605538045\n",
      "Paradigm 36 consistency: 0.01736983605538034\n",
      "Paradigm 37 consistency: 0.01736983605538045\n",
      "Paradigm 38 consistency: 0.01736983605538034\n",
      "Paradigm 39 consistency: 0.37075077614396534\n"
     ]
    },
    {
     "name": "stderr",
     "output_type": "stream",
     "text": []
    },
    {
     "name": "stdout",
     "output_type": "stream",
     "text": [
      "Paradigm 40 consistency: 0.01736983605538034\n",
      "Paradigm 41 consistency: 0.24936273490419736\n",
      "Paradigm 42 consistency: 0.5115068636860558\n",
      "Paradigm 43 consistency: 0.01736983605538034\n",
      "Paradigm 44 consistency: 0.01736983605538045\n"
     ]
    },
    {
     "name": "stderr",
     "output_type": "stream",
     "text": []
    },
    {
     "name": "stdout",
     "output_type": "stream",
     "text": [
      "Paradigm 45 consistency: 0.01736983605538034\n",
      "Paradigm 46 consistency: 0.03826325692095478\n",
      "Paradigm 47 consistency: 0.01736983605538045\n",
      "Paradigm 48 consistency: 0.01736983605538034\n",
      "Paradigm 49 consistency: 0.047909643385224854\n"
     ]
    },
    {
     "name": "stderr",
     "output_type": "stream",
     "text": []
    },
    {
     "name": "stdout",
     "output_type": "stream",
     "text": [
      "Paradigm 50 consistency: 0.01736983605538045\n",
      "Paradigm 51 consistency: 0.01736983605538045\n",
      "Paradigm 52 consistency: 0.0958883125600769\n"
     ]
    },
    {
     "name": "stderr",
     "output_type": "stream",
     "text": [
      "\n"
     ]
    },
    {
     "name": "stdout",
     "output_type": "stream",
     "text": [
      "Paradigm 53 consistency: 0.0024805242792796944\n",
      "Paradigm 54 consistency: 0.01736983605538045\n",
      "Paradigm 55 consistency: 0.07768278518151717\n",
      "Paradigm 56 consistency: 0.047909643385224854\n",
      "Paradigm 57 consistency: 0.01736983605538045\n",
      "Paradigm 58 consistency: 0.047909643385225076\n",
      "Paradigm 59 consistency: 0.047909643385225076\n",
      "Paradigm 60 consistency: 0.01736983605538045\n",
      "Paradigm 61 consistency: 0.047909643385224854\n",
      "Paradigm 62 consistency: 0.01736983605538045\n"
     ]
    },
    {
     "name": "stderr",
     "output_type": "stream",
     "text": [
      " 63%|██████▎   | 63/100 [00:01<00:00, 50.09it/s]\u001b[A"
     ]
    },
    {
     "name": "stdout",
     "output_type": "stream",
     "text": [
      "Paradigm 63 consistency: 0.01736983605538045\n",
      "Paradigm 64 consistency: 0.01736983605538045\n",
      "Paradigm 65 consistency: 0.01736983605538034\n",
      "Paradigm 66 consistency: 0.01736983605538034\n",
      "Paradigm 67 consistency: 0.01736983605538034\n",
      "Paradigm 68 consistency: 0.01736983605538034\n"
     ]
    },
    {
     "name": "stderr",
     "output_type": "stream",
     "text": [
      "\n"
     ]
    },
    {
     "name": "stdout",
     "output_type": "stream",
     "text": [
      "Paradigm 69 consistency: 0.01736983605538034\n",
      "Paradigm 70 consistency: 0.01736983605538045\n",
      "Paradigm 71 consistency: 0.01736983605538045\n",
      "Paradigm 72 consistency: 0.01736983605538045\n",
      "Paradigm 73 consistency: 0.047909643385224854\n",
      "Paradigm 74 consistency: 0.0958883125600769\n",
      "Paradigm 75 consistency: 0.01736983605538045\n",
      "Paradigm 76 consistency: 0.07413710786179006\n",
      "Paradigm 77 consistency: 0.0958883125600768\n",
      "Paradigm 78 consistency: 0.01736983605538045\n"
     ]
    },
    {
     "name": "stderr",
     "output_type": "stream",
     "text": [
      " 79%|███████▉  | 79/100 [00:01<00:00, 61.62it/s]\u001b[A\n"
     ]
    },
    {
     "name": "stdout",
     "output_type": "stream",
     "text": [
      "Paradigm 79 consistency: 0.047909643385225076\n",
      "Paradigm 80 consistency: 0.01736983605538045\n",
      "Paradigm 81 consistency: 0.01736983605538045\n",
      "Paradigm 82 consistency: 0.0958883125600768\n",
      "Paradigm 83 consistency: 0.01736983605538034\n",
      "Paradigm 84 consistency: 0.12691452647336965\n",
      "Paradigm 85 consistency: 0.01736983605538045\n"
     ]
    },
    {
     "name": "stderr",
     "output_type": "stream",
     "text": [
      " 86%|████████▌ | 86/100 [00:01<00:00, 60.82it/s]\u001b[A"
     ]
    },
    {
     "name": "stdout",
     "output_type": "stream",
     "text": [
      "Paradigm 86 consistency: 0.314187116827479\n",
      "Paradigm 87 consistency: 0.047909643385224854\n",
      "Paradigm 88 consistency: 0.047909643385225076\n",
      "Paradigm 89 consistency: 0.01736983605538045\n",
      "Paradigm 90 consistency: 0.047909643385224854\n",
      "Paradigm 91 consistency: 0.01736983605538034\n"
     ]
    },
    {
     "name": "stderr",
     "output_type": "stream",
     "text": [
      "100%|██████████| 100/100 [00:01<00:00, 51.70it/s]"
     ]
    },
    {
     "name": "stdout",
     "output_type": "stream",
     "text": [
      "Paradigm 92 consistency: 0.047909643385225076\n",
      "Paradigm 93 consistency: 0.047909643385225076\n",
      "Paradigm 94 consistency: 0.07413710786178995\n",
      "Paradigm 95 consistency: 0.047909643385225076\n",
      "Paradigm 96 consistency: 0.01736983605538034\n",
      "Paradigm 97 consistency: 0.047909643385224854\n",
      "Paradigm 98 consistency: 0.12691452647336965\n",
      "Paradigm 99 consistency: 0.01736983605538045\n",
      "1900\n"
     ]
    },
    {
     "name": "stderr",
     "output_type": "stream",
     "text": [
      "\n"
     ]
    },
    {
     "name": "stdout",
     "output_type": "stream",
     "text": [
      "Calculate metrics by transformation\n"
     ]
    },
    {
     "name": "stderr",
     "output_type": "stream",
     "text": [
      "100%|██████████| 19/19 [00:01<00:00, 11.21it/s]\n",
      " 78%|███████▊  | 7/9 [00:23<00:07,  3.75s/it]"
     ]
    },
    {
     "name": "stdout",
     "output_type": "stream",
     "text": [
      "Section presupposition_possessed_definites_existence:\n",
      "  Accuracy: 0.9374\n",
      "  Precision: 0.9449\n",
      "  Recall: 0.9289\n",
      "  F1: 0.9355\n",
      "  Consistency: 0.0549\n",
      "\n",
      "Evaluating section: presupposition_possessed_definites_uniqueness\n"
     ]
    },
    {
     "name": "stderr",
     "output_type": "stream",
     "text": []
    },
    {
     "name": "stdout",
     "output_type": "stream",
     "text": [
      "Paradigm 0 consistency: 0.37075077614396534\n",
      "Paradigm 1 consistency: 0.7025277510807103\n",
      "Paradigm 2 consistency: 0.7025277510807103\n",
      "Paradigm 3 consistency: 0.7025277510807103\n",
      "Paradigm 4 consistency: 0.7025277510807103\n",
      "Paradigm 5 consistency: 0.7025277510807103\n",
      "Paradigm 6 consistency: 0.7025277510807103\n",
      "Paradigm 7 consistency: 0.7025277510807103\n",
      "Paradigm 8 consistency: 0.7025277510807103\n",
      "Paradigm 9 consistency: 0.7025277510807103\n",
      "Paradigm 10 consistency: 0.7025277510807103\n",
      "Paradigm 11 consistency: 0.7025277510807103\n"
     ]
    },
    {
     "name": "stderr",
     "output_type": "stream",
     "text": []
    },
    {
     "name": "stdout",
     "output_type": "stream",
     "text": [
      "Paradigm 12 consistency: 0.7025277510807103\n",
      "Paradigm 13 consistency: 0.7025277510807103\n",
      "Paradigm 14 consistency: 0.7025277510807103\n",
      "Paradigm 15 consistency: 0.7025277510807103\n"
     ]
    },
    {
     "name": "stderr",
     "output_type": "stream",
     "text": []
    },
    {
     "name": "stdout",
     "output_type": "stream",
     "text": [
      "Paradigm 16 consistency: 0.5145392392540866\n",
      "Paradigm 17 consistency: 0.7025277510807103\n",
      "Paradigm 18 consistency: 0.5115068636860558\n",
      "Paradigm 19 consistency: 0.5145392392540866\n",
      "Paradigm 20 consistency: 0.7025277510807103\n",
      "Paradigm 21 consistency: 0.7025277510807103\n",
      "Paradigm 22 consistency: 0.5145392392540866\n",
      "Paradigm 23 consistency: 0.7025277510807103\n"
     ]
    },
    {
     "name": "stderr",
     "output_type": "stream",
     "text": []
    },
    {
     "name": "stdout",
     "output_type": "stream",
     "text": [
      "Paradigm 24 consistency: 0.7025277510807103\n",
      "Paradigm 25 consistency: 0.5145392392540866\n",
      "Paradigm 26 consistency: 0.7025277510807103\n",
      "Paradigm 27 consistency: 0.7025277510807103\n",
      "Paradigm 28 consistency: 0.7025277510807103\n"
     ]
    },
    {
     "name": "stderr",
     "output_type": "stream",
     "text": []
    },
    {
     "name": "stdout",
     "output_type": "stream",
     "text": [
      "Paradigm 29 consistency: 0.20033199319823147\n",
      "Paradigm 30 consistency: 0.5145392392540866\n",
      "Paradigm 31 consistency: 0.7025277510807103\n",
      "Paradigm 32 consistency: 0.7025277510807103\n",
      "Paradigm 33 consistency: 0.7025277510807103\n",
      "Paradigm 34 consistency: 0.7025277510807103\n"
     ]
    },
    {
     "name": "stderr",
     "output_type": "stream",
     "text": []
    },
    {
     "name": "stdout",
     "output_type": "stream",
     "text": [
      "Paradigm 35 consistency: 0.7025277510807103\n",
      "Paradigm 36 consistency: 0.7025277510807103\n",
      "Paradigm 37 consistency: 0.7025277510807103\n",
      "Paradigm 38 consistency: 0.7025277510807103\n",
      "Paradigm 39 consistency: 0.7025277510807103\n",
      "Paradigm 40 consistency: 0.7025277510807103\n",
      "Paradigm 41 consistency: 0.7025277510807103\n",
      "Paradigm 42 consistency: 0.7025277510807103\n",
      "Paradigm 43 consistency: 0.7025277510807103\n",
      "Paradigm 44 consistency: 0.7025277510807103\n",
      "Paradigm 45 consistency: 0.7025277510807103\n"
     ]
    },
    {
     "name": "stderr",
     "output_type": "stream",
     "text": []
    },
    {
     "name": "stdout",
     "output_type": "stream",
     "text": [
      "Paradigm 46 consistency: 0.7025277510807103\n",
      "Paradigm 47 consistency: 0.7025277510807103\n",
      "Paradigm 48 consistency: 0.3141871168274789\n",
      "Paradigm 49 consistency: 0.7025277510807103\n",
      "Paradigm 50 consistency: 0.7025277510807103\n",
      "Paradigm 51 consistency: 0.7025277510807103\n"
     ]
    },
    {
     "name": "stderr",
     "output_type": "stream",
     "text": []
    },
    {
     "name": "stdout",
     "output_type": "stream",
     "text": [
      "Paradigm 52 consistency: 0.7025277510807103\n"
     ]
    },
    {
     "name": "stderr",
     "output_type": "stream",
     "text": []
    },
    {
     "name": "stdout",
     "output_type": "stream",
     "text": [
      "Paradigm 53 consistency: 0.7025277510807103\n"
     ]
    },
    {
     "name": "stderr",
     "output_type": "stream",
     "text": []
    },
    {
     "name": "stdout",
     "output_type": "stream",
     "text": [
      "Paradigm 54 consistency: 0.7025277510807103\n"
     ]
    },
    {
     "name": "stderr",
     "output_type": "stream",
     "text": []
    },
    {
     "name": "stdout",
     "output_type": "stream",
     "text": [
      "Paradigm 55 consistency: 0.7025277510807103\n"
     ]
    },
    {
     "name": "stderr",
     "output_type": "stream",
     "text": []
    },
    {
     "name": "stdout",
     "output_type": "stream",
     "text": [
      "Paradigm 56 consistency: 0.7025277510807103\n"
     ]
    },
    {
     "name": "stderr",
     "output_type": "stream",
     "text": []
    },
    {
     "name": "stdout",
     "output_type": "stream",
     "text": [
      "Paradigm 57 consistency: 0.7025277510807103\n"
     ]
    },
    {
     "name": "stderr",
     "output_type": "stream",
     "text": []
    },
    {
     "name": "stdout",
     "output_type": "stream",
     "text": [
      "Paradigm 58 consistency: 0.7025277510807103\n"
     ]
    },
    {
     "name": "stderr",
     "output_type": "stream",
     "text": []
    },
    {
     "name": "stdout",
     "output_type": "stream",
     "text": [
      "Paradigm 59 consistency: 0.7025277510807103\n"
     ]
    },
    {
     "name": "stderr",
     "output_type": "stream",
     "text": []
    },
    {
     "name": "stdout",
     "output_type": "stream",
     "text": [
      "Paradigm 60 consistency: 0.7025277510807103\n"
     ]
    },
    {
     "name": "stderr",
     "output_type": "stream",
     "text": []
    },
    {
     "name": "stdout",
     "output_type": "stream",
     "text": [
      "Paradigm 61 consistency: 0.7025277510807103\n"
     ]
    },
    {
     "name": "stderr",
     "output_type": "stream",
     "text": []
    },
    {
     "name": "stdout",
     "output_type": "stream",
     "text": [
      "Paradigm 62 consistency: 0.7025277510807103\n"
     ]
    },
    {
     "name": "stderr",
     "output_type": "stream",
     "text": []
    },
    {
     "name": "stdout",
     "output_type": "stream",
     "text": [
      "Paradigm 63 consistency: 0.7025277510807103\n"
     ]
    },
    {
     "name": "stderr",
     "output_type": "stream",
     "text": []
    },
    {
     "name": "stdout",
     "output_type": "stream",
     "text": [
      "Paradigm 64 consistency: 0.7025277510807103\n"
     ]
    },
    {
     "name": "stderr",
     "output_type": "stream",
     "text": []
    },
    {
     "name": "stdout",
     "output_type": "stream",
     "text": [
      "Paradigm 65 consistency: 0.7025277510807103\n"
     ]
    },
    {
     "name": "stderr",
     "output_type": "stream",
     "text": []
    },
    {
     "name": "stdout",
     "output_type": "stream",
     "text": [
      "Paradigm 66 consistency: 0.7025277510807103\n"
     ]
    },
    {
     "name": "stderr",
     "output_type": "stream",
     "text": []
    },
    {
     "name": "stdout",
     "output_type": "stream",
     "text": [
      "Paradigm 67 consistency: 0.7025277510807103\n"
     ]
    },
    {
     "name": "stderr",
     "output_type": "stream",
     "text": []
    },
    {
     "name": "stdout",
     "output_type": "stream",
     "text": [
      "Paradigm 68 consistency: 0.7025277510807103\n"
     ]
    },
    {
     "name": "stderr",
     "output_type": "stream",
     "text": []
    },
    {
     "name": "stdout",
     "output_type": "stream",
     "text": [
      "Paradigm 69 consistency: 0.7025277510807103\n"
     ]
    },
    {
     "name": "stderr",
     "output_type": "stream",
     "text": []
    },
    {
     "name": "stdout",
     "output_type": "stream",
     "text": [
      "Paradigm 70 consistency: 0.7025277510807103\n"
     ]
    },
    {
     "name": "stderr",
     "output_type": "stream",
     "text": []
    },
    {
     "name": "stdout",
     "output_type": "stream",
     "text": [
      "Paradigm 71 consistency: 0.7025277510807103\n"
     ]
    },
    {
     "name": "stderr",
     "output_type": "stream",
     "text": []
    },
    {
     "name": "stdout",
     "output_type": "stream",
     "text": [
      "Paradigm 72 consistency: 0.7025277510807103\n"
     ]
    },
    {
     "name": "stderr",
     "output_type": "stream",
     "text": []
    },
    {
     "name": "stdout",
     "output_type": "stream",
     "text": [
      "Paradigm 73 consistency: 0.7025277510807103\n"
     ]
    },
    {
     "name": "stderr",
     "output_type": "stream",
     "text": []
    },
    {
     "name": "stdout",
     "output_type": "stream",
     "text": [
      "Paradigm 74 consistency: 0.7025277510807103\n"
     ]
    },
    {
     "name": "stderr",
     "output_type": "stream",
     "text": []
    },
    {
     "name": "stdout",
     "output_type": "stream",
     "text": [
      "Paradigm 75 consistency: 0.7025277510807103\n"
     ]
    },
    {
     "name": "stderr",
     "output_type": "stream",
     "text": []
    },
    {
     "name": "stdout",
     "output_type": "stream",
     "text": [
      "Paradigm 76 consistency: 0.7025277510807103\n"
     ]
    },
    {
     "name": "stderr",
     "output_type": "stream",
     "text": []
    },
    {
     "name": "stdout",
     "output_type": "stream",
     "text": [
      "Paradigm 77 consistency: 0.7025277510807103\n"
     ]
    },
    {
     "name": "stderr",
     "output_type": "stream",
     "text": []
    },
    {
     "name": "stdout",
     "output_type": "stream",
     "text": [
      "Paradigm 78 consistency: 0.7025277510807103\n"
     ]
    },
    {
     "name": "stderr",
     "output_type": "stream",
     "text": []
    },
    {
     "name": "stdout",
     "output_type": "stream",
     "text": [
      "Paradigm 79 consistency: 0.7025277510807103\n"
     ]
    },
    {
     "name": "stderr",
     "output_type": "stream",
     "text": []
    },
    {
     "name": "stdout",
     "output_type": "stream",
     "text": [
      "Paradigm 80 consistency: 0.7025277510807103\n"
     ]
    },
    {
     "name": "stderr",
     "output_type": "stream",
     "text": []
    },
    {
     "name": "stdout",
     "output_type": "stream",
     "text": [
      "Paradigm 81 consistency: 0.7025277510807103\n"
     ]
    },
    {
     "name": "stderr",
     "output_type": "stream",
     "text": []
    },
    {
     "name": "stdout",
     "output_type": "stream",
     "text": [
      "Paradigm 82 consistency: 0.7025277510807103\n"
     ]
    },
    {
     "name": "stderr",
     "output_type": "stream",
     "text": []
    },
    {
     "name": "stdout",
     "output_type": "stream",
     "text": [
      "Paradigm 83 consistency: 0.7025277510807103\n"
     ]
    },
    {
     "name": "stderr",
     "output_type": "stream",
     "text": []
    },
    {
     "name": "stdout",
     "output_type": "stream",
     "text": [
      "Paradigm 84 consistency: 0.7025277510807103\n"
     ]
    },
    {
     "name": "stderr",
     "output_type": "stream",
     "text": []
    },
    {
     "name": "stdout",
     "output_type": "stream",
     "text": [
      "Paradigm 85 consistency: 0.7025277510807103\n"
     ]
    },
    {
     "name": "stderr",
     "output_type": "stream",
     "text": []
    },
    {
     "name": "stdout",
     "output_type": "stream",
     "text": [
      "Paradigm 86 consistency: 0.7025277510807103\n"
     ]
    },
    {
     "name": "stderr",
     "output_type": "stream",
     "text": []
    },
    {
     "name": "stdout",
     "output_type": "stream",
     "text": [
      "Paradigm 87 consistency: 0.7025277510807103\n"
     ]
    },
    {
     "name": "stderr",
     "output_type": "stream",
     "text": []
    },
    {
     "name": "stdout",
     "output_type": "stream",
     "text": [
      "Paradigm 88 consistency: 0.7025277510807103\n"
     ]
    },
    {
     "name": "stderr",
     "output_type": "stream",
     "text": []
    },
    {
     "name": "stdout",
     "output_type": "stream",
     "text": [
      "Paradigm 89 consistency: 0.7025277510807103\n"
     ]
    },
    {
     "name": "stderr",
     "output_type": "stream",
     "text": []
    },
    {
     "name": "stdout",
     "output_type": "stream",
     "text": [
      "Paradigm 90 consistency: 0.5145392392540866\n"
     ]
    },
    {
     "name": "stderr",
     "output_type": "stream",
     "text": []
    },
    {
     "name": "stdout",
     "output_type": "stream",
     "text": [
      "Paradigm 91 consistency: 0.7025277510807103\n"
     ]
    },
    {
     "name": "stderr",
     "output_type": "stream",
     "text": []
    },
    {
     "name": "stdout",
     "output_type": "stream",
     "text": [
      "Paradigm 92 consistency: 0.7025277510807103\n"
     ]
    },
    {
     "name": "stderr",
     "output_type": "stream",
     "text": []
    },
    {
     "name": "stdout",
     "output_type": "stream",
     "text": [
      "Paradigm 93 consistency: 0.7025277510807103\n"
     ]
    },
    {
     "name": "stderr",
     "output_type": "stream",
     "text": []
    },
    {
     "name": "stdout",
     "output_type": "stream",
     "text": [
      "Paradigm 94 consistency: 0.7025277510807103\n"
     ]
    },
    {
     "name": "stderr",
     "output_type": "stream",
     "text": []
    },
    {
     "name": "stdout",
     "output_type": "stream",
     "text": [
      "Paradigm 95 consistency: 0.7025277510807103\n"
     ]
    },
    {
     "name": "stderr",
     "output_type": "stream",
     "text": []
    },
    {
     "name": "stdout",
     "output_type": "stream",
     "text": [
      "Paradigm 96 consistency: 0.7025277510807103\n"
     ]
    },
    {
     "name": "stderr",
     "output_type": "stream",
     "text": []
    },
    {
     "name": "stdout",
     "output_type": "stream",
     "text": [
      "Paradigm 97 consistency: 0.7025277510807103\n"
     ]
    },
    {
     "name": "stderr",
     "output_type": "stream",
     "text": []
    },
    {
     "name": "stdout",
     "output_type": "stream",
     "text": [
      "Paradigm 98 consistency: 0.7025277510807103\n"
     ]
    },
    {
     "name": "stderr",
     "output_type": "stream",
     "text": [
      "100%|██████████| 100/100 [1:04:47<00:00, 38.87s/it]"
     ]
    },
    {
     "name": "stdout",
     "output_type": "stream",
     "text": [
      "Paradigm 99 consistency: 0.7025277510807103\n",
      "1900\n"
     ]
    },
    {
     "name": "stderr",
     "output_type": "stream",
     "text": [
      "\n"
     ]
    },
    {
     "name": "stdout",
     "output_type": "stream",
     "text": [
      "Calculate metrics by transformation\n"
     ]
    },
    {
     "name": "stderr",
     "output_type": "stream",
     "text": [
      "100%|██████████| 19/19 [00:01<00:00, 11.17it/s]\n",
      " 89%|████████▉ | 8/9 [1:05:12<20:26, 1226.90s/it]"
     ]
    },
    {
     "name": "stdout",
     "output_type": "stream",
     "text": [
      "Section presupposition_possessed_definites_uniqueness:\n",
      "  Accuracy: 0.4805\n",
      "  Precision: 0.7378\n",
      "  Recall: 0.3968\n",
      "  F1: 0.3150\n",
      "  Consistency: 0.6771\n",
      "\n",
      "Evaluating section: presupposition_question_presupposition\n"
     ]
    },
    {
     "name": "stderr",
     "output_type": "stream",
     "text": []
    },
    {
     "name": "stdout",
     "output_type": "stream",
     "text": [
      "Paradigm 0 consistency: 0.0958883125600768\n",
      "Paradigm 1 consistency: 0.047909643385224854\n",
      "Paradigm 2 consistency: 0.16494454884084464\n",
      "Paradigm 3 consistency: 0.16494454884084464\n",
      "Paradigm 4 consistency: 0.12691452647336965\n",
      "Paradigm 5 consistency: 0.01736983605538045\n",
      "Paradigm 6 consistency: 0.20033199319823147\n"
     ]
    },
    {
     "name": "stderr",
     "output_type": "stream",
     "text": [
      "\n"
     ]
    },
    {
     "name": "stdout",
     "output_type": "stream",
     "text": [
      "Paradigm 7 consistency: 0.01736983605538034\n"
     ]
    },
    {
     "name": "stderr",
     "output_type": "stream",
     "text": [
      "  8%|▊         | 8/100 [00:00<00:02, 37.31it/s]\u001b[A"
     ]
    },
    {
     "name": "stdout",
     "output_type": "stream",
     "text": [
      "Paradigm 8 consistency: 0.035038159617655995\n",
      "Paradigm 9 consistency: 0.17194835729502667\n"
     ]
    },
    {
     "name": "stderr",
     "output_type": "stream",
     "text": []
    },
    {
     "name": "stdout",
     "output_type": "stream",
     "text": [
      "Paradigm 10 consistency: 0.047909643385225076\n"
     ]
    },
    {
     "name": "stderr",
     "output_type": "stream",
     "text": []
    },
    {
     "name": "stdout",
     "output_type": "stream",
     "text": [
      "Paradigm 11 consistency: 0.3555333547974129\n"
     ]
    },
    {
     "name": "stderr",
     "output_type": "stream",
     "text": []
    },
    {
     "name": "stdout",
     "output_type": "stream",
     "text": [
      "Paradigm 12 consistency: 0.3028137911081479\n"
     ]
    },
    {
     "name": "stderr",
     "output_type": "stream",
     "text": []
    },
    {
     "name": "stdout",
     "output_type": "stream",
     "text": [
      "Paradigm 13 consistency: 0.01736983605538045\n"
     ]
    },
    {
     "name": "stderr",
     "output_type": "stream",
     "text": []
    },
    {
     "name": "stdout",
     "output_type": "stream",
     "text": [
      "Paradigm 14 consistency: 0.26342943586645207\n"
     ]
    },
    {
     "name": "stderr",
     "output_type": "stream",
     "text": []
    },
    {
     "name": "stdout",
     "output_type": "stream",
     "text": [
      "Paradigm 15 consistency: 0.0958883125600768\n"
     ]
    },
    {
     "name": "stderr",
     "output_type": "stream",
     "text": []
    },
    {
     "name": "stdout",
     "output_type": "stream",
     "text": [
      "Paradigm 16 consistency: 0.03826325692095478\n"
     ]
    },
    {
     "name": "stderr",
     "output_type": "stream",
     "text": []
    },
    {
     "name": "stdout",
     "output_type": "stream",
     "text": [
      "Paradigm 17 consistency: 0.0958883125600769\n"
     ]
    },
    {
     "name": "stderr",
     "output_type": "stream",
     "text": []
    },
    {
     "name": "stdout",
     "output_type": "stream",
     "text": [
      "Paradigm 18 consistency: 0.20033199319823147\n"
     ]
    },
    {
     "name": "stderr",
     "output_type": "stream",
     "text": []
    },
    {
     "name": "stdout",
     "output_type": "stream",
     "text": [
      "Paradigm 19 consistency: 0.047909643385224854\n"
     ]
    },
    {
     "name": "stderr",
     "output_type": "stream",
     "text": []
    },
    {
     "name": "stdout",
     "output_type": "stream",
     "text": [
      "Paradigm 20 consistency: 0.1306021193250927\n"
     ]
    },
    {
     "name": "stderr",
     "output_type": "stream",
     "text": []
    },
    {
     "name": "stdout",
     "output_type": "stream",
     "text": [
      "Paradigm 21 consistency: 0.047909643385224854\n"
     ]
    },
    {
     "name": "stderr",
     "output_type": "stream",
     "text": []
    },
    {
     "name": "stdout",
     "output_type": "stream",
     "text": [
      "Paradigm 22 consistency: 0.035038159617655995\n"
     ]
    },
    {
     "name": "stderr",
     "output_type": "stream",
     "text": []
    },
    {
     "name": "stdout",
     "output_type": "stream",
     "text": [
      "Paradigm 23 consistency: 0.6272947035832889\n"
     ]
    },
    {
     "name": "stderr",
     "output_type": "stream",
     "text": []
    },
    {
     "name": "stdout",
     "output_type": "stream",
     "text": [
      "Paradigm 24 consistency: 0.0024805242792796944\n"
     ]
    },
    {
     "name": "stderr",
     "output_type": "stream",
     "text": []
    },
    {
     "name": "stdout",
     "output_type": "stream",
     "text": [
      "Paradigm 25 consistency: 0.20033199319823147\n"
     ]
    },
    {
     "name": "stderr",
     "output_type": "stream",
     "text": []
    },
    {
     "name": "stdout",
     "output_type": "stream",
     "text": [
      "Paradigm 26 consistency: 0.047909643385225076\n"
     ]
    },
    {
     "name": "stderr",
     "output_type": "stream",
     "text": []
    },
    {
     "name": "stdout",
     "output_type": "stream",
     "text": [
      "Paradigm 27 consistency: 0.047909643385224854\n"
     ]
    },
    {
     "name": "stderr",
     "output_type": "stream",
     "text": []
    },
    {
     "name": "stdout",
     "output_type": "stream",
     "text": [
      "Paradigm 28 consistency: 0.26342943586645207\n"
     ]
    },
    {
     "name": "stderr",
     "output_type": "stream",
     "text": []
    },
    {
     "name": "stdout",
     "output_type": "stream",
     "text": [
      "Paradigm 29 consistency: 0.07413710786179006\n"
     ]
    },
    {
     "name": "stderr",
     "output_type": "stream",
     "text": []
    },
    {
     "name": "stdout",
     "output_type": "stream",
     "text": [
      "Paradigm 30 consistency: 0.20033199319823147\n"
     ]
    },
    {
     "name": "stderr",
     "output_type": "stream",
     "text": []
    },
    {
     "name": "stdout",
     "output_type": "stream",
     "text": [
      "Paradigm 31 consistency: 0.01736983605538034\n"
     ]
    },
    {
     "name": "stderr",
     "output_type": "stream",
     "text": []
    },
    {
     "name": "stdout",
     "output_type": "stream",
     "text": [
      "Paradigm 32 consistency: 0.0958883125600769\n"
     ]
    },
    {
     "name": "stderr",
     "output_type": "stream",
     "text": []
    },
    {
     "name": "stdout",
     "output_type": "stream",
     "text": [
      "Paradigm 33 consistency: 0.0958883125600769\n"
     ]
    },
    {
     "name": "stderr",
     "output_type": "stream",
     "text": []
    },
    {
     "name": "stdout",
     "output_type": "stream",
     "text": [
      "Paradigm 34 consistency: 0.16494454884084464\n"
     ]
    },
    {
     "name": "stderr",
     "output_type": "stream",
     "text": []
    },
    {
     "name": "stdout",
     "output_type": "stream",
     "text": [
      "Paradigm 35 consistency: 0.16494454884084464\n"
     ]
    },
    {
     "name": "stderr",
     "output_type": "stream",
     "text": []
    },
    {
     "name": "stdout",
     "output_type": "stream",
     "text": [
      "Paradigm 36 consistency: 0.0958883125600768\n"
     ]
    },
    {
     "name": "stderr",
     "output_type": "stream",
     "text": []
    },
    {
     "name": "stdout",
     "output_type": "stream",
     "text": [
      "Paradigm 37 consistency: 0.07768278518151717\n"
     ]
    },
    {
     "name": "stderr",
     "output_type": "stream",
     "text": []
    },
    {
     "name": "stdout",
     "output_type": "stream",
     "text": [
      "Paradigm 38 consistency: 0.5115068636860558\n"
     ]
    },
    {
     "name": "stderr",
     "output_type": "stream",
     "text": []
    },
    {
     "name": "stdout",
     "output_type": "stream",
     "text": [
      "Paradigm 39 consistency: 0.1148097082393531\n"
     ]
    },
    {
     "name": "stderr",
     "output_type": "stream",
     "text": []
    },
    {
     "name": "stdout",
     "output_type": "stream",
     "text": [
      "Paradigm 40 consistency: 0.0958883125600768\n"
     ]
    },
    {
     "name": "stderr",
     "output_type": "stream",
     "text": []
    },
    {
     "name": "stdout",
     "output_type": "stream",
     "text": [
      "Paradigm 41 consistency: 0.16494454884084464\n"
     ]
    },
    {
     "name": "stderr",
     "output_type": "stream",
     "text": []
    },
    {
     "name": "stdout",
     "output_type": "stream",
     "text": [
      "Paradigm 42 consistency: 0.12691452647336965\n"
     ]
    },
    {
     "name": "stderr",
     "output_type": "stream",
     "text": []
    },
    {
     "name": "stdout",
     "output_type": "stream",
     "text": [
      "Paradigm 43 consistency: 0.5145392392540866\n"
     ]
    },
    {
     "name": "stderr",
     "output_type": "stream",
     "text": []
    },
    {
     "name": "stdout",
     "output_type": "stream",
     "text": [
      "Paradigm 44 consistency: 0.0958883125600768\n"
     ]
    },
    {
     "name": "stderr",
     "output_type": "stream",
     "text": []
    },
    {
     "name": "stdout",
     "output_type": "stream",
     "text": [
      "Paradigm 45 consistency: 0.12691452647336965\n"
     ]
    },
    {
     "name": "stderr",
     "output_type": "stream",
     "text": []
    },
    {
     "name": "stdout",
     "output_type": "stream",
     "text": [
      "Paradigm 46 consistency: 0.2575124304578764\n"
     ]
    },
    {
     "name": "stderr",
     "output_type": "stream",
     "text": []
    },
    {
     "name": "stdout",
     "output_type": "stream",
     "text": [
      "Paradigm 47 consistency: 0.07768278518151717\n"
     ]
    },
    {
     "name": "stderr",
     "output_type": "stream",
     "text": []
    },
    {
     "name": "stdout",
     "output_type": "stream",
     "text": [
      "Paradigm 48 consistency: 0.047909643385224854\n"
     ]
    },
    {
     "name": "stderr",
     "output_type": "stream",
     "text": []
    },
    {
     "name": "stdout",
     "output_type": "stream",
     "text": [
      "Paradigm 49 consistency: 0.12691452647336965\n"
     ]
    },
    {
     "name": "stderr",
     "output_type": "stream",
     "text": []
    },
    {
     "name": "stdout",
     "output_type": "stream",
     "text": [
      "Paradigm 50 consistency: 0.047909643385224854\n"
     ]
    },
    {
     "name": "stderr",
     "output_type": "stream",
     "text": []
    },
    {
     "name": "stdout",
     "output_type": "stream",
     "text": [
      "Paradigm 51 consistency: 0.010502461377285166\n"
     ]
    },
    {
     "name": "stderr",
     "output_type": "stream",
     "text": []
    },
    {
     "name": "stdout",
     "output_type": "stream",
     "text": [
      "Paradigm 52 consistency: 0.42378260447830407\n"
     ]
    },
    {
     "name": "stderr",
     "output_type": "stream",
     "text": []
    },
    {
     "name": "stdout",
     "output_type": "stream",
     "text": [
      "Paradigm 53 consistency: 0.1148097082393531\n"
     ]
    },
    {
     "name": "stderr",
     "output_type": "stream",
     "text": []
    },
    {
     "name": "stdout",
     "output_type": "stream",
     "text": [
      "Paradigm 54 consistency: 0.01736983605538034\n"
     ]
    },
    {
     "name": "stderr",
     "output_type": "stream",
     "text": []
    },
    {
     "name": "stdout",
     "output_type": "stream",
     "text": [
      "Paradigm 55 consistency: 0.0958883125600768\n"
     ]
    },
    {
     "name": "stderr",
     "output_type": "stream",
     "text": []
    },
    {
     "name": "stdout",
     "output_type": "stream",
     "text": [
      "Paradigm 56 consistency: 0.16494454884084464\n"
     ]
    },
    {
     "name": "stderr",
     "output_type": "stream",
     "text": []
    },
    {
     "name": "stdout",
     "output_type": "stream",
     "text": [
      "Paradigm 57 consistency: 0.2634294358664523\n"
     ]
    },
    {
     "name": "stderr",
     "output_type": "stream",
     "text": []
    },
    {
     "name": "stdout",
     "output_type": "stream",
     "text": [
      "Paradigm 58 consistency: 0.01736983605538045\n"
     ]
    },
    {
     "name": "stderr",
     "output_type": "stream",
     "text": []
    },
    {
     "name": "stdout",
     "output_type": "stream",
     "text": [
      "Paradigm 59 consistency: 0.01736983605538045\n"
     ]
    },
    {
     "name": "stderr",
     "output_type": "stream",
     "text": []
    },
    {
     "name": "stdout",
     "output_type": "stream",
     "text": [
      "Paradigm 60 consistency: 0.047909643385224854\n"
     ]
    },
    {
     "name": "stderr",
     "output_type": "stream",
     "text": []
    },
    {
     "name": "stdout",
     "output_type": "stream",
     "text": [
      "Paradigm 61 consistency: 0.01736983605538045\n"
     ]
    },
    {
     "name": "stderr",
     "output_type": "stream",
     "text": []
    },
    {
     "name": "stdout",
     "output_type": "stream",
     "text": [
      "Paradigm 62 consistency: 0.3028137911081479\n"
     ]
    },
    {
     "name": "stderr",
     "output_type": "stream",
     "text": []
    },
    {
     "name": "stdout",
     "output_type": "stream",
     "text": [
      "Paradigm 63 consistency: 0.24936273490419736\n"
     ]
    },
    {
     "name": "stderr",
     "output_type": "stream",
     "text": []
    },
    {
     "name": "stdout",
     "output_type": "stream",
     "text": [
      "Paradigm 64 consistency: 0.1306021193250927\n"
     ]
    },
    {
     "name": "stderr",
     "output_type": "stream",
     "text": []
    },
    {
     "name": "stdout",
     "output_type": "stream",
     "text": [
      "Paradigm 65 consistency: 0.07413710786178995\n"
     ]
    },
    {
     "name": "stderr",
     "output_type": "stream",
     "text": []
    },
    {
     "name": "stdout",
     "output_type": "stream",
     "text": [
      "Paradigm 66 consistency: 0.16852561199027072\n"
     ]
    },
    {
     "name": "stderr",
     "output_type": "stream",
     "text": []
    },
    {
     "name": "stdout",
     "output_type": "stream",
     "text": [
      "Paradigm 67 consistency: 0.01736983605538045\n"
     ]
    },
    {
     "name": "stderr",
     "output_type": "stream",
     "text": []
    },
    {
     "name": "stdout",
     "output_type": "stream",
     "text": [
      "Paradigm 68 consistency: 0.0958883125600768\n"
     ]
    },
    {
     "name": "stderr",
     "output_type": "stream",
     "text": []
    },
    {
     "name": "stdout",
     "output_type": "stream",
     "text": [
      "Paradigm 69 consistency: 0.0958883125600768\n"
     ]
    },
    {
     "name": "stderr",
     "output_type": "stream",
     "text": []
    },
    {
     "name": "stdout",
     "output_type": "stream",
     "text": [
      "Paradigm 70 consistency: 0.047909643385225076\n"
     ]
    },
    {
     "name": "stderr",
     "output_type": "stream",
     "text": []
    },
    {
     "name": "stdout",
     "output_type": "stream",
     "text": [
      "Paradigm 71 consistency: 0.2634294358664523\n"
     ]
    },
    {
     "name": "stderr",
     "output_type": "stream",
     "text": []
    },
    {
     "name": "stdout",
     "output_type": "stream",
     "text": [
      "Paradigm 72 consistency: 0.16494454884084464\n"
     ]
    },
    {
     "name": "stderr",
     "output_type": "stream",
     "text": []
    },
    {
     "name": "stdout",
     "output_type": "stream",
     "text": [
      "Paradigm 73 consistency: 0.01736983605538034\n"
     ]
    },
    {
     "name": "stderr",
     "output_type": "stream",
     "text": []
    },
    {
     "name": "stdout",
     "output_type": "stream",
     "text": [
      "Paradigm 74 consistency: 0.0958883125600768\n"
     ]
    },
    {
     "name": "stderr",
     "output_type": "stream",
     "text": []
    },
    {
     "name": "stdout",
     "output_type": "stream",
     "text": [
      "Paradigm 75 consistency: 0.01736983605538034\n"
     ]
    },
    {
     "name": "stderr",
     "output_type": "stream",
     "text": []
    },
    {
     "name": "stdout",
     "output_type": "stream",
     "text": [
      "Paradigm 76 consistency: 0.047909643385224854\n"
     ]
    },
    {
     "name": "stderr",
     "output_type": "stream",
     "text": []
    },
    {
     "name": "stdout",
     "output_type": "stream",
     "text": [
      "Paradigm 77 consistency: 0.01736983605538045\n"
     ]
    },
    {
     "name": "stderr",
     "output_type": "stream",
     "text": []
    },
    {
     "name": "stdout",
     "output_type": "stream",
     "text": [
      "Paradigm 78 consistency: 0.01736983605538045\n"
     ]
    },
    {
     "name": "stderr",
     "output_type": "stream",
     "text": []
    },
    {
     "name": "stdout",
     "output_type": "stream",
     "text": [
      "Paradigm 79 consistency: 0.16494454884084464\n"
     ]
    },
    {
     "name": "stderr",
     "output_type": "stream",
     "text": []
    },
    {
     "name": "stdout",
     "output_type": "stream",
     "text": [
      "Paradigm 80 consistency: 0.047909643385224854\n"
     ]
    },
    {
     "name": "stderr",
     "output_type": "stream",
     "text": []
    },
    {
     "name": "stdout",
     "output_type": "stream",
     "text": [
      "Paradigm 81 consistency: 0.1148097082393531\n"
     ]
    },
    {
     "name": "stderr",
     "output_type": "stream",
     "text": []
    },
    {
     "name": "stdout",
     "output_type": "stream",
     "text": [
      "Paradigm 82 consistency: 0.01736983605538045\n"
     ]
    },
    {
     "name": "stderr",
     "output_type": "stream",
     "text": []
    },
    {
     "name": "stdout",
     "output_type": "stream",
     "text": [
      "Paradigm 83 consistency: 0.16494454884084464\n"
     ]
    },
    {
     "name": "stderr",
     "output_type": "stream",
     "text": []
    },
    {
     "name": "stdout",
     "output_type": "stream",
     "text": [
      "Paradigm 84 consistency: 0.16852561199027072\n"
     ]
    },
    {
     "name": "stderr",
     "output_type": "stream",
     "text": []
    },
    {
     "name": "stdout",
     "output_type": "stream",
     "text": [
      "Paradigm 85 consistency: 0.16494454884084464\n"
     ]
    },
    {
     "name": "stderr",
     "output_type": "stream",
     "text": []
    },
    {
     "name": "stdout",
     "output_type": "stream",
     "text": [
      "Paradigm 86 consistency: 0.01736983605538045\n"
     ]
    },
    {
     "name": "stderr",
     "output_type": "stream",
     "text": []
    },
    {
     "name": "stdout",
     "output_type": "stream",
     "text": [
      "Paradigm 87 consistency: 0.07768278518151717\n"
     ]
    },
    {
     "name": "stderr",
     "output_type": "stream",
     "text": []
    },
    {
     "name": "stdout",
     "output_type": "stream",
     "text": [
      "Paradigm 88 consistency: 0.12691452647336965\n"
     ]
    },
    {
     "name": "stderr",
     "output_type": "stream",
     "text": []
    },
    {
     "name": "stdout",
     "output_type": "stream",
     "text": [
      "Paradigm 89 consistency: 0.01736983605538045\n"
     ]
    },
    {
     "name": "stderr",
     "output_type": "stream",
     "text": []
    },
    {
     "name": "stdout",
     "output_type": "stream",
     "text": [
      "Paradigm 90 consistency: 0.01736983605538045\n"
     ]
    },
    {
     "name": "stderr",
     "output_type": "stream",
     "text": []
    },
    {
     "name": "stdout",
     "output_type": "stream",
     "text": [
      "Paradigm 91 consistency: 0.1148097082393531\n"
     ]
    },
    {
     "name": "stderr",
     "output_type": "stream",
     "text": []
    },
    {
     "name": "stdout",
     "output_type": "stream",
     "text": [
      "Paradigm 92 consistency: 0.03826325692095478\n"
     ]
    },
    {
     "name": "stderr",
     "output_type": "stream",
     "text": []
    },
    {
     "name": "stdout",
     "output_type": "stream",
     "text": [
      "Paradigm 93 consistency: 0.047909643385224854\n"
     ]
    },
    {
     "name": "stderr",
     "output_type": "stream",
     "text": []
    },
    {
     "name": "stdout",
     "output_type": "stream",
     "text": [
      "Paradigm 94 consistency: 0.10025624130173738\n"
     ]
    },
    {
     "name": "stderr",
     "output_type": "stream",
     "text": []
    },
    {
     "name": "stdout",
     "output_type": "stream",
     "text": [
      "Paradigm 95 consistency: 0.047909643385224854\n"
     ]
    },
    {
     "name": "stderr",
     "output_type": "stream",
     "text": []
    },
    {
     "name": "stdout",
     "output_type": "stream",
     "text": [
      "Paradigm 96 consistency: 0.047909643385224854\n"
     ]
    },
    {
     "name": "stderr",
     "output_type": "stream",
     "text": []
    },
    {
     "name": "stdout",
     "output_type": "stream",
     "text": [
      "Paradigm 97 consistency: 0.01736983605538034\n"
     ]
    },
    {
     "name": "stderr",
     "output_type": "stream",
     "text": []
    },
    {
     "name": "stdout",
     "output_type": "stream",
     "text": [
      "Paradigm 98 consistency: 0.26342943586645207\n"
     ]
    },
    {
     "name": "stderr",
     "output_type": "stream",
     "text": [
      "100%|██████████| 100/100 [1:45:44<00:00, 63.44s/it]"
     ]
    },
    {
     "name": "stdout",
     "output_type": "stream",
     "text": [
      "Paradigm 99 consistency: 0.16494454884084464\n",
      "1900\n"
     ]
    },
    {
     "name": "stderr",
     "output_type": "stream",
     "text": [
      "\n"
     ]
    },
    {
     "name": "stdout",
     "output_type": "stream",
     "text": [
      "Calculate metrics by transformation\n"
     ]
    },
    {
     "name": "stderr",
     "output_type": "stream",
     "text": [
      "100%|██████████| 19/19 [00:02<00:00,  8.80it/s]\n",
      "100%|██████████| 9/9 [2:50:59<00:00, 1140.00s/it]"
     ]
    },
    {
     "name": "stdout",
     "output_type": "stream",
     "text": [
      "Section presupposition_question_presupposition:\n",
      "  Accuracy: 0.8421\n",
      "  Precision: 0.8741\n",
      "  Recall: 0.8216\n",
      "  F1: 0.8340\n",
      "  Consistency: 0.1217\n",
      "\n"
     ]
    },
    {
     "name": "stderr",
     "output_type": "stream",
     "text": [
      "\n"
     ]
    }
   ],
   "source": [
    "results = evaluate_all_sections(trained_module, paradigm_examples)"
   ]
  },
  {
   "cell_type": "code",
   "execution_count": 53,
   "id": "b3f46c17",
   "metadata": {},
   "outputs": [
    {
     "name": "stdout",
     "output_type": "stream",
     "text": [
      "\n",
      "================================================================================\n",
      "SECTION-LEVEL RESULTS\n",
      "================================================================================\n",
      "                                      Section  Accuracy  Precision   Recall       F1  Consistency\n",
      "           presupposition_both_presupposition  0.976316   0.976741 0.977250 0.976923     0.023364\n",
      "               presupposition_change_of_state  0.567895   0.661949 0.496972 0.470625     0.441210\n",
      "               presupposition_cleft_existence  0.688421   0.848858 0.631222 0.641477     0.333441\n",
      "              presupposition_cleft_uniqueness  0.478947   0.748956 0.395028 0.311998     0.687332\n",
      "           presupposition_only_presupposition  0.699474   0.829189 0.655722 0.678558     0.254056\n",
      " presupposition_possessed_definites_existence  0.937368   0.944866 0.928861 0.935482     0.054856\n",
      "presupposition_possessed_definites_uniqueness  0.480526   0.737844 0.396833 0.314979     0.677115\n",
      "       presupposition_question_presupposition  0.842105   0.874063 0.821556 0.833981     0.121652\n",
      "\n",
      "================================================================================\n",
      "TRANSFORMATION-LEVEL RESULTS\n",
      "================================================================================\n",
      " transformation  accuracy  precision   recall       f1\n",
      "              0   0.70125   0.792516 0.675366 0.651443\n",
      "              1   0.70375   0.762265 0.665347 0.645047\n",
      "              2   0.71500   0.802668 0.659509 0.645010\n",
      "              3   0.71125   0.778260 0.663898 0.642165\n",
      "              4   0.70625   0.755846 0.659939 0.640767\n",
      "              5   0.71000   0.783366 0.672246 0.649216\n",
      "              6   0.69625   0.801180 0.642552 0.616083\n",
      "              7   0.70375   0.797317 0.678203 0.655143\n",
      "              8   0.72000   0.789067 0.659674 0.646225\n",
      "              9   0.71000   0.789659 0.666217 0.649758\n",
      "             10   0.73250   0.834266 0.677042 0.665554\n",
      "             11   0.72875   0.791304 0.667169 0.652716\n",
      "             12   0.69375   0.741059 0.651161 0.625175\n",
      "             13   0.71500   0.774157 0.666861 0.648544\n",
      "             14   0.70000   0.758003 0.656317 0.634206\n",
      "             15   0.70500   0.776842 0.656604 0.635718\n",
      "             16   0.69625   0.771026 0.656946 0.633976\n",
      "             17   0.71875   0.761599 0.676761 0.653954\n",
      "             18   0.70125   0.748340 0.644573 0.620137\n",
      "\n",
      "================================================================================\n",
      "OVERALL RESULTS\n",
      "================================================================================\n",
      "Overall Accuracy: 0.7089\n",
      "Overall Precision: 0.8278\n",
      "Overall Recall: 0.6629\n",
      "Overall F1: 0.6455\n",
      "Overall Consistency: 0.3241\n"
     ]
    }
   ],
   "source": [
    "section_df, transformation_df = create_results_table(results, \n",
    "    ['presupposition_both_presupposition',\n",
    "        'presupposition_change_of_state',\n",
    "        'presupposition_cleft_existence',\n",
    "        'presupposition_cleft_uniqueness',\n",
    "        'presupposition_only_presupposition',\n",
    "        'presupposition_possessed_definites_existence',\n",
    "        'presupposition_possessed_definites_uniqueness',\n",
    "        'presupposition_question_presupposition'])\n",
    "\n",
    "print(\"\\n\" + \"=\"*80)\n",
    "print(\"SECTION-LEVEL RESULTS\")\n",
    "print(\"=\"*80)\n",
    "print(section_df.to_string(index=False))\n",
    "\n",
    "print(\"\\n\" + \"=\"*80)\n",
    "print(\"TRANSFORMATION-LEVEL RESULTS\")\n",
    "print(\"=\"*80)\n",
    "print(transformation_df.to_string(index=False))\n",
    "\n",
    "# Calculate overall metrics\n",
    "overall_accuracy = section_df['Accuracy'].mean()\n",
    "overall_precision = section_df['Precision'].mean()\n",
    "overall_recall = section_df['Recall'].mean()\n",
    "overall_f1 = section_df['F1'].mean()\n",
    "overall_consistency = section_df['Consistency'].mean()\n",
    "\n",
    "print(f\"\\n\" + \"=\"*80)\n",
    "print(\"OVERALL RESULTS\")\n",
    "print(\"=\"*80)\n",
    "print(f\"Overall Accuracy: {overall_accuracy:.4f}\")\n",
    "print(f\"Overall Precision: {overall_precision:.4f}\")\n",
    "print(f\"Overall Recall: {overall_recall:.4f}\")\n",
    "print(f\"Overall F1: {overall_f1:.4f}\")\n",
    "print(f\"Overall Consistency: {overall_consistency:.4f}\")"
   ]
  }
 ],
 "metadata": {
  "kernelspec": {
   "display_name": "hw2",
   "language": "python",
   "name": "python3"
  },
  "language_info": {
   "codemirror_mode": {
    "name": "ipython",
    "version": 3
   },
   "file_extension": ".py",
   "mimetype": "text/x-python",
   "name": "python",
   "nbconvert_exporter": "python",
   "pygments_lexer": "ipython3",
   "version": "3.11.12"
  }
 },
 "nbformat": 4,
 "nbformat_minor": 5
}
