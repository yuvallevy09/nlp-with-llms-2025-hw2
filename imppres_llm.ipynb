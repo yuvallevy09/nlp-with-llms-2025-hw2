{
 "cells": [
  {
   "cell_type": "markdown",
   "id": "c468709d",
   "metadata": {},
   "source": [
    "# ImpPres with LLM\n",
    "\n",
    "You have to implement in this notebook a better ImpPres classifier using an LLM.\n",
    "This classifier must be implemented using DSPy.\n"
   ]
  },
  {
   "cell_type": "code",
   "execution_count": 1,
   "id": "2cec0d02",
   "metadata": {},
   "outputs": [],
   "source": [
    "from dotenv import load_dotenv\n",
    "import os\n",
    "import dspy\n",
    "load_dotenv(\"grok_key.ini\")  \n",
    "lm = dspy.LM('xai/grok-3-mini', api_key=os.environ['XAI_API_KEY'])\n",
    "dspy.configure(lm=lm)"
   ]
  },
  {
   "cell_type": "code",
   "execution_count": 2,
   "id": "b60da44b",
   "metadata": {},
   "outputs": [],
   "source": [
    "from typing import List, Literal, Tuple\n",
    "\n",
    "class TransformationSignature(dspy.Signature):\n",
    "    premise: str = dspy.InputField()\n",
    "    hypothesis: str = dspy.InputField()\n",
    "    label: Literal['entailment', 'neutral', 'contradiction'] = dspy.OutputField()\n",
    "\n",
    "class ParadigmModule(dspy.Module):\n",
    "    def __init__(self):\n",
    "        super().__init__()\n",
    "        self.predict = dspy.Predict(TransformationSignature)\n",
    "    \n",
    "    def forward(self, transformations: List[Tuple[str, str]]) -> dspy.Prediction:\n",
    "        results = []\n",
    "        for premise, hypothesis in transformations:\n",
    "            try:\n",
    "                prediction = self.predict(premise=premise, hypothesis=hypothesis)\n",
    "                results.append(prediction.label)\n",
    "            except Exception as e:\n",
    "                print(f\"Error in prediction: {e}\")\n",
    "                continue\n",
    "        \n",
    "        return dspy.Prediction(results=results)\n"
   ]
  },
  {
   "cell_type": "markdown",
   "id": "17ab422d",
   "metadata": {},
   "source": [
    "## Load ImpPres Dataset"
   ]
  },
  {
   "cell_type": "code",
   "execution_count": 3,
   "id": "0438789b",
   "metadata": {},
   "outputs": [
    {
     "name": "stdout",
     "output_type": "stream",
     "text": [
      "Loading dataset for section: presupposition_all_n_presupposition\n",
      "Loading dataset for section: presupposition_both_presupposition\n",
      "Loading dataset for section: presupposition_change_of_state\n",
      "Loading dataset for section: presupposition_cleft_existence\n",
      "Loading dataset for section: presupposition_cleft_uniqueness\n",
      "Loading dataset for section: presupposition_only_presupposition\n",
      "Loading dataset for section: presupposition_possessed_definites_existence\n",
      "Loading dataset for section: presupposition_possessed_definites_uniqueness\n",
      "Loading dataset for section: presupposition_question_presupposition\n"
     ]
    }
   ],
   "source": [
    "from datasets import load_dataset\n",
    "\n",
    "sections = ['presupposition_all_n_presupposition', \n",
    "            'presupposition_both_presupposition', \n",
    "            'presupposition_change_of_state', \n",
    "            'presupposition_cleft_existence', \n",
    "            'presupposition_cleft_uniqueness', \n",
    "            'presupposition_only_presupposition', \n",
    "            'presupposition_possessed_definites_existence', \n",
    "            'presupposition_possessed_definites_uniqueness', \n",
    "            'presupposition_question_presupposition']\n",
    "\n",
    "dataset = {}\n",
    "for section in sections:\n",
    "    print(f\"Loading dataset for section: {section}\")\n",
    "    dataset[section] = load_dataset(\"facebook/imppres\", section)"
   ]
  },
  {
   "cell_type": "code",
   "execution_count": 4,
   "id": "2feb10d2",
   "metadata": {},
   "outputs": [],
   "source": [
    "import random\n",
    "section_to_split = {\n",
    "    'presupposition_all_n_presupposition': 'all_n_presupposition',\n",
    "    'presupposition_both_presupposition': 'both_presupposition',\n",
    "    'presupposition_change_of_state': 'change_of_state',\n",
    "    'presupposition_cleft_existence': 'cleft_existence',\n",
    "    'presupposition_cleft_uniqueness': 'cleft_uniqueness',\n",
    "    'presupposition_only_presupposition': 'only_presupposition',\n",
    "    'presupposition_possessed_definites_existence': 'possessed_definites_existence',\n",
    "    'presupposition_possessed_definites_uniqueness': 'possessed_definites_uniqueness',\n",
    "    'presupposition_question_presupposition': 'question_presupposition',\n",
    "}\n",
    "\n",
    "\n",
    "def prepare_paradigm_examples(dataset, sections):\n",
    "    paradigm_examples = {}\n",
    "    \n",
    "    for section in sections:\n",
    "        paradigm_examples[section] = {}\n",
    "        split_name = section_to_split[section]\n",
    "        data = dataset[section][split_name]\n",
    "        \n",
    "        # Group by paradigmID\n",
    "        paradigm_groups = {}\n",
    "        for item in data:\n",
    "            paradigm_id = item['paradigmID']\n",
    "            if paradigm_id not in paradigm_groups:\n",
    "                paradigm_groups[paradigm_id] = []\n",
    "            paradigm_groups[paradigm_id].append(item)\n",
    "        \n",
    "        for paradigm_id, items in paradigm_groups.items():\n",
    "            if len(items) == 19:  # Only use complete paradigms\n",
    "                # Shuffle to avoid position bias\n",
    "                random.shuffle(items)\n",
    "                transformations = [(item['premise'], item['hypothesis']) for item in items]\n",
    "                true_labels = [item['gold_label'] for item in items]\n",
    "                paradigm_examples[section][paradigm_id] = {\n",
    "                    'transformations': transformations,\n",
    "                    'true_labels': true_labels,\n",
    "                    'items': items\n",
    "                }\n",
    "    \n",
    "    return paradigm_examples\n"
   ]
  },
  {
   "cell_type": "markdown",
   "id": "ea8e1258",
   "metadata": {},
   "source": [
    "## Evaluate Metrics\n",
    "\n",
    "Let's use the huggingface `evaluate` package to compute the performance of the baseline.\n"
   ]
  },
  {
   "cell_type": "code",
   "execution_count": 5,
   "id": "0e2e9027",
   "metadata": {},
   "outputs": [],
   "source": [
    "from evaluate import load\n",
    "\n",
    "accuracy = load(\"accuracy\")\n",
    "precision = load(\"precision\")\n",
    "recall = load(\"recall\")\n",
    "f1 = load(\"f1\")\n"
   ]
  },
  {
   "cell_type": "code",
   "execution_count": 6,
   "id": "1ab24e1b",
   "metadata": {},
   "outputs": [],
   "source": [
    "import evaluate\n",
    "clf_metrics = evaluate.combine([\"accuracy\", \"f1\", \"precision\", \"recall\"])"
   ]
  },
  {
   "cell_type": "markdown",
   "id": "0909d58b",
   "metadata": {},
   "source": [
    "## Your Turn\n",
    "\n",
    "Compute the classification metrics on the baseline LLM model on each test section of the ANLI dataset for samples that have a non-empty 'reason' field.\n",
    "\n",
    "You also must show a comparison between the DeBERTa baseline model and this LLM baseline model. The comparison metric should compute the agreement between the two models:\n",
    "* On how many samples they are both correct [Correct]\n",
    "* On how many samples Model1 is correct and Model2 is incorrect [Correct1]\n",
    "* On how many samples Model1 is incorrect and Model2 is correct [Correct2]\n",
    "* On how many samples both are incorrect [Incorrect]"
   ]
  },
  {
   "cell_type": "code",
   "execution_count": 7,
   "id": "950426b5",
   "metadata": {},
   "outputs": [],
   "source": [
    "from scipy.stats import entropy\n",
    "from collections import Counter\n",
    "\n",
    "def calculate_consistency_metric(predictions):\n",
    "    if not predictions:\n",
    "        return 0.0\n",
    "    \n",
    "    label_counts = Counter(predictions)\n",
    "    total = len(predictions)\n",
    "    \n",
    "    probabilities = [count / total for count in label_counts.values()]\n",
    "    \n",
    "    ent = entropy(probabilities, base=len(label_counts)) if len(label_counts) > 1 else 0\n",
    "    \n",
    "    # Return consistency (1 - normalized entropy)\n",
    "    return 1 - ent\n",
    "\n",
    "def calculate_accuracy_metric(predictions, true_labels):\n",
    "    if len(predictions) != len(true_labels):\n",
    "        return 0.0\n",
    "    \n",
    "    correct = sum(1 for pred, true in zip(predictions, true_labels) if pred == true)\n",
    "    return correct / len(true_labels)\n",
    "\n",
    "def combined_metric(example, pred, alpha=0.5):\n",
    "    accuracy = calculate_accuracy_metric(pred.results, example['true_labels'])\n",
    "    consistency = calculate_consistency_metric(pred.results)\n",
    "    \n",
    "    return alpha * accuracy + (1 - alpha) * consistency\n"
   ]
  },
  {
   "cell_type": "code",
   "execution_count": 8,
   "id": "d10f065d",
   "metadata": {},
   "outputs": [],
   "source": [
    "def create_training_examples(paradigm_examples, sections, max_examples_per_section=10):\n",
    "    training_examples = []\n",
    "    \n",
    "    for section in sections:\n",
    "        paradigms = list(paradigm_examples[section].items())\n",
    "        # Limit number of examples per section for training\n",
    "        selected_paradigms = paradigms[:max_examples_per_section]\n",
    "        \n",
    "        for paradigm_id, paradigm_data in selected_paradigms:\n",
    "            example = dspy.Example(\n",
    "                transformations=paradigm_data['transformations'],\n",
    "                true_labels=paradigm_data['true_labels']\n",
    "            ).with_inputs('transformations')\n",
    "            \n",
    "            training_examples.append(example)\n",
    "    \n",
    "    return training_examples"
   ]
  },
  {
   "cell_type": "code",
   "execution_count": 9,
   "id": "f06583eb",
   "metadata": {},
   "outputs": [],
   "source": [
    "import numpy as np\n",
    "from tqdm import tqdm\n",
    "\n",
    "label_names = [\"entailment\", \"neutral\", \"contradiction\"]\n",
    "label2id = {label: i for i, label in enumerate(label_names)}\n",
    "\n",
    "def evaluate_section(module, paradigm_examples, section):\n",
    "    paradigms = paradigm_examples[section]\n",
    "    \n",
    "    all_predictions = []\n",
    "    all_true_labels = []\n",
    "    consistency_scores = []\n",
    "    transformation_results = {i: {'predictions': [], 'true_labels': []} for i in range(19)}\n",
    "    \n",
    "    for paradigm_id, paradigm_data in tqdm(paradigms.items()):\n",
    "        pred = module(paradigm_data['transformations'])\n",
    "        \n",
    "        all_predictions.extend(pred.results)\n",
    "        all_true_labels.extend(paradigm_data['true_labels'])\n",
    "        consistency = calculate_consistency_metric(pred.results)\n",
    "        print(f\"Paradigm {paradigm_id} consistency: {consistency}\")\n",
    "        consistency_scores.append(consistency)\n",
    "        \n",
    "        for i, (prediction, true_label) in enumerate(zip(pred.results, paradigm_data['true_labels'])):\n",
    "            transformation_results[i]['predictions'].append(label2id[prediction.strip().lower()])\n",
    "            transformation_results[i]['true_labels'].append(true_label)\n",
    "    \n",
    "    numbered_all_predictions = [label2id[pred.strip().lower()] for pred in all_predictions]\n",
    "    \n",
    "    total_accuracy = accuracy.compute(predictions=numbered_all_predictions, references=all_true_labels)[\"accuracy\"]\n",
    "    total_precision = precision.compute(predictions=numbered_all_predictions, references=all_true_labels, average=\"macro\")[\"precision\"]\n",
    "    total_recall = recall.compute(predictions=numbered_all_predictions, references=all_true_labels, average=\"macro\")[\"recall\"]\n",
    "    total_f1 = f1.compute(predictions=numbered_all_predictions, references=all_true_labels, average=\"macro\")[\"f1\"]\n",
    "    avg_consistency = np.mean(consistency_scores) if consistency_scores else 0.0\n",
    "    \n",
    "    print(\"Calculate metrics by transformation\")\n",
    "    transformation_metrics = {}\n",
    "    for i in tqdm(range(19)):\n",
    "        if transformation_results[i]['predictions']:\n",
    "            trans_acc = accuracy.compute(\n",
    "                predictions=transformation_results[i]['predictions'], \n",
    "                references=transformation_results[i]['true_labels']\n",
    "            )[\"accuracy\"]\n",
    "            trans_p = precision.compute(\n",
    "                predictions=transformation_results[i]['predictions'], \n",
    "                references=transformation_results[i]['true_labels'], \n",
    "                average='macro', zero_division=0\n",
    "            )[\"precision\"]\n",
    "            trans_r = recall.compute(\n",
    "                predictions=transformation_results[i]['predictions'], \n",
    "                references=transformation_results[i]['true_labels'], \n",
    "                average='macro', zero_division=0\n",
    "            )[\"recall\"]\n",
    "            trans_f1= f1.compute(\n",
    "                predictions=transformation_results[i]['predictions'], \n",
    "                references=transformation_results[i]['true_labels'], \n",
    "                average='macro'\n",
    "            )[\"f1\"]\n",
    "            transformation_metrics[i] = {\n",
    "                'accuracy': trans_acc,\n",
    "                'precision': trans_p,\n",
    "                'recall': trans_r,\n",
    "                'f1': trans_f1\n",
    "            }\n",
    "    \n",
    "    return {\n",
    "        'accuracy': total_accuracy,\n",
    "        'precision': total_precision,\n",
    "        'recall': total_recall,\n",
    "        'f1': total_f1,\n",
    "        'consistency': avg_consistency,\n",
    "        'transformation_metrics': transformation_metrics\n",
    "    }"
   ]
  },
  {
   "cell_type": "code",
   "execution_count": 10,
   "id": "34b118f6",
   "metadata": {},
   "outputs": [],
   "source": [
    "from dspy import MIPROv2\n",
    "label_names = [\"entailment\", \"neutral\", \"contradiction\"]\n",
    "label2id = {label: i for i, label in enumerate(label_names)}\n",
    "\n",
    "def exact_match_metric(example, pred, trace=None):\n",
    "    count = 0\n",
    "    for i in range(len(pred.results)):\n",
    "        count += 1 if label2id[pred.results[i].strip().lower()] == example['true_labels'][i] else 0\n",
    "    return count == len(pred.results) \n",
    "\n",
    "optimizer = MIPROv2(metric=exact_match_metric)"
   ]
  },
  {
   "cell_type": "code",
   "execution_count": 11,
   "id": "bc743466",
   "metadata": {},
   "outputs": [],
   "source": [
    "import pandas as pd\n",
    "from tqdm import tqdm\n",
    "\n",
    "def run_evaluation():\n",
    "    print(\"Preparing paradigm examples...\")\n",
    "    paradigm_examples = prepare_paradigm_examples(dataset, sections)\n",
    "    \n",
    "    print(\"Creating training examples...\")\n",
    "    training_examples = create_training_examples(paradigm_examples, sections)\n",
    "    \n",
    "    print(\"Initializing module...\")\n",
    "    module = ParadigmModule()\n",
    "    \n",
    "    print(\"Optimizing module...\")\n",
    "    compiled_module = optimizer.compile(\n",
    "        module, \n",
    "        trainset=training_examples, \n",
    "        requires_permission_to_run=False\n",
    "    )\n",
    "    return compiled_module, paradigm_examples\n",
    "\n",
    "def evaluate_all_sections(module, paradigm_examples):\n",
    "    print(\"Running evaluation...\")\n",
    "    results = {}\n",
    "    \n",
    "    for section in tqdm(sections):\n",
    "        if section == 'presupposition_all_n_presupposition':\n",
    "            continue\n",
    "        print(f\"Evaluating section: {section}\")\n",
    "        section_results = evaluate_section(module, paradigm_examples, section)\n",
    "        results[section] = section_results\n",
    "        \n",
    "        print(f\"Section {section}:\")\n",
    "        print(f\"  Accuracy: {section_results['accuracy']:.4f}\")\n",
    "        print(f\"  Precision: {section_results['precision']:.4f}\")\n",
    "        print(f\"  Recall: {section_results['recall']:.4f}\")\n",
    "        print(f\"  F1: {section_results['f1']:.4f}\")\n",
    "        print(f\"  Consistency: {section_results['consistency']:.4f}\")\n",
    "        print()\n",
    "    \n",
    "    return results\n",
    "\n",
    "\n",
    "def create_results_table(results, sections):\n",
    "    section_data = []\n",
    "    for section in sections:\n",
    "        section_data.append({\n",
    "            'Section': section,\n",
    "            'Accuracy': results[section]['accuracy'],\n",
    "            'Precision': results[section]['precision'],\n",
    "            'Recall': results[section]['recall'],\n",
    "            'F1': results[section]['f1'],\n",
    "            'Consistency': results[section]['consistency']\n",
    "        })\n",
    "    section_df = pd.DataFrame(section_data)\n",
    "    \n",
    "    # Transformation-level results (averaged across sections)\n",
    "    transformation_data = []\n",
    "    for i in range(19):\n",
    "        trans_metrics = {'transformation': i}\n",
    "        for metric in ['accuracy', 'precision', 'recall', 'f1']:\n",
    "            values = []\n",
    "            for section in sections:\n",
    "                if i in results[section]['transformation_metrics']:\n",
    "                    values.append(results[section]['transformation_metrics'][i][metric])\n",
    "            trans_metrics[metric] = np.mean(values) if values else 0.0\n",
    "        transformation_data.append(trans_metrics)\n",
    "    transformation_df = pd.DataFrame(transformation_data)\n",
    "    \n",
    "    return section_df, transformation_df\n"
   ]
  },
  {
   "cell_type": "code",
   "execution_count": 12,
   "id": "581c8677",
   "metadata": {},
   "outputs": [
    {
     "name": "stdout",
     "output_type": "stream",
     "text": [
      "Preparing paradigm examples...\n"
     ]
    },
    {
     "name": "stderr",
     "output_type": "stream",
     "text": [
      "2025/08/03 13:35:08 INFO dspy.teleprompt.mipro_optimizer_v2: \n",
      "RUNNING WITH THE FOLLOWING LIGHT AUTO RUN SETTINGS:\n",
      "num_trials: 10\n",
      "minibatch: True\n",
      "num_fewshot_candidates: 6\n",
      "num_instruct_candidates: 3\n",
      "valset size: 72\n",
      "\n",
      "2025/08/03 13:35:08 INFO dspy.teleprompt.mipro_optimizer_v2: \n",
      "==> STEP 1: BOOTSTRAP FEWSHOT EXAMPLES <==\n",
      "2025/08/03 13:35:08 INFO dspy.teleprompt.mipro_optimizer_v2: These will be used as few-shot example candidates for our program and for creating instructions.\n",
      "\n",
      "2025/08/03 13:35:08 INFO dspy.teleprompt.mipro_optimizer_v2: Bootstrapping N=6 sets of demonstrations...\n"
     ]
    },
    {
     "name": "stdout",
     "output_type": "stream",
     "text": [
      "Creating training examples...\n",
      "Initializing module...\n",
      "Optimizing module...\n",
      "Bootstrapping set 1/6\n",
      "Bootstrapping set 2/6\n",
      "Bootstrapping set 3/6\n"
     ]
    },
    {
     "name": "stderr",
     "output_type": "stream",
     "text": [
      " 33%|███▎      | 6/18 [00:00<00:00, 44.09it/s]\n"
     ]
    },
    {
     "name": "stdout",
     "output_type": "stream",
     "text": [
      "Bootstrapped 4 full traces after 6 examples for up to 1 rounds, amounting to 6 attempts.\n",
      "Bootstrapping set 4/6\n"
     ]
    },
    {
     "name": "stderr",
     "output_type": "stream",
     "text": [
      " 39%|███▉      | 7/18 [00:00<00:00, 59.91it/s]\n"
     ]
    },
    {
     "name": "stdout",
     "output_type": "stream",
     "text": [
      "Bootstrapped 3 full traces after 7 examples for up to 1 rounds, amounting to 7 attempts.\n",
      "Bootstrapping set 5/6\n"
     ]
    },
    {
     "name": "stderr",
     "output_type": "stream",
     "text": [
      " 33%|███▎      | 6/18 [00:00<00:00, 70.88it/s]\n"
     ]
    },
    {
     "name": "stdout",
     "output_type": "stream",
     "text": [
      "Bootstrapped 4 full traces after 6 examples for up to 1 rounds, amounting to 6 attempts.\n",
      "Bootstrapping set 6/6\n"
     ]
    },
    {
     "name": "stderr",
     "output_type": "stream",
     "text": [
      "  6%|▌         | 1/18 [00:00<00:00, 53.60it/s]\n",
      "2025/08/03 13:35:08 INFO dspy.teleprompt.mipro_optimizer_v2: \n",
      "==> STEP 2: PROPOSE INSTRUCTION CANDIDATES <==\n",
      "2025/08/03 13:35:08 INFO dspy.teleprompt.mipro_optimizer_v2: We will use the few-shot examples from the previous step, a generated dataset summary, a summary of the program code, and a randomly selected prompting tip to propose instructions.\n"
     ]
    },
    {
     "name": "stdout",
     "output_type": "stream",
     "text": [
      "Bootstrapped 1 full traces after 1 examples for up to 1 rounds, amounting to 1 attempts.\n"
     ]
    },
    {
     "name": "stderr",
     "output_type": "stream",
     "text": [
      "2025/08/03 13:35:26 INFO dspy.teleprompt.mipro_optimizer_v2: \n",
      "Proposing N=3 instructions...\n",
      "\n"
     ]
    },
    {
     "ename": "KeyboardInterrupt",
     "evalue": "",
     "output_type": "error",
     "traceback": [
      "\u001b[31m---------------------------------------------------------------------------\u001b[39m",
      "\u001b[31mKeyboardInterrupt\u001b[39m                         Traceback (most recent call last)",
      "\u001b[36mCell\u001b[39m\u001b[36m \u001b[39m\u001b[32mIn[12]\u001b[39m\u001b[32m, line 1\u001b[39m\n\u001b[32m----> \u001b[39m\u001b[32m1\u001b[39m trained_module, paradigm_examples = \u001b[43mrun_evaluation\u001b[49m\u001b[43m(\u001b[49m\u001b[43m)\u001b[49m\n",
      "\u001b[36mCell\u001b[39m\u001b[36m \u001b[39m\u001b[32mIn[11]\u001b[39m\u001b[32m, line 15\u001b[39m, in \u001b[36mrun_evaluation\u001b[39m\u001b[34m()\u001b[39m\n\u001b[32m     12\u001b[39m module = ParadigmModule()\n\u001b[32m     14\u001b[39m \u001b[38;5;28mprint\u001b[39m(\u001b[33m\"\u001b[39m\u001b[33mOptimizing module...\u001b[39m\u001b[33m\"\u001b[39m)\n\u001b[32m---> \u001b[39m\u001b[32m15\u001b[39m compiled_module = \u001b[43moptimizer\u001b[49m\u001b[43m.\u001b[49m\u001b[43mcompile\u001b[49m\u001b[43m(\u001b[49m\n\u001b[32m     16\u001b[39m \u001b[43m    \u001b[49m\u001b[43mmodule\u001b[49m\u001b[43m,\u001b[49m\u001b[43m \u001b[49m\n\u001b[32m     17\u001b[39m \u001b[43m    \u001b[49m\u001b[43mtrainset\u001b[49m\u001b[43m=\u001b[49m\u001b[43mtraining_examples\u001b[49m\u001b[43m,\u001b[49m\u001b[43m \u001b[49m\n\u001b[32m     18\u001b[39m \u001b[43m    \u001b[49m\u001b[43mrequires_permission_to_run\u001b[49m\u001b[43m=\u001b[49m\u001b[38;5;28;43;01mFalse\u001b[39;49;00m\n\u001b[32m     19\u001b[39m \u001b[43m\u001b[49m\u001b[43m)\u001b[49m\n\u001b[32m     20\u001b[39m \u001b[38;5;28;01mreturn\u001b[39;00m compiled_module, paradigm_examples\n",
      "\u001b[36mFile \u001b[39m\u001b[32mc:\\Users\\97252\\Desktop\\לימודים\\סמסטר ו\\LLM\\hm2\\nlp-with-llms-2025-hw2\\.venv\\Lib\\site-packages\\dspy\\teleprompt\\mipro_optimizer_v2.py:188\u001b[39m, in \u001b[36mMIPROv2.compile\u001b[39m\u001b[34m(self, student, trainset, teacher, valset, num_trials, max_bootstrapped_demos, max_labeled_demos, seed, minibatch, minibatch_size, minibatch_full_eval_steps, program_aware_proposer, data_aware_proposer, view_data_batch_size, tip_aware_proposer, fewshot_aware_proposer, requires_permission_to_run, provide_traceback)\u001b[39m\n\u001b[32m    185\u001b[39m demo_candidates = \u001b[38;5;28mself\u001b[39m._bootstrap_fewshot_examples(program, trainset, seed, teacher)\n\u001b[32m    187\u001b[39m \u001b[38;5;66;03m# Step 2: Propose instruction candidates\u001b[39;00m\n\u001b[32m--> \u001b[39m\u001b[32m188\u001b[39m instruction_candidates = \u001b[38;5;28;43mself\u001b[39;49m\u001b[43m.\u001b[49m\u001b[43m_propose_instructions\u001b[49m\u001b[43m(\u001b[49m\n\u001b[32m    189\u001b[39m \u001b[43m    \u001b[49m\u001b[43mprogram\u001b[49m\u001b[43m,\u001b[49m\n\u001b[32m    190\u001b[39m \u001b[43m    \u001b[49m\u001b[43mtrainset\u001b[49m\u001b[43m,\u001b[49m\n\u001b[32m    191\u001b[39m \u001b[43m    \u001b[49m\u001b[43mdemo_candidates\u001b[49m\u001b[43m,\u001b[49m\n\u001b[32m    192\u001b[39m \u001b[43m    \u001b[49m\u001b[43mview_data_batch_size\u001b[49m\u001b[43m,\u001b[49m\n\u001b[32m    193\u001b[39m \u001b[43m    \u001b[49m\u001b[43mprogram_aware_proposer\u001b[49m\u001b[43m,\u001b[49m\n\u001b[32m    194\u001b[39m \u001b[43m    \u001b[49m\u001b[43mdata_aware_proposer\u001b[49m\u001b[43m,\u001b[49m\n\u001b[32m    195\u001b[39m \u001b[43m    \u001b[49m\u001b[43mtip_aware_proposer\u001b[49m\u001b[43m,\u001b[49m\n\u001b[32m    196\u001b[39m \u001b[43m    \u001b[49m\u001b[43mfewshot_aware_proposer\u001b[49m\u001b[43m,\u001b[49m\n\u001b[32m    197\u001b[39m \u001b[43m\u001b[49m\u001b[43m)\u001b[49m\n\u001b[32m    199\u001b[39m \u001b[38;5;66;03m# If zero-shot, discard demos\u001b[39;00m\n\u001b[32m    200\u001b[39m \u001b[38;5;28;01mif\u001b[39;00m zeroshot_opt:\n",
      "\u001b[36mFile \u001b[39m\u001b[32mc:\\Users\\97252\\Desktop\\לימודים\\סמסטר ו\\LLM\\hm2\\nlp-with-llms-2025-hw2\\.venv\\Lib\\site-packages\\dspy\\teleprompt\\mipro_optimizer_v2.py:469\u001b[39m, in \u001b[36mMIPROv2._propose_instructions\u001b[39m\u001b[34m(self, program, trainset, demo_candidates, view_data_batch_size, program_aware_proposer, data_aware_proposer, tip_aware_proposer, fewshot_aware_proposer)\u001b[39m\n\u001b[32m    451\u001b[39m proposer = GroundedProposer(\n\u001b[32m    452\u001b[39m     program=program,\n\u001b[32m    453\u001b[39m     trainset=trainset,\n\u001b[32m   (...)\u001b[39m\u001b[32m    465\u001b[39m     rng=\u001b[38;5;28mself\u001b[39m.rng,\n\u001b[32m    466\u001b[39m )\n\u001b[32m    468\u001b[39m logger.info(\u001b[33mf\u001b[39m\u001b[33m\"\u001b[39m\u001b[38;5;130;01m\\n\u001b[39;00m\u001b[33mProposing N=\u001b[39m\u001b[38;5;132;01m{\u001b[39;00m\u001b[38;5;28mself\u001b[39m.num_instruct_candidates\u001b[38;5;132;01m}\u001b[39;00m\u001b[33m instructions...\u001b[39m\u001b[38;5;130;01m\\n\u001b[39;00m\u001b[33m\"\u001b[39m)\n\u001b[32m--> \u001b[39m\u001b[32m469\u001b[39m instruction_candidates = \u001b[43mproposer\u001b[49m\u001b[43m.\u001b[49m\u001b[43mpropose_instructions_for_program\u001b[49m\u001b[43m(\u001b[49m\n\u001b[32m    470\u001b[39m \u001b[43m    \u001b[49m\u001b[43mtrainset\u001b[49m\u001b[43m=\u001b[49m\u001b[43mtrainset\u001b[49m\u001b[43m,\u001b[49m\n\u001b[32m    471\u001b[39m \u001b[43m    \u001b[49m\u001b[43mprogram\u001b[49m\u001b[43m=\u001b[49m\u001b[43mprogram\u001b[49m\u001b[43m,\u001b[49m\n\u001b[32m    472\u001b[39m \u001b[43m    \u001b[49m\u001b[43mdemo_candidates\u001b[49m\u001b[43m=\u001b[49m\u001b[43mdemo_candidates\u001b[49m\u001b[43m,\u001b[49m\n\u001b[32m    473\u001b[39m \u001b[43m    \u001b[49m\u001b[43mN\u001b[49m\u001b[43m=\u001b[49m\u001b[38;5;28;43mself\u001b[39;49m\u001b[43m.\u001b[49m\u001b[43mnum_instruct_candidates\u001b[49m\u001b[43m,\u001b[49m\n\u001b[32m    474\u001b[39m \u001b[43m    \u001b[49m\u001b[43mT\u001b[49m\u001b[43m=\u001b[49m\u001b[38;5;28;43mself\u001b[39;49m\u001b[43m.\u001b[49m\u001b[43minit_temperature\u001b[49m\u001b[43m,\u001b[49m\n\u001b[32m    475\u001b[39m \u001b[43m    \u001b[49m\u001b[43mtrial_logs\u001b[49m\u001b[43m=\u001b[49m\u001b[43m{\u001b[49m\u001b[43m}\u001b[49m\u001b[43m,\u001b[49m\n\u001b[32m    476\u001b[39m \u001b[43m\u001b[49m\u001b[43m)\u001b[49m\n\u001b[32m    478\u001b[39m \u001b[38;5;28;01mfor\u001b[39;00m i, pred \u001b[38;5;129;01min\u001b[39;00m \u001b[38;5;28menumerate\u001b[39m(program.predictors()):\n\u001b[32m    479\u001b[39m     logger.info(\u001b[33mf\u001b[39m\u001b[33m\"\u001b[39m\u001b[33mProposed Instructions for Predictor \u001b[39m\u001b[38;5;132;01m{\u001b[39;00mi\u001b[38;5;132;01m}\u001b[39;00m\u001b[33m:\u001b[39m\u001b[38;5;130;01m\\n\u001b[39;00m\u001b[33m\"\u001b[39m)\n",
      "\u001b[36mFile \u001b[39m\u001b[32mc:\\Users\\97252\\Desktop\\לימודים\\סמסטר ו\\LLM\\hm2\\nlp-with-llms-2025-hw2\\.venv\\Lib\\site-packages\\dspy\\propose\\grounded_proposer.py:374\u001b[39m, in \u001b[36mGroundedProposer.propose_instructions_for_program\u001b[39m\u001b[34m(self, trainset, program, demo_candidates, trial_logs, N, T)\u001b[39m\n\u001b[32m    370\u001b[39m             \u001b[38;5;28;01mif\u001b[39;00m \u001b[38;5;28mself\u001b[39m.verbose:\n\u001b[32m    371\u001b[39m                 \u001b[38;5;28mprint\u001b[39m(\u001b[33mf\u001b[39m\u001b[33m\"\u001b[39m\u001b[33mSelected tip: \u001b[39m\u001b[38;5;132;01m{\u001b[39;00mselected_tip_key\u001b[38;5;132;01m}\u001b[39;00m\u001b[33m\"\u001b[39m)\n\u001b[32m    373\u001b[39m         proposed_instructions[pred_i].append(\n\u001b[32m--> \u001b[39m\u001b[32m374\u001b[39m             \u001b[38;5;28;43mself\u001b[39;49m\u001b[43m.\u001b[49m\u001b[43mpropose_instruction_for_predictor\u001b[49m\u001b[43m(\u001b[49m\n\u001b[32m    375\u001b[39m \u001b[43m                \u001b[49m\u001b[43mprogram\u001b[49m\u001b[43m=\u001b[49m\u001b[43mprogram\u001b[49m\u001b[43m,\u001b[49m\n\u001b[32m    376\u001b[39m \u001b[43m                \u001b[49m\u001b[43mpredictor\u001b[49m\u001b[43m=\u001b[49m\u001b[43mpredictor\u001b[49m\u001b[43m,\u001b[49m\n\u001b[32m    377\u001b[39m \u001b[43m                \u001b[49m\u001b[43mpred_i\u001b[49m\u001b[43m=\u001b[49m\u001b[43mpred_i\u001b[49m\u001b[43m,\u001b[49m\n\u001b[32m    378\u001b[39m \u001b[43m                \u001b[49m\u001b[43mT\u001b[49m\u001b[43m=\u001b[49m\u001b[43mT\u001b[49m\u001b[43m,\u001b[49m\n\u001b[32m    379\u001b[39m \u001b[43m                \u001b[49m\u001b[43mdemo_candidates\u001b[49m\u001b[43m=\u001b[49m\u001b[43mdemo_candidates\u001b[49m\u001b[43m,\u001b[49m\n\u001b[32m    380\u001b[39m \u001b[43m                \u001b[49m\u001b[43mdemo_set_i\u001b[49m\u001b[43m=\u001b[49m\u001b[43mdemo_set_i\u001b[49m\u001b[43m,\u001b[49m\n\u001b[32m    381\u001b[39m \u001b[43m                \u001b[49m\u001b[43mtrial_logs\u001b[49m\u001b[43m=\u001b[49m\u001b[43mtrial_logs\u001b[49m\u001b[43m,\u001b[49m\n\u001b[32m    382\u001b[39m \u001b[43m                \u001b[49m\u001b[43mtip\u001b[49m\u001b[43m=\u001b[49m\u001b[43mselected_tip\u001b[49m\u001b[43m,\u001b[49m\n\u001b[32m    383\u001b[39m \u001b[43m            \u001b[49m\u001b[43m)\u001b[49m,\n\u001b[32m    384\u001b[39m         )\n\u001b[32m    386\u001b[39m \u001b[38;5;28;01mreturn\u001b[39;00m proposed_instructions\n",
      "\u001b[36mFile \u001b[39m\u001b[32mc:\\Users\\97252\\Desktop\\לימודים\\סמסטר ו\\LLM\\hm2\\nlp-with-llms-2025-hw2\\.venv\\Lib\\site-packages\\dspy\\propose\\grounded_proposer.py:425\u001b[39m, in \u001b[36mGroundedProposer.propose_instruction_for_predictor\u001b[39m\u001b[34m(self, program, predictor, pred_i, T, demo_candidates, demo_set_i, trial_logs, tip)\u001b[39m\n\u001b[32m    423\u001b[39m \u001b[38;5;28;01mwith\u001b[39;00m dspy.settings.context(lm=\u001b[38;5;28mself\u001b[39m.prompt_model):\n\u001b[32m    424\u001b[39m     \u001b[38;5;28mself\u001b[39m.prompt_model.kwargs[\u001b[33m\"\u001b[39m\u001b[33mtemperature\u001b[39m\u001b[33m\"\u001b[39m] = modified_temp\n\u001b[32m--> \u001b[39m\u001b[32m425\u001b[39m     proposed_instruction = \u001b[43minstruction_generator\u001b[49m\u001b[43m.\u001b[49m\u001b[43mforward\u001b[49m\u001b[43m(\u001b[49m\n\u001b[32m    426\u001b[39m \u001b[43m        \u001b[49m\u001b[43mdemo_candidates\u001b[49m\u001b[43m=\u001b[49m\u001b[43mdemo_candidates\u001b[49m\u001b[43m,\u001b[49m\n\u001b[32m    427\u001b[39m \u001b[43m        \u001b[49m\u001b[43mpred_i\u001b[49m\u001b[43m=\u001b[49m\u001b[43mpred_i\u001b[49m\u001b[43m,\u001b[49m\n\u001b[32m    428\u001b[39m \u001b[43m        \u001b[49m\u001b[43mdemo_set_i\u001b[49m\u001b[43m=\u001b[49m\u001b[43mdemo_set_i\u001b[49m\u001b[43m,\u001b[49m\n\u001b[32m    429\u001b[39m \u001b[43m        \u001b[49m\u001b[43mprogram\u001b[49m\u001b[43m=\u001b[49m\u001b[43mprogram\u001b[49m\u001b[43m,\u001b[49m\n\u001b[32m    430\u001b[39m \u001b[43m        \u001b[49m\u001b[43mdata_summary\u001b[49m\u001b[43m=\u001b[49m\u001b[38;5;28;43mself\u001b[39;49m\u001b[43m.\u001b[49m\u001b[43mdata_summary\u001b[49m\u001b[43m,\u001b[49m\n\u001b[32m    431\u001b[39m \u001b[43m        \u001b[49m\u001b[43mprevious_instructions\u001b[49m\u001b[43m=\u001b[49m\u001b[43minstruction_history\u001b[49m\u001b[43m,\u001b[49m\n\u001b[32m    432\u001b[39m \u001b[43m        \u001b[49m\u001b[43mnum_demos_in_context\u001b[49m\u001b[43m \u001b[49m\u001b[43m=\u001b[49m\u001b[43m \u001b[49m\u001b[38;5;28;43mself\u001b[39;49m\u001b[43m.\u001b[49m\u001b[43mnum_demos_in_context\u001b[49m\u001b[43m,\u001b[49m\n\u001b[32m    433\u001b[39m \u001b[43m        \u001b[49m\u001b[43mtip\u001b[49m\u001b[43m=\u001b[49m\u001b[43mtip\u001b[49m\u001b[43m,\u001b[49m\n\u001b[32m    434\u001b[39m \u001b[43m    \u001b[49m\u001b[43m)\u001b[49m.proposed_instruction\n\u001b[32m    435\u001b[39m \u001b[38;5;28mself\u001b[39m.prompt_model.kwargs[\u001b[33m\"\u001b[39m\u001b[33mtemperature\u001b[39m\u001b[33m\"\u001b[39m] = original_temp\n\u001b[32m    437\u001b[39m \u001b[38;5;66;03m# Log the trace used to generate the new instruction, along with the new instruction itself\u001b[39;00m\n",
      "\u001b[36mFile \u001b[39m\u001b[32mc:\\Users\\97252\\Desktop\\לימודים\\סמסטר ו\\LLM\\hm2\\nlp-with-llms-2025-hw2\\.venv\\Lib\\site-packages\\dspy\\propose\\grounded_proposer.py:253\u001b[39m, in \u001b[36mGenerateModuleInstruction.forward\u001b[39m\u001b[34m(self, demo_candidates, pred_i, demo_set_i, program, previous_instructions, data_summary, num_demos_in_context, tip)\u001b[39m\n\u001b[32m    250\u001b[39m \u001b[38;5;28;01mif\u001b[39;00m \u001b[38;5;28mself\u001b[39m.verbose:\n\u001b[32m    251\u001b[39m     \u001b[38;5;28mprint\u001b[39m(\u001b[33mf\u001b[39m\u001b[33m\"\u001b[39m\u001b[33mtask_demos \u001b[39m\u001b[38;5;132;01m{\u001b[39;00mtask_demos\u001b[38;5;132;01m}\u001b[39;00m\u001b[33m\"\u001b[39m)\n\u001b[32m--> \u001b[39m\u001b[32m253\u001b[39m instruct = \u001b[38;5;28;43mself\u001b[39;49m\u001b[43m.\u001b[49m\u001b[43mgenerate_module_instruction\u001b[49m\u001b[43m(\u001b[49m\n\u001b[32m    254\u001b[39m \u001b[43m    \u001b[49m\u001b[43mdataset_description\u001b[49m\u001b[43m=\u001b[49m\u001b[43mdata_summary\u001b[49m\u001b[43m,\u001b[49m\n\u001b[32m    255\u001b[39m \u001b[43m    \u001b[49m\u001b[43mprogram_code\u001b[49m\u001b[43m=\u001b[49m\u001b[38;5;28;43mself\u001b[39;49m\u001b[43m.\u001b[49m\u001b[43mprogram_code_string\u001b[49m\u001b[43m,\u001b[49m\n\u001b[32m    256\u001b[39m \u001b[43m    \u001b[49m\u001b[43mmodule\u001b[49m\u001b[43m=\u001b[49m\u001b[43mmodule_code\u001b[49m\u001b[43m,\u001b[49m\n\u001b[32m    257\u001b[39m \u001b[43m    \u001b[49m\u001b[43mprogram_description\u001b[49m\u001b[43m=\u001b[49m\u001b[43mprogram_description\u001b[49m\u001b[43m,\u001b[49m\n\u001b[32m    258\u001b[39m \u001b[43m    \u001b[49m\u001b[43mmodule_description\u001b[49m\u001b[43m=\u001b[49m\u001b[43mmodule_description\u001b[49m\u001b[43m,\u001b[49m\n\u001b[32m    259\u001b[39m \u001b[43m    \u001b[49m\u001b[43mtask_demos\u001b[49m\u001b[43m=\u001b[49m\u001b[43mtask_demos\u001b[49m\u001b[43m,\u001b[49m\n\u001b[32m    260\u001b[39m \u001b[43m    \u001b[49m\u001b[43mtip\u001b[49m\u001b[43m=\u001b[49m\u001b[43mtip\u001b[49m\u001b[43m,\u001b[49m\n\u001b[32m    261\u001b[39m \u001b[43m    \u001b[49m\u001b[43mbasic_instruction\u001b[49m\u001b[43m=\u001b[49m\u001b[43mbasic_instruction\u001b[49m\u001b[43m,\u001b[49m\n\u001b[32m    262\u001b[39m \u001b[43m    \u001b[49m\u001b[43mprevious_instructions\u001b[49m\u001b[43m=\u001b[49m\u001b[43mprevious_instructions\u001b[49m\u001b[43m,\u001b[49m\n\u001b[32m    263\u001b[39m \u001b[43m\u001b[49m\u001b[43m)\u001b[49m\n\u001b[32m    265\u001b[39m proposed_instruction = strip_prefix(instruct.proposed_instruction)\n\u001b[32m    267\u001b[39m \u001b[38;5;28;01mreturn\u001b[39;00m dspy.Prediction(proposed_instruction=proposed_instruction)\n",
      "\u001b[36mFile \u001b[39m\u001b[32mc:\\Users\\97252\\Desktop\\לימודים\\סמסטר ו\\LLM\\hm2\\nlp-with-llms-2025-hw2\\.venv\\Lib\\site-packages\\dspy\\predict\\predict.py:85\u001b[39m, in \u001b[36mPredict.__call__\u001b[39m\u001b[34m(self, *args, **kwargs)\u001b[39m\n\u001b[32m     82\u001b[39m \u001b[38;5;28;01mif\u001b[39;00m args:\n\u001b[32m     83\u001b[39m     \u001b[38;5;28;01mraise\u001b[39;00m \u001b[38;5;167;01mValueError\u001b[39;00m(\u001b[38;5;28mself\u001b[39m._get_positional_args_error_message())\n\u001b[32m---> \u001b[39m\u001b[32m85\u001b[39m \u001b[38;5;28;01mreturn\u001b[39;00m \u001b[38;5;28;43msuper\u001b[39;49m\u001b[43m(\u001b[49m\u001b[43m)\u001b[49m\u001b[43m.\u001b[49m\u001b[34;43m__call__\u001b[39;49m\u001b[43m(\u001b[49m\u001b[43m*\u001b[49m\u001b[43m*\u001b[49m\u001b[43mkwargs\u001b[49m\u001b[43m)\u001b[49m\n",
      "\u001b[36mFile \u001b[39m\u001b[32mc:\\Users\\97252\\Desktop\\לימודים\\סמסטר ו\\LLM\\hm2\\nlp-with-llms-2025-hw2\\.venv\\Lib\\site-packages\\dspy\\utils\\callback.py:326\u001b[39m, in \u001b[36mwith_callbacks.<locals>.sync_wrapper\u001b[39m\u001b[34m(instance, *args, **kwargs)\u001b[39m\n\u001b[32m    324\u001b[39m callbacks = _get_active_callbacks(instance)\n\u001b[32m    325\u001b[39m \u001b[38;5;28;01mif\u001b[39;00m \u001b[38;5;129;01mnot\u001b[39;00m callbacks:\n\u001b[32m--> \u001b[39m\u001b[32m326\u001b[39m     \u001b[38;5;28;01mreturn\u001b[39;00m \u001b[43mfn\u001b[49m\u001b[43m(\u001b[49m\u001b[43minstance\u001b[49m\u001b[43m,\u001b[49m\u001b[43m \u001b[49m\u001b[43m*\u001b[49m\u001b[43margs\u001b[49m\u001b[43m,\u001b[49m\u001b[43m \u001b[49m\u001b[43m*\u001b[49m\u001b[43m*\u001b[49m\u001b[43mkwargs\u001b[49m\u001b[43m)\u001b[49m\n\u001b[32m    328\u001b[39m call_id = uuid.uuid4().hex\n\u001b[32m    330\u001b[39m _execute_start_callbacks(instance, fn, call_id, callbacks, args, kwargs)\n",
      "\u001b[36mFile \u001b[39m\u001b[32mc:\\Users\\97252\\Desktop\\לימודים\\סמסטר ו\\LLM\\hm2\\nlp-with-llms-2025-hw2\\.venv\\Lib\\site-packages\\dspy\\primitives\\program.py:60\u001b[39m, in \u001b[36mModule.__call__\u001b[39m\u001b[34m(self, *args, **kwargs)\u001b[39m\n\u001b[32m     57\u001b[39m     output.set_lm_usage(usage_tracker.get_total_tokens())\n\u001b[32m     58\u001b[39m     \u001b[38;5;28;01mreturn\u001b[39;00m output\n\u001b[32m---> \u001b[39m\u001b[32m60\u001b[39m \u001b[38;5;28;01mreturn\u001b[39;00m \u001b[38;5;28;43mself\u001b[39;49m\u001b[43m.\u001b[49m\u001b[43mforward\u001b[49m\u001b[43m(\u001b[49m\u001b[43m*\u001b[49m\u001b[43margs\u001b[49m\u001b[43m,\u001b[49m\u001b[43m \u001b[49m\u001b[43m*\u001b[49m\u001b[43m*\u001b[49m\u001b[43mkwargs\u001b[49m\u001b[43m)\u001b[49m\n",
      "\u001b[36mFile \u001b[39m\u001b[32mc:\\Users\\97252\\Desktop\\לימודים\\סמסטר ו\\LLM\\hm2\\nlp-with-llms-2025-hw2\\.venv\\Lib\\site-packages\\dspy\\predict\\predict.py:157\u001b[39m, in \u001b[36mPredict.forward\u001b[39m\u001b[34m(self, **kwargs)\u001b[39m\n\u001b[32m    155\u001b[39m \u001b[38;5;28;01melse\u001b[39;00m:\n\u001b[32m    156\u001b[39m     \u001b[38;5;28;01mwith\u001b[39;00m settings.context(send_stream=\u001b[38;5;28;01mNone\u001b[39;00m):\n\u001b[32m--> \u001b[39m\u001b[32m157\u001b[39m         completions = \u001b[43madapter\u001b[49m\u001b[43m(\u001b[49m\u001b[43mlm\u001b[49m\u001b[43m,\u001b[49m\u001b[43m \u001b[49m\u001b[43mlm_kwargs\u001b[49m\u001b[43m=\u001b[49m\u001b[43mconfig\u001b[49m\u001b[43m,\u001b[49m\u001b[43m \u001b[49m\u001b[43msignature\u001b[49m\u001b[43m=\u001b[49m\u001b[43msignature\u001b[49m\u001b[43m,\u001b[49m\u001b[43m \u001b[49m\u001b[43mdemos\u001b[49m\u001b[43m=\u001b[49m\u001b[43mdemos\u001b[49m\u001b[43m,\u001b[49m\u001b[43m \u001b[49m\u001b[43minputs\u001b[49m\u001b[43m=\u001b[49m\u001b[43mkwargs\u001b[49m\u001b[43m)\u001b[49m\n\u001b[32m    159\u001b[39m \u001b[38;5;28;01mreturn\u001b[39;00m \u001b[38;5;28mself\u001b[39m._forward_postprocess(completions, signature, **kwargs)\n",
      "\u001b[36mFile \u001b[39m\u001b[32mc:\\Users\\97252\\Desktop\\לימודים\\סמסטר ו\\LLM\\hm2\\nlp-with-llms-2025-hw2\\.venv\\Lib\\site-packages\\dspy\\adapters\\chat_adapter.py:42\u001b[39m, in \u001b[36mChatAdapter.__call__\u001b[39m\u001b[34m(self, lm, lm_kwargs, signature, demos, inputs)\u001b[39m\n\u001b[32m     33\u001b[39m \u001b[38;5;28;01mdef\u001b[39;00m\u001b[38;5;250m \u001b[39m\u001b[34m__call__\u001b[39m(\n\u001b[32m     34\u001b[39m     \u001b[38;5;28mself\u001b[39m,\n\u001b[32m     35\u001b[39m     lm: LM,\n\u001b[32m   (...)\u001b[39m\u001b[32m     39\u001b[39m     inputs: \u001b[38;5;28mdict\u001b[39m[\u001b[38;5;28mstr\u001b[39m, Any],\n\u001b[32m     40\u001b[39m ) -> \u001b[38;5;28mlist\u001b[39m[\u001b[38;5;28mdict\u001b[39m[\u001b[38;5;28mstr\u001b[39m, Any]]:\n\u001b[32m     41\u001b[39m     \u001b[38;5;28;01mtry\u001b[39;00m:\n\u001b[32m---> \u001b[39m\u001b[32m42\u001b[39m         \u001b[38;5;28;01mreturn\u001b[39;00m \u001b[38;5;28;43msuper\u001b[39;49m\u001b[43m(\u001b[49m\u001b[43m)\u001b[49m\u001b[43m.\u001b[49m\u001b[34;43m__call__\u001b[39;49m\u001b[43m(\u001b[49m\u001b[43mlm\u001b[49m\u001b[43m,\u001b[49m\u001b[43m \u001b[49m\u001b[43mlm_kwargs\u001b[49m\u001b[43m,\u001b[49m\u001b[43m \u001b[49m\u001b[43msignature\u001b[49m\u001b[43m,\u001b[49m\u001b[43m \u001b[49m\u001b[43mdemos\u001b[49m\u001b[43m,\u001b[49m\u001b[43m \u001b[49m\u001b[43minputs\u001b[49m\u001b[43m)\u001b[49m\n\u001b[32m     43\u001b[39m     \u001b[38;5;28;01mexcept\u001b[39;00m \u001b[38;5;167;01mException\u001b[39;00m \u001b[38;5;28;01mas\u001b[39;00m e:\n\u001b[32m     44\u001b[39m         \u001b[38;5;66;03m# fallback to JSONAdapter\u001b[39;00m\n\u001b[32m     45\u001b[39m         \u001b[38;5;28;01mfrom\u001b[39;00m\u001b[38;5;250m \u001b[39m\u001b[34;01mdspy\u001b[39;00m\u001b[34;01m.\u001b[39;00m\u001b[34;01madapters\u001b[39;00m\u001b[34;01m.\u001b[39;00m\u001b[34;01mjson_adapter\u001b[39;00m\u001b[38;5;250m \u001b[39m\u001b[38;5;28;01mimport\u001b[39;00m JSONAdapter\n",
      "\u001b[36mFile \u001b[39m\u001b[32mc:\\Users\\97252\\Desktop\\לימודים\\סמסטר ו\\LLM\\hm2\\nlp-with-llms-2025-hw2\\.venv\\Lib\\site-packages\\dspy\\adapters\\base.py:119\u001b[39m, in \u001b[36mAdapter.__call__\u001b[39m\u001b[34m(self, lm, lm_kwargs, signature, demos, inputs)\u001b[39m\n\u001b[32m    116\u001b[39m processed_signature = \u001b[38;5;28mself\u001b[39m._call_preprocess(lm, lm_kwargs, signature, inputs)\n\u001b[32m    117\u001b[39m inputs = \u001b[38;5;28mself\u001b[39m.format(processed_signature, demos, inputs)\n\u001b[32m--> \u001b[39m\u001b[32m119\u001b[39m outputs = \u001b[43mlm\u001b[49m\u001b[43m(\u001b[49m\u001b[43mmessages\u001b[49m\u001b[43m=\u001b[49m\u001b[43minputs\u001b[49m\u001b[43m,\u001b[49m\u001b[43m \u001b[49m\u001b[43m*\u001b[49m\u001b[43m*\u001b[49m\u001b[43mlm_kwargs\u001b[49m\u001b[43m)\u001b[49m\n\u001b[32m    120\u001b[39m \u001b[38;5;28;01mreturn\u001b[39;00m \u001b[38;5;28mself\u001b[39m._call_postprocess(signature, outputs)\n",
      "\u001b[36mFile \u001b[39m\u001b[32mc:\\Users\\97252\\Desktop\\לימודים\\סמסטר ו\\LLM\\hm2\\nlp-with-llms-2025-hw2\\.venv\\Lib\\site-packages\\dspy\\utils\\callback.py:326\u001b[39m, in \u001b[36mwith_callbacks.<locals>.sync_wrapper\u001b[39m\u001b[34m(instance, *args, **kwargs)\u001b[39m\n\u001b[32m    324\u001b[39m callbacks = _get_active_callbacks(instance)\n\u001b[32m    325\u001b[39m \u001b[38;5;28;01mif\u001b[39;00m \u001b[38;5;129;01mnot\u001b[39;00m callbacks:\n\u001b[32m--> \u001b[39m\u001b[32m326\u001b[39m     \u001b[38;5;28;01mreturn\u001b[39;00m \u001b[43mfn\u001b[49m\u001b[43m(\u001b[49m\u001b[43minstance\u001b[49m\u001b[43m,\u001b[49m\u001b[43m \u001b[49m\u001b[43m*\u001b[49m\u001b[43margs\u001b[49m\u001b[43m,\u001b[49m\u001b[43m \u001b[49m\u001b[43m*\u001b[49m\u001b[43m*\u001b[49m\u001b[43mkwargs\u001b[49m\u001b[43m)\u001b[49m\n\u001b[32m    328\u001b[39m call_id = uuid.uuid4().hex\n\u001b[32m    330\u001b[39m _execute_start_callbacks(instance, fn, call_id, callbacks, args, kwargs)\n",
      "\u001b[36mFile \u001b[39m\u001b[32mc:\\Users\\97252\\Desktop\\לימודים\\סמסטר ו\\LLM\\hm2\\nlp-with-llms-2025-hw2\\.venv\\Lib\\site-packages\\dspy\\clients\\base_lm.py:96\u001b[39m, in \u001b[36mBaseLM.__call__\u001b[39m\u001b[34m(self, prompt, messages, **kwargs)\u001b[39m\n\u001b[32m     94\u001b[39m \u001b[38;5;129m@with_callbacks\u001b[39m\n\u001b[32m     95\u001b[39m \u001b[38;5;28;01mdef\u001b[39;00m\u001b[38;5;250m \u001b[39m\u001b[34m__call__\u001b[39m(\u001b[38;5;28mself\u001b[39m, prompt=\u001b[38;5;28;01mNone\u001b[39;00m, messages=\u001b[38;5;28;01mNone\u001b[39;00m, **kwargs):\n\u001b[32m---> \u001b[39m\u001b[32m96\u001b[39m     response = \u001b[38;5;28;43mself\u001b[39;49m\u001b[43m.\u001b[49m\u001b[43mforward\u001b[49m\u001b[43m(\u001b[49m\u001b[43mprompt\u001b[49m\u001b[43m=\u001b[49m\u001b[43mprompt\u001b[49m\u001b[43m,\u001b[49m\u001b[43m \u001b[49m\u001b[43mmessages\u001b[49m\u001b[43m=\u001b[49m\u001b[43mmessages\u001b[49m\u001b[43m,\u001b[49m\u001b[43m \u001b[49m\u001b[43m*\u001b[49m\u001b[43m*\u001b[49m\u001b[43mkwargs\u001b[49m\u001b[43m)\u001b[49m\n\u001b[32m     97\u001b[39m     outputs = \u001b[38;5;28mself\u001b[39m._process_lm_response(response, prompt, messages, **kwargs)\n\u001b[32m     99\u001b[39m     \u001b[38;5;28;01mreturn\u001b[39;00m outputs\n",
      "\u001b[36mFile \u001b[39m\u001b[32mc:\\Users\\97252\\Desktop\\לימודים\\סמסטר ו\\LLM\\hm2\\nlp-with-llms-2025-hw2\\.venv\\Lib\\site-packages\\dspy\\clients\\lm.py:127\u001b[39m, in \u001b[36mLM.forward\u001b[39m\u001b[34m(self, prompt, messages, **kwargs)\u001b[39m\n\u001b[32m    124\u001b[39m completion = litellm_completion \u001b[38;5;28;01mif\u001b[39;00m \u001b[38;5;28mself\u001b[39m.model_type == \u001b[33m\"\u001b[39m\u001b[33mchat\u001b[39m\u001b[33m\"\u001b[39m \u001b[38;5;28;01melse\u001b[39;00m litellm_text_completion\n\u001b[32m    125\u001b[39m completion, litellm_cache_args = \u001b[38;5;28mself\u001b[39m._get_cached_completion_fn(completion, cache, enable_memory_cache)\n\u001b[32m--> \u001b[39m\u001b[32m127\u001b[39m results = \u001b[43mcompletion\u001b[49m\u001b[43m(\u001b[49m\n\u001b[32m    128\u001b[39m \u001b[43m    \u001b[49m\u001b[43mrequest\u001b[49m\u001b[43m=\u001b[49m\u001b[38;5;28;43mdict\u001b[39;49m\u001b[43m(\u001b[49m\u001b[43mmodel\u001b[49m\u001b[43m=\u001b[49m\u001b[38;5;28;43mself\u001b[39;49m\u001b[43m.\u001b[49m\u001b[43mmodel\u001b[49m\u001b[43m,\u001b[49m\u001b[43m \u001b[49m\u001b[43mmessages\u001b[49m\u001b[43m=\u001b[49m\u001b[43mmessages\u001b[49m\u001b[43m,\u001b[49m\u001b[43m \u001b[49m\u001b[43m*\u001b[49m\u001b[43m*\u001b[49m\u001b[43mkwargs\u001b[49m\u001b[43m)\u001b[49m\u001b[43m,\u001b[49m\n\u001b[32m    129\u001b[39m \u001b[43m    \u001b[49m\u001b[43mnum_retries\u001b[49m\u001b[43m=\u001b[49m\u001b[38;5;28;43mself\u001b[39;49m\u001b[43m.\u001b[49m\u001b[43mnum_retries\u001b[49m\u001b[43m,\u001b[49m\n\u001b[32m    130\u001b[39m \u001b[43m    \u001b[49m\u001b[43mcache\u001b[49m\u001b[43m=\u001b[49m\u001b[43mlitellm_cache_args\u001b[49m\u001b[43m,\u001b[49m\n\u001b[32m    131\u001b[39m \u001b[43m\u001b[49m\u001b[43m)\u001b[49m\n\u001b[32m    133\u001b[39m \u001b[38;5;28;01mif\u001b[39;00m \u001b[38;5;28many\u001b[39m(c.finish_reason == \u001b[33m\"\u001b[39m\u001b[33mlength\u001b[39m\u001b[33m\"\u001b[39m \u001b[38;5;28;01mfor\u001b[39;00m c \u001b[38;5;129;01min\u001b[39;00m results[\u001b[33m\"\u001b[39m\u001b[33mchoices\u001b[39m\u001b[33m\"\u001b[39m]):\n\u001b[32m    134\u001b[39m     logger.warning(\n\u001b[32m    135\u001b[39m         \u001b[33mf\u001b[39m\u001b[33m\"\u001b[39m\u001b[33mLM response was truncated due to exceeding max_tokens=\u001b[39m\u001b[38;5;132;01m{\u001b[39;00m\u001b[38;5;28mself\u001b[39m.kwargs[\u001b[33m'\u001b[39m\u001b[33mmax_tokens\u001b[39m\u001b[33m'\u001b[39m]\u001b[38;5;132;01m}\u001b[39;00m\u001b[33m. \u001b[39m\u001b[33m\"\u001b[39m\n\u001b[32m    136\u001b[39m         \u001b[33m\"\u001b[39m\u001b[33mYou can inspect the latest LM interactions with `dspy.inspect_history()`. \u001b[39m\u001b[33m\"\u001b[39m\n\u001b[32m   (...)\u001b[39m\u001b[32m    139\u001b[39m         \u001b[33m\"\u001b[39m\u001b[33m if the reason for truncation is repetition.\u001b[39m\u001b[33m\"\u001b[39m\n\u001b[32m    140\u001b[39m     )\n",
      "\u001b[36mFile \u001b[39m\u001b[32mc:\\Users\\97252\\Desktop\\לימודים\\סמסטר ו\\LLM\\hm2\\nlp-with-llms-2025-hw2\\.venv\\Lib\\site-packages\\dspy\\clients\\cache.py:232\u001b[39m, in \u001b[36mrequest_cache.<locals>.decorator.<locals>.sync_wrapper\u001b[39m\u001b[34m(*args, **kwargs)\u001b[39m\n\u001b[32m    229\u001b[39m     \u001b[38;5;28;01mreturn\u001b[39;00m cached_result\n\u001b[32m    231\u001b[39m \u001b[38;5;66;03m# Otherwise, compute and store the result\u001b[39;00m\n\u001b[32m--> \u001b[39m\u001b[32m232\u001b[39m result = \u001b[43mfn\u001b[49m\u001b[43m(\u001b[49m\u001b[43m*\u001b[49m\u001b[43margs\u001b[49m\u001b[43m,\u001b[49m\u001b[43m \u001b[49m\u001b[43m*\u001b[49m\u001b[43m*\u001b[49m\u001b[43mkwargs\u001b[49m\u001b[43m)\u001b[49m\n\u001b[32m    233\u001b[39m \u001b[38;5;66;03m# `enable_memory_cache` can be provided at call time to avoid indefinite growth.\u001b[39;00m\n\u001b[32m    234\u001b[39m cache.put(modified_request, result, ignored_args_for_cache_key, enable_memory_cache)\n",
      "\u001b[36mFile \u001b[39m\u001b[32mc:\\Users\\97252\\Desktop\\לימודים\\סמסטר ו\\LLM\\hm2\\nlp-with-llms-2025-hw2\\.venv\\Lib\\site-packages\\dspy\\clients\\lm.py:304\u001b[39m, in \u001b[36mlitellm_completion\u001b[39m\u001b[34m(request, num_retries, cache)\u001b[39m\n\u001b[32m    302\u001b[39m stream_completion = _get_stream_completion_fn(request, cache, sync=\u001b[38;5;28;01mTrue\u001b[39;00m)\n\u001b[32m    303\u001b[39m \u001b[38;5;28;01mif\u001b[39;00m stream_completion \u001b[38;5;129;01mis\u001b[39;00m \u001b[38;5;28;01mNone\u001b[39;00m:\n\u001b[32m--> \u001b[39m\u001b[32m304\u001b[39m     \u001b[38;5;28;01mreturn\u001b[39;00m \u001b[43mlitellm\u001b[49m\u001b[43m.\u001b[49m\u001b[43mcompletion\u001b[49m\u001b[43m(\u001b[49m\n\u001b[32m    305\u001b[39m \u001b[43m        \u001b[49m\u001b[43mcache\u001b[49m\u001b[43m=\u001b[49m\u001b[43mcache\u001b[49m\u001b[43m,\u001b[49m\n\u001b[32m    306\u001b[39m \u001b[43m        \u001b[49m\u001b[43mnum_retries\u001b[49m\u001b[43m=\u001b[49m\u001b[43mnum_retries\u001b[49m\u001b[43m,\u001b[49m\n\u001b[32m    307\u001b[39m \u001b[43m        \u001b[49m\u001b[43mretry_strategy\u001b[49m\u001b[43m=\u001b[49m\u001b[33;43m\"\u001b[39;49m\u001b[33;43mexponential_backoff_retry\u001b[39;49m\u001b[33;43m\"\u001b[39;49m\u001b[43m,\u001b[49m\n\u001b[32m    308\u001b[39m \u001b[43m        \u001b[49m\u001b[43m*\u001b[49m\u001b[43m*\u001b[49m\u001b[43mrequest\u001b[49m\u001b[43m,\u001b[49m\n\u001b[32m    309\u001b[39m \u001b[43m    \u001b[49m\u001b[43m)\u001b[49m\n\u001b[32m    311\u001b[39m \u001b[38;5;28;01mreturn\u001b[39;00m stream_completion()\n",
      "\u001b[36mFile \u001b[39m\u001b[32mc:\\Users\\97252\\Desktop\\לימודים\\סמסטר ו\\LLM\\hm2\\nlp-with-llms-2025-hw2\\.venv\\Lib\\site-packages\\litellm\\utils.py:1179\u001b[39m, in \u001b[36mclient.<locals>.wrapper\u001b[39m\u001b[34m(*args, **kwargs)\u001b[39m\n\u001b[32m   1177\u001b[39m         print_verbose(\u001b[33mf\u001b[39m\u001b[33m\"\u001b[39m\u001b[33mError while checking max token limit: \u001b[39m\u001b[38;5;132;01m{\u001b[39;00m\u001b[38;5;28mstr\u001b[39m(e)\u001b[38;5;132;01m}\u001b[39;00m\u001b[33m\"\u001b[39m)\n\u001b[32m   1178\u001b[39m \u001b[38;5;66;03m# MODEL CALL\u001b[39;00m\n\u001b[32m-> \u001b[39m\u001b[32m1179\u001b[39m result = \u001b[43moriginal_function\u001b[49m\u001b[43m(\u001b[49m\u001b[43m*\u001b[49m\u001b[43margs\u001b[49m\u001b[43m,\u001b[49m\u001b[43m \u001b[49m\u001b[43m*\u001b[49m\u001b[43m*\u001b[49m\u001b[43mkwargs\u001b[49m\u001b[43m)\u001b[49m\n\u001b[32m   1180\u001b[39m end_time = datetime.datetime.now()\n\u001b[32m   1181\u001b[39m \u001b[38;5;28;01mif\u001b[39;00m _is_streaming_request(\n\u001b[32m   1182\u001b[39m     kwargs=kwargs,\n\u001b[32m   1183\u001b[39m     call_type=call_type,\n\u001b[32m   1184\u001b[39m ):\n",
      "\u001b[36mFile \u001b[39m\u001b[32mc:\\Users\\97252\\Desktop\\לימודים\\סמסטר ו\\LLM\\hm2\\nlp-with-llms-2025-hw2\\.venv\\Lib\\site-packages\\litellm\\main.py:1876\u001b[39m, in \u001b[36mcompletion\u001b[39m\u001b[34m(model, messages, timeout, temperature, top_p, n, stream, stream_options, stop, max_completion_tokens, max_tokens, modalities, prediction, audio, presence_penalty, frequency_penalty, logit_bias, user, reasoning_effort, response_format, seed, tools, tool_choice, logprobs, top_logprobs, parallel_tool_calls, web_search_options, deployment_id, extra_headers, functions, function_call, base_url, api_version, api_key, model_list, thinking, **kwargs)\u001b[39m\n\u001b[32m   1874\u001b[39m \u001b[38;5;66;03m## COMPLETION CALL\u001b[39;00m\n\u001b[32m   1875\u001b[39m \u001b[38;5;28;01mtry\u001b[39;00m:\n\u001b[32m-> \u001b[39m\u001b[32m1876\u001b[39m     response = \u001b[43mopenai_chat_completions\u001b[49m\u001b[43m.\u001b[49m\u001b[43mcompletion\u001b[49m\u001b[43m(\u001b[49m\n\u001b[32m   1877\u001b[39m \u001b[43m        \u001b[49m\u001b[43mmodel\u001b[49m\u001b[43m=\u001b[49m\u001b[43mmodel\u001b[49m\u001b[43m,\u001b[49m\n\u001b[32m   1878\u001b[39m \u001b[43m        \u001b[49m\u001b[43mmessages\u001b[49m\u001b[43m=\u001b[49m\u001b[43mmessages\u001b[49m\u001b[43m,\u001b[49m\n\u001b[32m   1879\u001b[39m \u001b[43m        \u001b[49m\u001b[43mheaders\u001b[49m\u001b[43m=\u001b[49m\u001b[43mheaders\u001b[49m\u001b[43m,\u001b[49m\n\u001b[32m   1880\u001b[39m \u001b[43m        \u001b[49m\u001b[43mmodel_response\u001b[49m\u001b[43m=\u001b[49m\u001b[43mmodel_response\u001b[49m\u001b[43m,\u001b[49m\n\u001b[32m   1881\u001b[39m \u001b[43m        \u001b[49m\u001b[43mprint_verbose\u001b[49m\u001b[43m=\u001b[49m\u001b[43mprint_verbose\u001b[49m\u001b[43m,\u001b[49m\n\u001b[32m   1882\u001b[39m \u001b[43m        \u001b[49m\u001b[43mapi_key\u001b[49m\u001b[43m=\u001b[49m\u001b[43mapi_key\u001b[49m\u001b[43m,\u001b[49m\n\u001b[32m   1883\u001b[39m \u001b[43m        \u001b[49m\u001b[43mapi_base\u001b[49m\u001b[43m=\u001b[49m\u001b[43mapi_base\u001b[49m\u001b[43m,\u001b[49m\n\u001b[32m   1884\u001b[39m \u001b[43m        \u001b[49m\u001b[43macompletion\u001b[49m\u001b[43m=\u001b[49m\u001b[43macompletion\u001b[49m\u001b[43m,\u001b[49m\n\u001b[32m   1885\u001b[39m \u001b[43m        \u001b[49m\u001b[43mlogging_obj\u001b[49m\u001b[43m=\u001b[49m\u001b[43mlogging\u001b[49m\u001b[43m,\u001b[49m\n\u001b[32m   1886\u001b[39m \u001b[43m        \u001b[49m\u001b[43moptional_params\u001b[49m\u001b[43m=\u001b[49m\u001b[43moptional_params\u001b[49m\u001b[43m,\u001b[49m\n\u001b[32m   1887\u001b[39m \u001b[43m        \u001b[49m\u001b[43mlitellm_params\u001b[49m\u001b[43m=\u001b[49m\u001b[43mlitellm_params\u001b[49m\u001b[43m,\u001b[49m\n\u001b[32m   1888\u001b[39m \u001b[43m        \u001b[49m\u001b[43mlogger_fn\u001b[49m\u001b[43m=\u001b[49m\u001b[43mlogger_fn\u001b[49m\u001b[43m,\u001b[49m\n\u001b[32m   1889\u001b[39m \u001b[43m        \u001b[49m\u001b[43mtimeout\u001b[49m\u001b[43m=\u001b[49m\u001b[43mtimeout\u001b[49m\u001b[43m,\u001b[49m\u001b[43m  \u001b[49m\u001b[38;5;66;43;03m# type: ignore\u001b[39;49;00m\n\u001b[32m   1890\u001b[39m \u001b[43m        \u001b[49m\u001b[43mcustom_prompt_dict\u001b[49m\u001b[43m=\u001b[49m\u001b[43mcustom_prompt_dict\u001b[49m\u001b[43m,\u001b[49m\n\u001b[32m   1891\u001b[39m \u001b[43m        \u001b[49m\u001b[43mclient\u001b[49m\u001b[43m=\u001b[49m\u001b[43mclient\u001b[49m\u001b[43m,\u001b[49m\u001b[43m  \u001b[49m\u001b[38;5;66;43;03m# pass AsyncOpenAI, OpenAI client\u001b[39;49;00m\n\u001b[32m   1892\u001b[39m \u001b[43m        \u001b[49m\u001b[43morganization\u001b[49m\u001b[43m=\u001b[49m\u001b[43morganization\u001b[49m\u001b[43m,\u001b[49m\n\u001b[32m   1893\u001b[39m \u001b[43m        \u001b[49m\u001b[43mcustom_llm_provider\u001b[49m\u001b[43m=\u001b[49m\u001b[43mcustom_llm_provider\u001b[49m\u001b[43m,\u001b[49m\n\u001b[32m   1894\u001b[39m \u001b[43m    \u001b[49m\u001b[43m)\u001b[49m\n\u001b[32m   1895\u001b[39m \u001b[38;5;28;01mexcept\u001b[39;00m \u001b[38;5;167;01mException\u001b[39;00m \u001b[38;5;28;01mas\u001b[39;00m e:\n\u001b[32m   1896\u001b[39m     \u001b[38;5;66;03m## LOGGING - log the original exception returned\u001b[39;00m\n\u001b[32m   1897\u001b[39m     logging.post_call(\n\u001b[32m   1898\u001b[39m         \u001b[38;5;28minput\u001b[39m=messages,\n\u001b[32m   1899\u001b[39m         api_key=api_key,\n\u001b[32m   1900\u001b[39m         original_response=\u001b[38;5;28mstr\u001b[39m(e),\n\u001b[32m   1901\u001b[39m         additional_args={\u001b[33m\"\u001b[39m\u001b[33mheaders\u001b[39m\u001b[33m\"\u001b[39m: headers},\n\u001b[32m   1902\u001b[39m     )\n",
      "\u001b[36mFile \u001b[39m\u001b[32mc:\\Users\\97252\\Desktop\\לימודים\\סמסטר ו\\LLM\\hm2\\nlp-with-llms-2025-hw2\\.venv\\Lib\\site-packages\\litellm\\llms\\openai\\openai.py:653\u001b[39m, in \u001b[36mOpenAIChatCompletion.completion\u001b[39m\u001b[34m(self, model_response, timeout, optional_params, litellm_params, logging_obj, model, messages, print_verbose, api_key, api_base, api_version, dynamic_params, azure_ad_token, acompletion, logger_fn, headers, custom_prompt_dict, client, organization, custom_llm_provider, drop_params)\u001b[39m\n\u001b[32m    638\u001b[39m \u001b[38;5;66;03m## LOGGING\u001b[39;00m\n\u001b[32m    639\u001b[39m logging_obj.pre_call(\n\u001b[32m    640\u001b[39m     \u001b[38;5;28minput\u001b[39m=messages,\n\u001b[32m    641\u001b[39m     api_key=openai_client.api_key,\n\u001b[32m   (...)\u001b[39m\u001b[32m    647\u001b[39m     },\n\u001b[32m    648\u001b[39m )\n\u001b[32m    650\u001b[39m (\n\u001b[32m    651\u001b[39m     headers,\n\u001b[32m    652\u001b[39m     response,\n\u001b[32m--> \u001b[39m\u001b[32m653\u001b[39m ) = \u001b[38;5;28;43mself\u001b[39;49m\u001b[43m.\u001b[49m\u001b[43mmake_sync_openai_chat_completion_request\u001b[49m\u001b[43m(\u001b[49m\n\u001b[32m    654\u001b[39m \u001b[43m    \u001b[49m\u001b[43mopenai_client\u001b[49m\u001b[43m=\u001b[49m\u001b[43mopenai_client\u001b[49m\u001b[43m,\u001b[49m\n\u001b[32m    655\u001b[39m \u001b[43m    \u001b[49m\u001b[43mdata\u001b[49m\u001b[43m=\u001b[49m\u001b[43mdata\u001b[49m\u001b[43m,\u001b[49m\n\u001b[32m    656\u001b[39m \u001b[43m    \u001b[49m\u001b[43mtimeout\u001b[49m\u001b[43m=\u001b[49m\u001b[43mtimeout\u001b[49m\u001b[43m,\u001b[49m\n\u001b[32m    657\u001b[39m \u001b[43m    \u001b[49m\u001b[43mlogging_obj\u001b[49m\u001b[43m=\u001b[49m\u001b[43mlogging_obj\u001b[49m\u001b[43m,\u001b[49m\n\u001b[32m    658\u001b[39m \u001b[43m\u001b[49m\u001b[43m)\u001b[49m\n\u001b[32m    660\u001b[39m logging_obj.model_call_details[\u001b[33m\"\u001b[39m\u001b[33mresponse_headers\u001b[39m\u001b[33m\"\u001b[39m] = headers\n\u001b[32m    661\u001b[39m stringified_response = response.model_dump()\n",
      "\u001b[36mFile \u001b[39m\u001b[32mc:\\Users\\97252\\Desktop\\לימודים\\סמסטר ו\\LLM\\hm2\\nlp-with-llms-2025-hw2\\.venv\\Lib\\site-packages\\litellm\\litellm_core_utils\\logging_utils.py:149\u001b[39m, in \u001b[36mtrack_llm_api_timing.<locals>.decorator.<locals>.sync_wrapper\u001b[39m\u001b[34m(*args, **kwargs)\u001b[39m\n\u001b[32m    147\u001b[39m start_time = datetime.now()\n\u001b[32m    148\u001b[39m \u001b[38;5;28;01mtry\u001b[39;00m:\n\u001b[32m--> \u001b[39m\u001b[32m149\u001b[39m     result = \u001b[43mfunc\u001b[49m\u001b[43m(\u001b[49m\u001b[43m*\u001b[49m\u001b[43margs\u001b[49m\u001b[43m,\u001b[49m\u001b[43m \u001b[49m\u001b[43m*\u001b[49m\u001b[43m*\u001b[49m\u001b[43mkwargs\u001b[49m\u001b[43m)\u001b[49m\n\u001b[32m    150\u001b[39m     \u001b[38;5;28;01mreturn\u001b[39;00m result\n\u001b[32m    151\u001b[39m \u001b[38;5;28;01mfinally\u001b[39;00m:\n",
      "\u001b[36mFile \u001b[39m\u001b[32mc:\\Users\\97252\\Desktop\\לימודים\\סמסטר ו\\LLM\\hm2\\nlp-with-llms-2025-hw2\\.venv\\Lib\\site-packages\\litellm\\llms\\openai\\openai.py:453\u001b[39m, in \u001b[36mOpenAIChatCompletion.make_sync_openai_chat_completion_request\u001b[39m\u001b[34m(self, openai_client, data, timeout, logging_obj)\u001b[39m\n\u001b[32m    451\u001b[39m raw_response = \u001b[38;5;28;01mNone\u001b[39;00m\n\u001b[32m    452\u001b[39m \u001b[38;5;28;01mtry\u001b[39;00m:\n\u001b[32m--> \u001b[39m\u001b[32m453\u001b[39m     raw_response = \u001b[43mopenai_client\u001b[49m\u001b[43m.\u001b[49m\u001b[43mchat\u001b[49m\u001b[43m.\u001b[49m\u001b[43mcompletions\u001b[49m\u001b[43m.\u001b[49m\u001b[43mwith_raw_response\u001b[49m\u001b[43m.\u001b[49m\u001b[43mcreate\u001b[49m\u001b[43m(\u001b[49m\n\u001b[32m    454\u001b[39m \u001b[43m        \u001b[49m\u001b[43m*\u001b[49m\u001b[43m*\u001b[49m\u001b[43mdata\u001b[49m\u001b[43m,\u001b[49m\u001b[43m \u001b[49m\u001b[43mtimeout\u001b[49m\u001b[43m=\u001b[49m\u001b[43mtimeout\u001b[49m\n\u001b[32m    455\u001b[39m \u001b[43m    \u001b[49m\u001b[43m)\u001b[49m\n\u001b[32m    457\u001b[39m     \u001b[38;5;28;01mif\u001b[39;00m \u001b[38;5;28mhasattr\u001b[39m(raw_response, \u001b[33m\"\u001b[39m\u001b[33mheaders\u001b[39m\u001b[33m\"\u001b[39m):\n\u001b[32m    458\u001b[39m         headers = \u001b[38;5;28mdict\u001b[39m(raw_response.headers)\n",
      "\u001b[36mFile \u001b[39m\u001b[32mc:\\Users\\97252\\Desktop\\לימודים\\סמסטר ו\\LLM\\hm2\\nlp-with-llms-2025-hw2\\.venv\\Lib\\site-packages\\openai\\_legacy_response.py:364\u001b[39m, in \u001b[36mto_raw_response_wrapper.<locals>.wrapped\u001b[39m\u001b[34m(*args, **kwargs)\u001b[39m\n\u001b[32m    360\u001b[39m extra_headers[RAW_RESPONSE_HEADER] = \u001b[33m\"\u001b[39m\u001b[33mtrue\u001b[39m\u001b[33m\"\u001b[39m\n\u001b[32m    362\u001b[39m kwargs[\u001b[33m\"\u001b[39m\u001b[33mextra_headers\u001b[39m\u001b[33m\"\u001b[39m] = extra_headers\n\u001b[32m--> \u001b[39m\u001b[32m364\u001b[39m \u001b[38;5;28;01mreturn\u001b[39;00m cast(LegacyAPIResponse[R], \u001b[43mfunc\u001b[49m\u001b[43m(\u001b[49m\u001b[43m*\u001b[49m\u001b[43margs\u001b[49m\u001b[43m,\u001b[49m\u001b[43m \u001b[49m\u001b[43m*\u001b[49m\u001b[43m*\u001b[49m\u001b[43mkwargs\u001b[49m\u001b[43m)\u001b[49m)\n",
      "\u001b[36mFile \u001b[39m\u001b[32mc:\\Users\\97252\\Desktop\\לימודים\\סמסטר ו\\LLM\\hm2\\nlp-with-llms-2025-hw2\\.venv\\Lib\\site-packages\\openai\\_utils\\_utils.py:287\u001b[39m, in \u001b[36mrequired_args.<locals>.inner.<locals>.wrapper\u001b[39m\u001b[34m(*args, **kwargs)\u001b[39m\n\u001b[32m    285\u001b[39m             msg = \u001b[33mf\u001b[39m\u001b[33m\"\u001b[39m\u001b[33mMissing required argument: \u001b[39m\u001b[38;5;132;01m{\u001b[39;00mquote(missing[\u001b[32m0\u001b[39m])\u001b[38;5;132;01m}\u001b[39;00m\u001b[33m\"\u001b[39m\n\u001b[32m    286\u001b[39m     \u001b[38;5;28;01mraise\u001b[39;00m \u001b[38;5;167;01mTypeError\u001b[39;00m(msg)\n\u001b[32m--> \u001b[39m\u001b[32m287\u001b[39m \u001b[38;5;28;01mreturn\u001b[39;00m \u001b[43mfunc\u001b[49m\u001b[43m(\u001b[49m\u001b[43m*\u001b[49m\u001b[43margs\u001b[49m\u001b[43m,\u001b[49m\u001b[43m \u001b[49m\u001b[43m*\u001b[49m\u001b[43m*\u001b[49m\u001b[43mkwargs\u001b[49m\u001b[43m)\u001b[49m\n",
      "\u001b[36mFile \u001b[39m\u001b[32mc:\\Users\\97252\\Desktop\\לימודים\\סמסטר ו\\LLM\\hm2\\nlp-with-llms-2025-hw2\\.venv\\Lib\\site-packages\\openai\\resources\\chat\\completions\\completions.py:1087\u001b[39m, in \u001b[36mCompletions.create\u001b[39m\u001b[34m(self, messages, model, audio, frequency_penalty, function_call, functions, logit_bias, logprobs, max_completion_tokens, max_tokens, metadata, modalities, n, parallel_tool_calls, prediction, presence_penalty, reasoning_effort, response_format, seed, service_tier, stop, store, stream, stream_options, temperature, tool_choice, tools, top_logprobs, top_p, user, web_search_options, extra_headers, extra_query, extra_body, timeout)\u001b[39m\n\u001b[32m   1044\u001b[39m \u001b[38;5;129m@required_args\u001b[39m([\u001b[33m\"\u001b[39m\u001b[33mmessages\u001b[39m\u001b[33m\"\u001b[39m, \u001b[33m\"\u001b[39m\u001b[33mmodel\u001b[39m\u001b[33m\"\u001b[39m], [\u001b[33m\"\u001b[39m\u001b[33mmessages\u001b[39m\u001b[33m\"\u001b[39m, \u001b[33m\"\u001b[39m\u001b[33mmodel\u001b[39m\u001b[33m\"\u001b[39m, \u001b[33m\"\u001b[39m\u001b[33mstream\u001b[39m\u001b[33m\"\u001b[39m])\n\u001b[32m   1045\u001b[39m \u001b[38;5;28;01mdef\u001b[39;00m\u001b[38;5;250m \u001b[39m\u001b[34mcreate\u001b[39m(\n\u001b[32m   1046\u001b[39m     \u001b[38;5;28mself\u001b[39m,\n\u001b[32m   (...)\u001b[39m\u001b[32m   1084\u001b[39m     timeout: \u001b[38;5;28mfloat\u001b[39m | httpx.Timeout | \u001b[38;5;28;01mNone\u001b[39;00m | NotGiven = NOT_GIVEN,\n\u001b[32m   1085\u001b[39m ) -> ChatCompletion | Stream[ChatCompletionChunk]:\n\u001b[32m   1086\u001b[39m     validate_response_format(response_format)\n\u001b[32m-> \u001b[39m\u001b[32m1087\u001b[39m     \u001b[38;5;28;01mreturn\u001b[39;00m \u001b[38;5;28;43mself\u001b[39;49m\u001b[43m.\u001b[49m\u001b[43m_post\u001b[49m\u001b[43m(\u001b[49m\n\u001b[32m   1088\u001b[39m \u001b[43m        \u001b[49m\u001b[33;43m\"\u001b[39;49m\u001b[33;43m/chat/completions\u001b[39;49m\u001b[33;43m\"\u001b[39;49m\u001b[43m,\u001b[49m\n\u001b[32m   1089\u001b[39m \u001b[43m        \u001b[49m\u001b[43mbody\u001b[49m\u001b[43m=\u001b[49m\u001b[43mmaybe_transform\u001b[49m\u001b[43m(\u001b[49m\n\u001b[32m   1090\u001b[39m \u001b[43m            \u001b[49m\u001b[43m{\u001b[49m\n\u001b[32m   1091\u001b[39m \u001b[43m                \u001b[49m\u001b[33;43m\"\u001b[39;49m\u001b[33;43mmessages\u001b[39;49m\u001b[33;43m\"\u001b[39;49m\u001b[43m:\u001b[49m\u001b[43m \u001b[49m\u001b[43mmessages\u001b[49m\u001b[43m,\u001b[49m\n\u001b[32m   1092\u001b[39m \u001b[43m                \u001b[49m\u001b[33;43m\"\u001b[39;49m\u001b[33;43mmodel\u001b[39;49m\u001b[33;43m\"\u001b[39;49m\u001b[43m:\u001b[49m\u001b[43m \u001b[49m\u001b[43mmodel\u001b[49m\u001b[43m,\u001b[49m\n\u001b[32m   1093\u001b[39m \u001b[43m                \u001b[49m\u001b[33;43m\"\u001b[39;49m\u001b[33;43maudio\u001b[39;49m\u001b[33;43m\"\u001b[39;49m\u001b[43m:\u001b[49m\u001b[43m \u001b[49m\u001b[43maudio\u001b[49m\u001b[43m,\u001b[49m\n\u001b[32m   1094\u001b[39m \u001b[43m                \u001b[49m\u001b[33;43m\"\u001b[39;49m\u001b[33;43mfrequency_penalty\u001b[39;49m\u001b[33;43m\"\u001b[39;49m\u001b[43m:\u001b[49m\u001b[43m \u001b[49m\u001b[43mfrequency_penalty\u001b[49m\u001b[43m,\u001b[49m\n\u001b[32m   1095\u001b[39m \u001b[43m                \u001b[49m\u001b[33;43m\"\u001b[39;49m\u001b[33;43mfunction_call\u001b[39;49m\u001b[33;43m\"\u001b[39;49m\u001b[43m:\u001b[49m\u001b[43m \u001b[49m\u001b[43mfunction_call\u001b[49m\u001b[43m,\u001b[49m\n\u001b[32m   1096\u001b[39m \u001b[43m                \u001b[49m\u001b[33;43m\"\u001b[39;49m\u001b[33;43mfunctions\u001b[39;49m\u001b[33;43m\"\u001b[39;49m\u001b[43m:\u001b[49m\u001b[43m \u001b[49m\u001b[43mfunctions\u001b[49m\u001b[43m,\u001b[49m\n\u001b[32m   1097\u001b[39m \u001b[43m                \u001b[49m\u001b[33;43m\"\u001b[39;49m\u001b[33;43mlogit_bias\u001b[39;49m\u001b[33;43m\"\u001b[39;49m\u001b[43m:\u001b[49m\u001b[43m \u001b[49m\u001b[43mlogit_bias\u001b[49m\u001b[43m,\u001b[49m\n\u001b[32m   1098\u001b[39m \u001b[43m                \u001b[49m\u001b[33;43m\"\u001b[39;49m\u001b[33;43mlogprobs\u001b[39;49m\u001b[33;43m\"\u001b[39;49m\u001b[43m:\u001b[49m\u001b[43m \u001b[49m\u001b[43mlogprobs\u001b[49m\u001b[43m,\u001b[49m\n\u001b[32m   1099\u001b[39m \u001b[43m                \u001b[49m\u001b[33;43m\"\u001b[39;49m\u001b[33;43mmax_completion_tokens\u001b[39;49m\u001b[33;43m\"\u001b[39;49m\u001b[43m:\u001b[49m\u001b[43m \u001b[49m\u001b[43mmax_completion_tokens\u001b[49m\u001b[43m,\u001b[49m\n\u001b[32m   1100\u001b[39m \u001b[43m                \u001b[49m\u001b[33;43m\"\u001b[39;49m\u001b[33;43mmax_tokens\u001b[39;49m\u001b[33;43m\"\u001b[39;49m\u001b[43m:\u001b[49m\u001b[43m \u001b[49m\u001b[43mmax_tokens\u001b[49m\u001b[43m,\u001b[49m\n\u001b[32m   1101\u001b[39m \u001b[43m                \u001b[49m\u001b[33;43m\"\u001b[39;49m\u001b[33;43mmetadata\u001b[39;49m\u001b[33;43m\"\u001b[39;49m\u001b[43m:\u001b[49m\u001b[43m \u001b[49m\u001b[43mmetadata\u001b[49m\u001b[43m,\u001b[49m\n\u001b[32m   1102\u001b[39m \u001b[43m                \u001b[49m\u001b[33;43m\"\u001b[39;49m\u001b[33;43mmodalities\u001b[39;49m\u001b[33;43m\"\u001b[39;49m\u001b[43m:\u001b[49m\u001b[43m \u001b[49m\u001b[43mmodalities\u001b[49m\u001b[43m,\u001b[49m\n\u001b[32m   1103\u001b[39m \u001b[43m                \u001b[49m\u001b[33;43m\"\u001b[39;49m\u001b[33;43mn\u001b[39;49m\u001b[33;43m\"\u001b[39;49m\u001b[43m:\u001b[49m\u001b[43m \u001b[49m\u001b[43mn\u001b[49m\u001b[43m,\u001b[49m\n\u001b[32m   1104\u001b[39m \u001b[43m                \u001b[49m\u001b[33;43m\"\u001b[39;49m\u001b[33;43mparallel_tool_calls\u001b[39;49m\u001b[33;43m\"\u001b[39;49m\u001b[43m:\u001b[49m\u001b[43m \u001b[49m\u001b[43mparallel_tool_calls\u001b[49m\u001b[43m,\u001b[49m\n\u001b[32m   1105\u001b[39m \u001b[43m                \u001b[49m\u001b[33;43m\"\u001b[39;49m\u001b[33;43mprediction\u001b[39;49m\u001b[33;43m\"\u001b[39;49m\u001b[43m:\u001b[49m\u001b[43m \u001b[49m\u001b[43mprediction\u001b[49m\u001b[43m,\u001b[49m\n\u001b[32m   1106\u001b[39m \u001b[43m                \u001b[49m\u001b[33;43m\"\u001b[39;49m\u001b[33;43mpresence_penalty\u001b[39;49m\u001b[33;43m\"\u001b[39;49m\u001b[43m:\u001b[49m\u001b[43m \u001b[49m\u001b[43mpresence_penalty\u001b[49m\u001b[43m,\u001b[49m\n\u001b[32m   1107\u001b[39m \u001b[43m                \u001b[49m\u001b[33;43m\"\u001b[39;49m\u001b[33;43mreasoning_effort\u001b[39;49m\u001b[33;43m\"\u001b[39;49m\u001b[43m:\u001b[49m\u001b[43m \u001b[49m\u001b[43mreasoning_effort\u001b[49m\u001b[43m,\u001b[49m\n\u001b[32m   1108\u001b[39m \u001b[43m                \u001b[49m\u001b[33;43m\"\u001b[39;49m\u001b[33;43mresponse_format\u001b[39;49m\u001b[33;43m\"\u001b[39;49m\u001b[43m:\u001b[49m\u001b[43m \u001b[49m\u001b[43mresponse_format\u001b[49m\u001b[43m,\u001b[49m\n\u001b[32m   1109\u001b[39m \u001b[43m                \u001b[49m\u001b[33;43m\"\u001b[39;49m\u001b[33;43mseed\u001b[39;49m\u001b[33;43m\"\u001b[39;49m\u001b[43m:\u001b[49m\u001b[43m \u001b[49m\u001b[43mseed\u001b[49m\u001b[43m,\u001b[49m\n\u001b[32m   1110\u001b[39m \u001b[43m                \u001b[49m\u001b[33;43m\"\u001b[39;49m\u001b[33;43mservice_tier\u001b[39;49m\u001b[33;43m\"\u001b[39;49m\u001b[43m:\u001b[49m\u001b[43m \u001b[49m\u001b[43mservice_tier\u001b[49m\u001b[43m,\u001b[49m\n\u001b[32m   1111\u001b[39m \u001b[43m                \u001b[49m\u001b[33;43m\"\u001b[39;49m\u001b[33;43mstop\u001b[39;49m\u001b[33;43m\"\u001b[39;49m\u001b[43m:\u001b[49m\u001b[43m \u001b[49m\u001b[43mstop\u001b[49m\u001b[43m,\u001b[49m\n\u001b[32m   1112\u001b[39m \u001b[43m                \u001b[49m\u001b[33;43m\"\u001b[39;49m\u001b[33;43mstore\u001b[39;49m\u001b[33;43m\"\u001b[39;49m\u001b[43m:\u001b[49m\u001b[43m \u001b[49m\u001b[43mstore\u001b[49m\u001b[43m,\u001b[49m\n\u001b[32m   1113\u001b[39m \u001b[43m                \u001b[49m\u001b[33;43m\"\u001b[39;49m\u001b[33;43mstream\u001b[39;49m\u001b[33;43m\"\u001b[39;49m\u001b[43m:\u001b[49m\u001b[43m \u001b[49m\u001b[43mstream\u001b[49m\u001b[43m,\u001b[49m\n\u001b[32m   1114\u001b[39m \u001b[43m                \u001b[49m\u001b[33;43m\"\u001b[39;49m\u001b[33;43mstream_options\u001b[39;49m\u001b[33;43m\"\u001b[39;49m\u001b[43m:\u001b[49m\u001b[43m \u001b[49m\u001b[43mstream_options\u001b[49m\u001b[43m,\u001b[49m\n\u001b[32m   1115\u001b[39m \u001b[43m                \u001b[49m\u001b[33;43m\"\u001b[39;49m\u001b[33;43mtemperature\u001b[39;49m\u001b[33;43m\"\u001b[39;49m\u001b[43m:\u001b[49m\u001b[43m \u001b[49m\u001b[43mtemperature\u001b[49m\u001b[43m,\u001b[49m\n\u001b[32m   1116\u001b[39m \u001b[43m                \u001b[49m\u001b[33;43m\"\u001b[39;49m\u001b[33;43mtool_choice\u001b[39;49m\u001b[33;43m\"\u001b[39;49m\u001b[43m:\u001b[49m\u001b[43m \u001b[49m\u001b[43mtool_choice\u001b[49m\u001b[43m,\u001b[49m\n\u001b[32m   1117\u001b[39m \u001b[43m                \u001b[49m\u001b[33;43m\"\u001b[39;49m\u001b[33;43mtools\u001b[39;49m\u001b[33;43m\"\u001b[39;49m\u001b[43m:\u001b[49m\u001b[43m \u001b[49m\u001b[43mtools\u001b[49m\u001b[43m,\u001b[49m\n\u001b[32m   1118\u001b[39m \u001b[43m                \u001b[49m\u001b[33;43m\"\u001b[39;49m\u001b[33;43mtop_logprobs\u001b[39;49m\u001b[33;43m\"\u001b[39;49m\u001b[43m:\u001b[49m\u001b[43m \u001b[49m\u001b[43mtop_logprobs\u001b[49m\u001b[43m,\u001b[49m\n\u001b[32m   1119\u001b[39m \u001b[43m                \u001b[49m\u001b[33;43m\"\u001b[39;49m\u001b[33;43mtop_p\u001b[39;49m\u001b[33;43m\"\u001b[39;49m\u001b[43m:\u001b[49m\u001b[43m \u001b[49m\u001b[43mtop_p\u001b[49m\u001b[43m,\u001b[49m\n\u001b[32m   1120\u001b[39m \u001b[43m                \u001b[49m\u001b[33;43m\"\u001b[39;49m\u001b[33;43muser\u001b[39;49m\u001b[33;43m\"\u001b[39;49m\u001b[43m:\u001b[49m\u001b[43m \u001b[49m\u001b[43muser\u001b[49m\u001b[43m,\u001b[49m\n\u001b[32m   1121\u001b[39m \u001b[43m                \u001b[49m\u001b[33;43m\"\u001b[39;49m\u001b[33;43mweb_search_options\u001b[39;49m\u001b[33;43m\"\u001b[39;49m\u001b[43m:\u001b[49m\u001b[43m \u001b[49m\u001b[43mweb_search_options\u001b[49m\u001b[43m,\u001b[49m\n\u001b[32m   1122\u001b[39m \u001b[43m            \u001b[49m\u001b[43m}\u001b[49m\u001b[43m,\u001b[49m\n\u001b[32m   1123\u001b[39m \u001b[43m            \u001b[49m\u001b[43mcompletion_create_params\u001b[49m\u001b[43m.\u001b[49m\u001b[43mCompletionCreateParamsStreaming\u001b[49m\n\u001b[32m   1124\u001b[39m \u001b[43m            \u001b[49m\u001b[38;5;28;43;01mif\u001b[39;49;00m\u001b[43m \u001b[49m\u001b[43mstream\u001b[49m\n\u001b[32m   1125\u001b[39m \u001b[43m            \u001b[49m\u001b[38;5;28;43;01melse\u001b[39;49;00m\u001b[43m \u001b[49m\u001b[43mcompletion_create_params\u001b[49m\u001b[43m.\u001b[49m\u001b[43mCompletionCreateParamsNonStreaming\u001b[49m\u001b[43m,\u001b[49m\n\u001b[32m   1126\u001b[39m \u001b[43m        \u001b[49m\u001b[43m)\u001b[49m\u001b[43m,\u001b[49m\n\u001b[32m   1127\u001b[39m \u001b[43m        \u001b[49m\u001b[43moptions\u001b[49m\u001b[43m=\u001b[49m\u001b[43mmake_request_options\u001b[49m\u001b[43m(\u001b[49m\n\u001b[32m   1128\u001b[39m \u001b[43m            \u001b[49m\u001b[43mextra_headers\u001b[49m\u001b[43m=\u001b[49m\u001b[43mextra_headers\u001b[49m\u001b[43m,\u001b[49m\u001b[43m \u001b[49m\u001b[43mextra_query\u001b[49m\u001b[43m=\u001b[49m\u001b[43mextra_query\u001b[49m\u001b[43m,\u001b[49m\u001b[43m \u001b[49m\u001b[43mextra_body\u001b[49m\u001b[43m=\u001b[49m\u001b[43mextra_body\u001b[49m\u001b[43m,\u001b[49m\u001b[43m \u001b[49m\u001b[43mtimeout\u001b[49m\u001b[43m=\u001b[49m\u001b[43mtimeout\u001b[49m\n\u001b[32m   1129\u001b[39m \u001b[43m        \u001b[49m\u001b[43m)\u001b[49m\u001b[43m,\u001b[49m\n\u001b[32m   1130\u001b[39m \u001b[43m        \u001b[49m\u001b[43mcast_to\u001b[49m\u001b[43m=\u001b[49m\u001b[43mChatCompletion\u001b[49m\u001b[43m,\u001b[49m\n\u001b[32m   1131\u001b[39m \u001b[43m        \u001b[49m\u001b[43mstream\u001b[49m\u001b[43m=\u001b[49m\u001b[43mstream\u001b[49m\u001b[43m \u001b[49m\u001b[38;5;129;43;01mor\u001b[39;49;00m\u001b[43m \u001b[49m\u001b[38;5;28;43;01mFalse\u001b[39;49;00m\u001b[43m,\u001b[49m\n\u001b[32m   1132\u001b[39m \u001b[43m        \u001b[49m\u001b[43mstream_cls\u001b[49m\u001b[43m=\u001b[49m\u001b[43mStream\u001b[49m\u001b[43m[\u001b[49m\u001b[43mChatCompletionChunk\u001b[49m\u001b[43m]\u001b[49m\u001b[43m,\u001b[49m\n\u001b[32m   1133\u001b[39m \u001b[43m    \u001b[49m\u001b[43m)\u001b[49m\n",
      "\u001b[36mFile \u001b[39m\u001b[32mc:\\Users\\97252\\Desktop\\לימודים\\סמסטר ו\\LLM\\hm2\\nlp-with-llms-2025-hw2\\.venv\\Lib\\site-packages\\openai\\_base_client.py:1249\u001b[39m, in \u001b[36mSyncAPIClient.post\u001b[39m\u001b[34m(self, path, cast_to, body, options, files, stream, stream_cls)\u001b[39m\n\u001b[32m   1235\u001b[39m \u001b[38;5;28;01mdef\u001b[39;00m\u001b[38;5;250m \u001b[39m\u001b[34mpost\u001b[39m(\n\u001b[32m   1236\u001b[39m     \u001b[38;5;28mself\u001b[39m,\n\u001b[32m   1237\u001b[39m     path: \u001b[38;5;28mstr\u001b[39m,\n\u001b[32m   (...)\u001b[39m\u001b[32m   1244\u001b[39m     stream_cls: \u001b[38;5;28mtype\u001b[39m[_StreamT] | \u001b[38;5;28;01mNone\u001b[39;00m = \u001b[38;5;28;01mNone\u001b[39;00m,\n\u001b[32m   1245\u001b[39m ) -> ResponseT | _StreamT:\n\u001b[32m   1246\u001b[39m     opts = FinalRequestOptions.construct(\n\u001b[32m   1247\u001b[39m         method=\u001b[33m\"\u001b[39m\u001b[33mpost\u001b[39m\u001b[33m\"\u001b[39m, url=path, json_data=body, files=to_httpx_files(files), **options\n\u001b[32m   1248\u001b[39m     )\n\u001b[32m-> \u001b[39m\u001b[32m1249\u001b[39m     \u001b[38;5;28;01mreturn\u001b[39;00m cast(ResponseT, \u001b[38;5;28;43mself\u001b[39;49m\u001b[43m.\u001b[49m\u001b[43mrequest\u001b[49m\u001b[43m(\u001b[49m\u001b[43mcast_to\u001b[49m\u001b[43m,\u001b[49m\u001b[43m \u001b[49m\u001b[43mopts\u001b[49m\u001b[43m,\u001b[49m\u001b[43m \u001b[49m\u001b[43mstream\u001b[49m\u001b[43m=\u001b[49m\u001b[43mstream\u001b[49m\u001b[43m,\u001b[49m\u001b[43m \u001b[49m\u001b[43mstream_cls\u001b[49m\u001b[43m=\u001b[49m\u001b[43mstream_cls\u001b[49m\u001b[43m)\u001b[49m)\n",
      "\u001b[36mFile \u001b[39m\u001b[32mc:\\Users\\97252\\Desktop\\לימודים\\סמסטר ו\\LLM\\hm2\\nlp-with-llms-2025-hw2\\.venv\\Lib\\site-packages\\openai\\_base_client.py:972\u001b[39m, in \u001b[36mSyncAPIClient.request\u001b[39m\u001b[34m(self, cast_to, options, stream, stream_cls)\u001b[39m\n\u001b[32m    970\u001b[39m response = \u001b[38;5;28;01mNone\u001b[39;00m\n\u001b[32m    971\u001b[39m \u001b[38;5;28;01mtry\u001b[39;00m:\n\u001b[32m--> \u001b[39m\u001b[32m972\u001b[39m     response = \u001b[38;5;28;43mself\u001b[39;49m\u001b[43m.\u001b[49m\u001b[43m_client\u001b[49m\u001b[43m.\u001b[49m\u001b[43msend\u001b[49m\u001b[43m(\u001b[49m\n\u001b[32m    973\u001b[39m \u001b[43m        \u001b[49m\u001b[43mrequest\u001b[49m\u001b[43m,\u001b[49m\n\u001b[32m    974\u001b[39m \u001b[43m        \u001b[49m\u001b[43mstream\u001b[49m\u001b[43m=\u001b[49m\u001b[43mstream\u001b[49m\u001b[43m \u001b[49m\u001b[38;5;129;43;01mor\u001b[39;49;00m\u001b[43m \u001b[49m\u001b[38;5;28;43mself\u001b[39;49m\u001b[43m.\u001b[49m\u001b[43m_should_stream_response_body\u001b[49m\u001b[43m(\u001b[49m\u001b[43mrequest\u001b[49m\u001b[43m=\u001b[49m\u001b[43mrequest\u001b[49m\u001b[43m)\u001b[49m\u001b[43m,\u001b[49m\n\u001b[32m    975\u001b[39m \u001b[43m        \u001b[49m\u001b[43m*\u001b[49m\u001b[43m*\u001b[49m\u001b[43mkwargs\u001b[49m\u001b[43m,\u001b[49m\n\u001b[32m    976\u001b[39m \u001b[43m    \u001b[49m\u001b[43m)\u001b[49m\n\u001b[32m    977\u001b[39m \u001b[38;5;28;01mexcept\u001b[39;00m httpx.TimeoutException \u001b[38;5;28;01mas\u001b[39;00m err:\n\u001b[32m    978\u001b[39m     log.debug(\u001b[33m\"\u001b[39m\u001b[33mEncountered httpx.TimeoutException\u001b[39m\u001b[33m\"\u001b[39m, exc_info=\u001b[38;5;28;01mTrue\u001b[39;00m)\n",
      "\u001b[36mFile \u001b[39m\u001b[32mc:\\Users\\97252\\Desktop\\לימודים\\סמסטר ו\\LLM\\hm2\\nlp-with-llms-2025-hw2\\.venv\\Lib\\site-packages\\httpx\\_client.py:914\u001b[39m, in \u001b[36mClient.send\u001b[39m\u001b[34m(self, request, stream, auth, follow_redirects)\u001b[39m\n\u001b[32m    910\u001b[39m \u001b[38;5;28mself\u001b[39m._set_timeout(request)\n\u001b[32m    912\u001b[39m auth = \u001b[38;5;28mself\u001b[39m._build_request_auth(request, auth)\n\u001b[32m--> \u001b[39m\u001b[32m914\u001b[39m response = \u001b[38;5;28;43mself\u001b[39;49m\u001b[43m.\u001b[49m\u001b[43m_send_handling_auth\u001b[49m\u001b[43m(\u001b[49m\n\u001b[32m    915\u001b[39m \u001b[43m    \u001b[49m\u001b[43mrequest\u001b[49m\u001b[43m,\u001b[49m\n\u001b[32m    916\u001b[39m \u001b[43m    \u001b[49m\u001b[43mauth\u001b[49m\u001b[43m=\u001b[49m\u001b[43mauth\u001b[49m\u001b[43m,\u001b[49m\n\u001b[32m    917\u001b[39m \u001b[43m    \u001b[49m\u001b[43mfollow_redirects\u001b[49m\u001b[43m=\u001b[49m\u001b[43mfollow_redirects\u001b[49m\u001b[43m,\u001b[49m\n\u001b[32m    918\u001b[39m \u001b[43m    \u001b[49m\u001b[43mhistory\u001b[49m\u001b[43m=\u001b[49m\u001b[43m[\u001b[49m\u001b[43m]\u001b[49m\u001b[43m,\u001b[49m\n\u001b[32m    919\u001b[39m \u001b[43m\u001b[49m\u001b[43m)\u001b[49m\n\u001b[32m    920\u001b[39m \u001b[38;5;28;01mtry\u001b[39;00m:\n\u001b[32m    921\u001b[39m     \u001b[38;5;28;01mif\u001b[39;00m \u001b[38;5;129;01mnot\u001b[39;00m stream:\n",
      "\u001b[36mFile \u001b[39m\u001b[32mc:\\Users\\97252\\Desktop\\לימודים\\סמסטר ו\\LLM\\hm2\\nlp-with-llms-2025-hw2\\.venv\\Lib\\site-packages\\httpx\\_client.py:942\u001b[39m, in \u001b[36mClient._send_handling_auth\u001b[39m\u001b[34m(self, request, auth, follow_redirects, history)\u001b[39m\n\u001b[32m    939\u001b[39m request = \u001b[38;5;28mnext\u001b[39m(auth_flow)\n\u001b[32m    941\u001b[39m \u001b[38;5;28;01mwhile\u001b[39;00m \u001b[38;5;28;01mTrue\u001b[39;00m:\n\u001b[32m--> \u001b[39m\u001b[32m942\u001b[39m     response = \u001b[38;5;28;43mself\u001b[39;49m\u001b[43m.\u001b[49m\u001b[43m_send_handling_redirects\u001b[49m\u001b[43m(\u001b[49m\n\u001b[32m    943\u001b[39m \u001b[43m        \u001b[49m\u001b[43mrequest\u001b[49m\u001b[43m,\u001b[49m\n\u001b[32m    944\u001b[39m \u001b[43m        \u001b[49m\u001b[43mfollow_redirects\u001b[49m\u001b[43m=\u001b[49m\u001b[43mfollow_redirects\u001b[49m\u001b[43m,\u001b[49m\n\u001b[32m    945\u001b[39m \u001b[43m        \u001b[49m\u001b[43mhistory\u001b[49m\u001b[43m=\u001b[49m\u001b[43mhistory\u001b[49m\u001b[43m,\u001b[49m\n\u001b[32m    946\u001b[39m \u001b[43m    \u001b[49m\u001b[43m)\u001b[49m\n\u001b[32m    947\u001b[39m     \u001b[38;5;28;01mtry\u001b[39;00m:\n\u001b[32m    948\u001b[39m         \u001b[38;5;28;01mtry\u001b[39;00m:\n",
      "\u001b[36mFile \u001b[39m\u001b[32mc:\\Users\\97252\\Desktop\\לימודים\\סמסטר ו\\LLM\\hm2\\nlp-with-llms-2025-hw2\\.venv\\Lib\\site-packages\\httpx\\_client.py:979\u001b[39m, in \u001b[36mClient._send_handling_redirects\u001b[39m\u001b[34m(self, request, follow_redirects, history)\u001b[39m\n\u001b[32m    976\u001b[39m \u001b[38;5;28;01mfor\u001b[39;00m hook \u001b[38;5;129;01min\u001b[39;00m \u001b[38;5;28mself\u001b[39m._event_hooks[\u001b[33m\"\u001b[39m\u001b[33mrequest\u001b[39m\u001b[33m\"\u001b[39m]:\n\u001b[32m    977\u001b[39m     hook(request)\n\u001b[32m--> \u001b[39m\u001b[32m979\u001b[39m response = \u001b[38;5;28;43mself\u001b[39;49m\u001b[43m.\u001b[49m\u001b[43m_send_single_request\u001b[49m\u001b[43m(\u001b[49m\u001b[43mrequest\u001b[49m\u001b[43m)\u001b[49m\n\u001b[32m    980\u001b[39m \u001b[38;5;28;01mtry\u001b[39;00m:\n\u001b[32m    981\u001b[39m     \u001b[38;5;28;01mfor\u001b[39;00m hook \u001b[38;5;129;01min\u001b[39;00m \u001b[38;5;28mself\u001b[39m._event_hooks[\u001b[33m\"\u001b[39m\u001b[33mresponse\u001b[39m\u001b[33m\"\u001b[39m]:\n",
      "\u001b[36mFile \u001b[39m\u001b[32mc:\\Users\\97252\\Desktop\\לימודים\\סמסטר ו\\LLM\\hm2\\nlp-with-llms-2025-hw2\\.venv\\Lib\\site-packages\\httpx\\_client.py:1014\u001b[39m, in \u001b[36mClient._send_single_request\u001b[39m\u001b[34m(self, request)\u001b[39m\n\u001b[32m   1009\u001b[39m     \u001b[38;5;28;01mraise\u001b[39;00m \u001b[38;5;167;01mRuntimeError\u001b[39;00m(\n\u001b[32m   1010\u001b[39m         \u001b[33m\"\u001b[39m\u001b[33mAttempted to send an async request with a sync Client instance.\u001b[39m\u001b[33m\"\u001b[39m\n\u001b[32m   1011\u001b[39m     )\n\u001b[32m   1013\u001b[39m \u001b[38;5;28;01mwith\u001b[39;00m request_context(request=request):\n\u001b[32m-> \u001b[39m\u001b[32m1014\u001b[39m     response = \u001b[43mtransport\u001b[49m\u001b[43m.\u001b[49m\u001b[43mhandle_request\u001b[49m\u001b[43m(\u001b[49m\u001b[43mrequest\u001b[49m\u001b[43m)\u001b[49m\n\u001b[32m   1016\u001b[39m \u001b[38;5;28;01massert\u001b[39;00m \u001b[38;5;28misinstance\u001b[39m(response.stream, SyncByteStream)\n\u001b[32m   1018\u001b[39m response.request = request\n",
      "\u001b[36mFile \u001b[39m\u001b[32mc:\\Users\\97252\\Desktop\\לימודים\\סמסטר ו\\LLM\\hm2\\nlp-with-llms-2025-hw2\\.venv\\Lib\\site-packages\\httpx\\_transports\\default.py:250\u001b[39m, in \u001b[36mHTTPTransport.handle_request\u001b[39m\u001b[34m(self, request)\u001b[39m\n\u001b[32m    237\u001b[39m req = httpcore.Request(\n\u001b[32m    238\u001b[39m     method=request.method,\n\u001b[32m    239\u001b[39m     url=httpcore.URL(\n\u001b[32m   (...)\u001b[39m\u001b[32m    247\u001b[39m     extensions=request.extensions,\n\u001b[32m    248\u001b[39m )\n\u001b[32m    249\u001b[39m \u001b[38;5;28;01mwith\u001b[39;00m map_httpcore_exceptions():\n\u001b[32m--> \u001b[39m\u001b[32m250\u001b[39m     resp = \u001b[38;5;28;43mself\u001b[39;49m\u001b[43m.\u001b[49m\u001b[43m_pool\u001b[49m\u001b[43m.\u001b[49m\u001b[43mhandle_request\u001b[49m\u001b[43m(\u001b[49m\u001b[43mreq\u001b[49m\u001b[43m)\u001b[49m\n\u001b[32m    252\u001b[39m \u001b[38;5;28;01massert\u001b[39;00m \u001b[38;5;28misinstance\u001b[39m(resp.stream, typing.Iterable)\n\u001b[32m    254\u001b[39m \u001b[38;5;28;01mreturn\u001b[39;00m Response(\n\u001b[32m    255\u001b[39m     status_code=resp.status,\n\u001b[32m    256\u001b[39m     headers=resp.headers,\n\u001b[32m    257\u001b[39m     stream=ResponseStream(resp.stream),\n\u001b[32m    258\u001b[39m     extensions=resp.extensions,\n\u001b[32m    259\u001b[39m )\n",
      "\u001b[36mFile \u001b[39m\u001b[32mc:\\Users\\97252\\Desktop\\לימודים\\סמסטר ו\\LLM\\hm2\\nlp-with-llms-2025-hw2\\.venv\\Lib\\site-packages\\httpcore\\_sync\\connection_pool.py:256\u001b[39m, in \u001b[36mConnectionPool.handle_request\u001b[39m\u001b[34m(self, request)\u001b[39m\n\u001b[32m    253\u001b[39m         closing = \u001b[38;5;28mself\u001b[39m._assign_requests_to_connections()\n\u001b[32m    255\u001b[39m     \u001b[38;5;28mself\u001b[39m._close_connections(closing)\n\u001b[32m--> \u001b[39m\u001b[32m256\u001b[39m     \u001b[38;5;28;01mraise\u001b[39;00m exc \u001b[38;5;28;01mfrom\u001b[39;00m\u001b[38;5;250m \u001b[39m\u001b[38;5;28;01mNone\u001b[39;00m\n\u001b[32m    258\u001b[39m \u001b[38;5;66;03m# Return the response. Note that in this case we still have to manage\u001b[39;00m\n\u001b[32m    259\u001b[39m \u001b[38;5;66;03m# the point at which the response is closed.\u001b[39;00m\n\u001b[32m    260\u001b[39m \u001b[38;5;28;01massert\u001b[39;00m \u001b[38;5;28misinstance\u001b[39m(response.stream, typing.Iterable)\n",
      "\u001b[36mFile \u001b[39m\u001b[32mc:\\Users\\97252\\Desktop\\לימודים\\סמסטר ו\\LLM\\hm2\\nlp-with-llms-2025-hw2\\.venv\\Lib\\site-packages\\httpcore\\_sync\\connection_pool.py:236\u001b[39m, in \u001b[36mConnectionPool.handle_request\u001b[39m\u001b[34m(self, request)\u001b[39m\n\u001b[32m    232\u001b[39m connection = pool_request.wait_for_connection(timeout=timeout)\n\u001b[32m    234\u001b[39m \u001b[38;5;28;01mtry\u001b[39;00m:\n\u001b[32m    235\u001b[39m     \u001b[38;5;66;03m# Send the request on the assigned connection.\u001b[39;00m\n\u001b[32m--> \u001b[39m\u001b[32m236\u001b[39m     response = \u001b[43mconnection\u001b[49m\u001b[43m.\u001b[49m\u001b[43mhandle_request\u001b[49m\u001b[43m(\u001b[49m\n\u001b[32m    237\u001b[39m \u001b[43m        \u001b[49m\u001b[43mpool_request\u001b[49m\u001b[43m.\u001b[49m\u001b[43mrequest\u001b[49m\n\u001b[32m    238\u001b[39m \u001b[43m    \u001b[49m\u001b[43m)\u001b[49m\n\u001b[32m    239\u001b[39m \u001b[38;5;28;01mexcept\u001b[39;00m ConnectionNotAvailable:\n\u001b[32m    240\u001b[39m     \u001b[38;5;66;03m# In some cases a connection may initially be available to\u001b[39;00m\n\u001b[32m    241\u001b[39m     \u001b[38;5;66;03m# handle a request, but then become unavailable.\u001b[39;00m\n\u001b[32m    242\u001b[39m     \u001b[38;5;66;03m#\u001b[39;00m\n\u001b[32m    243\u001b[39m     \u001b[38;5;66;03m# In this case we clear the connection and try again.\u001b[39;00m\n\u001b[32m    244\u001b[39m     pool_request.clear_connection()\n",
      "\u001b[36mFile \u001b[39m\u001b[32mc:\\Users\\97252\\Desktop\\לימודים\\סמסטר ו\\LLM\\hm2\\nlp-with-llms-2025-hw2\\.venv\\Lib\\site-packages\\httpcore\\_sync\\connection.py:103\u001b[39m, in \u001b[36mHTTPConnection.handle_request\u001b[39m\u001b[34m(self, request)\u001b[39m\n\u001b[32m    100\u001b[39m     \u001b[38;5;28mself\u001b[39m._connect_failed = \u001b[38;5;28;01mTrue\u001b[39;00m\n\u001b[32m    101\u001b[39m     \u001b[38;5;28;01mraise\u001b[39;00m exc\n\u001b[32m--> \u001b[39m\u001b[32m103\u001b[39m \u001b[38;5;28;01mreturn\u001b[39;00m \u001b[38;5;28;43mself\u001b[39;49m\u001b[43m.\u001b[49m\u001b[43m_connection\u001b[49m\u001b[43m.\u001b[49m\u001b[43mhandle_request\u001b[49m\u001b[43m(\u001b[49m\u001b[43mrequest\u001b[49m\u001b[43m)\u001b[49m\n",
      "\u001b[36mFile \u001b[39m\u001b[32mc:\\Users\\97252\\Desktop\\לימודים\\סמסטר ו\\LLM\\hm2\\nlp-with-llms-2025-hw2\\.venv\\Lib\\site-packages\\httpcore\\_sync\\http11.py:136\u001b[39m, in \u001b[36mHTTP11Connection.handle_request\u001b[39m\u001b[34m(self, request)\u001b[39m\n\u001b[32m    134\u001b[39m     \u001b[38;5;28;01mwith\u001b[39;00m Trace(\u001b[33m\"\u001b[39m\u001b[33mresponse_closed\u001b[39m\u001b[33m\"\u001b[39m, logger, request) \u001b[38;5;28;01mas\u001b[39;00m trace:\n\u001b[32m    135\u001b[39m         \u001b[38;5;28mself\u001b[39m._response_closed()\n\u001b[32m--> \u001b[39m\u001b[32m136\u001b[39m \u001b[38;5;28;01mraise\u001b[39;00m exc\n",
      "\u001b[36mFile \u001b[39m\u001b[32mc:\\Users\\97252\\Desktop\\לימודים\\סמסטר ו\\LLM\\hm2\\nlp-with-llms-2025-hw2\\.venv\\Lib\\site-packages\\httpcore\\_sync\\http11.py:106\u001b[39m, in \u001b[36mHTTP11Connection.handle_request\u001b[39m\u001b[34m(self, request)\u001b[39m\n\u001b[32m     95\u001b[39m     \u001b[38;5;28;01mpass\u001b[39;00m\n\u001b[32m     97\u001b[39m \u001b[38;5;28;01mwith\u001b[39;00m Trace(\n\u001b[32m     98\u001b[39m     \u001b[33m\"\u001b[39m\u001b[33mreceive_response_headers\u001b[39m\u001b[33m\"\u001b[39m, logger, request, kwargs\n\u001b[32m     99\u001b[39m ) \u001b[38;5;28;01mas\u001b[39;00m trace:\n\u001b[32m    100\u001b[39m     (\n\u001b[32m    101\u001b[39m         http_version,\n\u001b[32m    102\u001b[39m         status,\n\u001b[32m    103\u001b[39m         reason_phrase,\n\u001b[32m    104\u001b[39m         headers,\n\u001b[32m    105\u001b[39m         trailing_data,\n\u001b[32m--> \u001b[39m\u001b[32m106\u001b[39m     ) = \u001b[38;5;28;43mself\u001b[39;49m\u001b[43m.\u001b[49m\u001b[43m_receive_response_headers\u001b[49m\u001b[43m(\u001b[49m\u001b[43m*\u001b[49m\u001b[43m*\u001b[49m\u001b[43mkwargs\u001b[49m\u001b[43m)\u001b[49m\n\u001b[32m    107\u001b[39m     trace.return_value = (\n\u001b[32m    108\u001b[39m         http_version,\n\u001b[32m    109\u001b[39m         status,\n\u001b[32m    110\u001b[39m         reason_phrase,\n\u001b[32m    111\u001b[39m         headers,\n\u001b[32m    112\u001b[39m     )\n\u001b[32m    114\u001b[39m network_stream = \u001b[38;5;28mself\u001b[39m._network_stream\n",
      "\u001b[36mFile \u001b[39m\u001b[32mc:\\Users\\97252\\Desktop\\לימודים\\סמסטר ו\\LLM\\hm2\\nlp-with-llms-2025-hw2\\.venv\\Lib\\site-packages\\httpcore\\_sync\\http11.py:177\u001b[39m, in \u001b[36mHTTP11Connection._receive_response_headers\u001b[39m\u001b[34m(self, request)\u001b[39m\n\u001b[32m    174\u001b[39m timeout = timeouts.get(\u001b[33m\"\u001b[39m\u001b[33mread\u001b[39m\u001b[33m\"\u001b[39m, \u001b[38;5;28;01mNone\u001b[39;00m)\n\u001b[32m    176\u001b[39m \u001b[38;5;28;01mwhile\u001b[39;00m \u001b[38;5;28;01mTrue\u001b[39;00m:\n\u001b[32m--> \u001b[39m\u001b[32m177\u001b[39m     event = \u001b[38;5;28;43mself\u001b[39;49m\u001b[43m.\u001b[49m\u001b[43m_receive_event\u001b[49m\u001b[43m(\u001b[49m\u001b[43mtimeout\u001b[49m\u001b[43m=\u001b[49m\u001b[43mtimeout\u001b[49m\u001b[43m)\u001b[49m\n\u001b[32m    178\u001b[39m     \u001b[38;5;28;01mif\u001b[39;00m \u001b[38;5;28misinstance\u001b[39m(event, h11.Response):\n\u001b[32m    179\u001b[39m         \u001b[38;5;28;01mbreak\u001b[39;00m\n",
      "\u001b[36mFile \u001b[39m\u001b[32mc:\\Users\\97252\\Desktop\\לימודים\\סמסטר ו\\LLM\\hm2\\nlp-with-llms-2025-hw2\\.venv\\Lib\\site-packages\\httpcore\\_sync\\http11.py:217\u001b[39m, in \u001b[36mHTTP11Connection._receive_event\u001b[39m\u001b[34m(self, timeout)\u001b[39m\n\u001b[32m    214\u001b[39m     event = \u001b[38;5;28mself\u001b[39m._h11_state.next_event()\n\u001b[32m    216\u001b[39m \u001b[38;5;28;01mif\u001b[39;00m event \u001b[38;5;129;01mis\u001b[39;00m h11.NEED_DATA:\n\u001b[32m--> \u001b[39m\u001b[32m217\u001b[39m     data = \u001b[38;5;28;43mself\u001b[39;49m\u001b[43m.\u001b[49m\u001b[43m_network_stream\u001b[49m\u001b[43m.\u001b[49m\u001b[43mread\u001b[49m\u001b[43m(\u001b[49m\n\u001b[32m    218\u001b[39m \u001b[43m        \u001b[49m\u001b[38;5;28;43mself\u001b[39;49m\u001b[43m.\u001b[49m\u001b[43mREAD_NUM_BYTES\u001b[49m\u001b[43m,\u001b[49m\u001b[43m \u001b[49m\u001b[43mtimeout\u001b[49m\u001b[43m=\u001b[49m\u001b[43mtimeout\u001b[49m\n\u001b[32m    219\u001b[39m \u001b[43m    \u001b[49m\u001b[43m)\u001b[49m\n\u001b[32m    221\u001b[39m     \u001b[38;5;66;03m# If we feed this case through h11 we'll raise an exception like:\u001b[39;00m\n\u001b[32m    222\u001b[39m     \u001b[38;5;66;03m#\u001b[39;00m\n\u001b[32m    223\u001b[39m     \u001b[38;5;66;03m#     httpcore.RemoteProtocolError: can't handle event type\u001b[39;00m\n\u001b[32m   (...)\u001b[39m\u001b[32m    227\u001b[39m     \u001b[38;5;66;03m# perspective. Instead we handle this case distinctly and treat\u001b[39;00m\n\u001b[32m    228\u001b[39m     \u001b[38;5;66;03m# it as a ConnectError.\u001b[39;00m\n\u001b[32m    229\u001b[39m     \u001b[38;5;28;01mif\u001b[39;00m data == \u001b[33mb\u001b[39m\u001b[33m\"\u001b[39m\u001b[33m\"\u001b[39m \u001b[38;5;129;01mand\u001b[39;00m \u001b[38;5;28mself\u001b[39m._h11_state.their_state == h11.SEND_RESPONSE:\n",
      "\u001b[36mFile \u001b[39m\u001b[32mc:\\Users\\97252\\Desktop\\לימודים\\סמסטר ו\\LLM\\hm2\\nlp-with-llms-2025-hw2\\.venv\\Lib\\site-packages\\httpcore\\_backends\\sync.py:128\u001b[39m, in \u001b[36mSyncStream.read\u001b[39m\u001b[34m(self, max_bytes, timeout)\u001b[39m\n\u001b[32m    126\u001b[39m \u001b[38;5;28;01mwith\u001b[39;00m map_exceptions(exc_map):\n\u001b[32m    127\u001b[39m     \u001b[38;5;28mself\u001b[39m._sock.settimeout(timeout)\n\u001b[32m--> \u001b[39m\u001b[32m128\u001b[39m     \u001b[38;5;28;01mreturn\u001b[39;00m \u001b[38;5;28;43mself\u001b[39;49m\u001b[43m.\u001b[49m\u001b[43m_sock\u001b[49m\u001b[43m.\u001b[49m\u001b[43mrecv\u001b[49m\u001b[43m(\u001b[49m\u001b[43mmax_bytes\u001b[49m\u001b[43m)\u001b[49m\n",
      "\u001b[36mFile \u001b[39m\u001b[32m~\\AppData\\Roaming\\uv\\python\\cpython-3.11.12-windows-x86_64-none\\Lib\\ssl.py:1295\u001b[39m, in \u001b[36mSSLSocket.recv\u001b[39m\u001b[34m(self, buflen, flags)\u001b[39m\n\u001b[32m   1291\u001b[39m     \u001b[38;5;28;01mif\u001b[39;00m flags != \u001b[32m0\u001b[39m:\n\u001b[32m   1292\u001b[39m         \u001b[38;5;28;01mraise\u001b[39;00m \u001b[38;5;167;01mValueError\u001b[39;00m(\n\u001b[32m   1293\u001b[39m             \u001b[33m\"\u001b[39m\u001b[33mnon-zero flags not allowed in calls to recv() on \u001b[39m\u001b[38;5;132;01m%s\u001b[39;00m\u001b[33m\"\u001b[39m %\n\u001b[32m   1294\u001b[39m             \u001b[38;5;28mself\u001b[39m.\u001b[34m__class__\u001b[39m)\n\u001b[32m-> \u001b[39m\u001b[32m1295\u001b[39m     \u001b[38;5;28;01mreturn\u001b[39;00m \u001b[38;5;28;43mself\u001b[39;49m\u001b[43m.\u001b[49m\u001b[43mread\u001b[49m\u001b[43m(\u001b[49m\u001b[43mbuflen\u001b[49m\u001b[43m)\u001b[49m\n\u001b[32m   1296\u001b[39m \u001b[38;5;28;01melse\u001b[39;00m:\n\u001b[32m   1297\u001b[39m     \u001b[38;5;28;01mreturn\u001b[39;00m \u001b[38;5;28msuper\u001b[39m().recv(buflen, flags)\n",
      "\u001b[36mFile \u001b[39m\u001b[32m~\\AppData\\Roaming\\uv\\python\\cpython-3.11.12-windows-x86_64-none\\Lib\\ssl.py:1168\u001b[39m, in \u001b[36mSSLSocket.read\u001b[39m\u001b[34m(self, len, buffer)\u001b[39m\n\u001b[32m   1166\u001b[39m         \u001b[38;5;28;01mreturn\u001b[39;00m \u001b[38;5;28mself\u001b[39m._sslobj.read(\u001b[38;5;28mlen\u001b[39m, buffer)\n\u001b[32m   1167\u001b[39m     \u001b[38;5;28;01melse\u001b[39;00m:\n\u001b[32m-> \u001b[39m\u001b[32m1168\u001b[39m         \u001b[38;5;28;01mreturn\u001b[39;00m \u001b[38;5;28;43mself\u001b[39;49m\u001b[43m.\u001b[49m\u001b[43m_sslobj\u001b[49m\u001b[43m.\u001b[49m\u001b[43mread\u001b[49m\u001b[43m(\u001b[49m\u001b[38;5;28;43mlen\u001b[39;49m\u001b[43m)\u001b[49m\n\u001b[32m   1169\u001b[39m \u001b[38;5;28;01mexcept\u001b[39;00m SSLError \u001b[38;5;28;01mas\u001b[39;00m x:\n\u001b[32m   1170\u001b[39m     \u001b[38;5;28;01mif\u001b[39;00m x.args[\u001b[32m0\u001b[39m] == SSL_ERROR_EOF \u001b[38;5;129;01mand\u001b[39;00m \u001b[38;5;28mself\u001b[39m.suppress_ragged_eofs:\n",
      "\u001b[31mKeyboardInterrupt\u001b[39m: "
     ]
    }
   ],
   "source": [
    "trained_module, paradigm_examples = run_evaluation()"
   ]
  },
  {
   "cell_type": "code",
   "execution_count": null,
   "id": "b452a56c",
   "metadata": {},
   "outputs": [
    {
     "name": "stdout",
     "output_type": "stream",
     "text": [
      "Running evaluation...\n"
     ]
    },
    {
     "name": "stderr",
     "output_type": "stream",
     "text": [
      "  0%|          | 0/9 [00:00<?, ?it/s]"
     ]
    },
    {
     "name": "stdout",
     "output_type": "stream",
     "text": [
      "Evaluating section: presupposition_both_presupposition\n"
     ]
    },
    {
     "name": "stderr",
     "output_type": "stream",
     "text": []
    },
    {
     "name": "stdout",
     "output_type": "stream",
     "text": [
      "Paradigm 0 consistency: 0.01736983605538045\n",
      "Paradigm 1 consistency: 0.01736983605538034\n",
      "Paradigm 2 consistency: 0.01736983605538045\n",
      "Paradigm 3 consistency: 0.01736983605538034\n",
      "Paradigm 4 consistency: 0.01736983605538034\n",
      "Paradigm 5 consistency: 0.01736983605538045\n",
      "Paradigm 6 consistency: 0.01736983605538034\n",
      "Paradigm 7 consistency: 0.01736983605538034\n",
      "Paradigm 8 consistency: 0.01736983605538045\n",
      "Paradigm 9 consistency: 0.03826325692095478\n"
     ]
    },
    {
     "name": "stderr",
     "output_type": "stream",
     "text": [
      "\n"
     ]
    },
    {
     "name": "stdout",
     "output_type": "stream",
     "text": [
      "Paradigm 10 consistency: 0.047909643385225076\n"
     ]
    },
    {
     "name": "stderr",
     "output_type": "stream",
     "text": [
      " 11%|█         | 11/100 [00:00<00:01, 53.13it/s]\u001b[A"
     ]
    },
    {
     "name": "stdout",
     "output_type": "stream",
     "text": [
      "Paradigm 11 consistency: 0.01736983605538034\n",
      "Paradigm 12 consistency: 0.01736983605538045\n",
      "Paradigm 13 consistency: 0.01736983605538034\n",
      "Paradigm 14 consistency: 0.01736983605538034\n",
      "Paradigm 15 consistency: 0.03826325692095478\n",
      "Paradigm 16 consistency: 0.047909643385224854\n",
      "Paradigm 17 consistency: 0.03826325692095478\n",
      "Paradigm 18 consistency: 0.01736983605538034\n",
      "Paradigm 19 consistency: 0.01736983605538045\n",
      "Paradigm 20 consistency: 0.01736983605538034\n",
      "Paradigm 21 consistency: 0.01736983605538034\n"
     ]
    },
    {
     "name": "stderr",
     "output_type": "stream",
     "text": []
    },
    {
     "name": "stdout",
     "output_type": "stream",
     "text": [
      "Paradigm 22 consistency: 0.01736983605538045\n",
      "Paradigm 23 consistency: 0.0024805242792796944\n",
      "Paradigm 24 consistency: 0.01736983605538034\n",
      "Paradigm 25 consistency: 0.07413710786179006\n",
      "Paradigm 26 consistency: 0.01736983605538034\n",
      "Paradigm 27 consistency: 0.01736983605538045\n",
      "Paradigm 28 consistency: 0.01736983605538045\n",
      "Paradigm 29 consistency: 0.03826325692095478\n",
      "Paradigm 30 consistency: 0.0024805242792796944\n",
      "Paradigm 31 consistency: 0.01736983605538045\n",
      "Paradigm 32 consistency: 0.01736983605538034\n",
      "Paradigm 33 consistency: 0.03826325692095478\n"
     ]
    },
    {
     "name": "stderr",
     "output_type": "stream",
     "text": []
    },
    {
     "name": "stdout",
     "output_type": "stream",
     "text": [
      "Paradigm 34 consistency: 0.01736983605538034\n",
      "Paradigm 35 consistency: 0.047909643385225076\n",
      "Paradigm 36 consistency: 0.01736983605538045\n",
      "Paradigm 37 consistency: 0.07413710786179006\n",
      "Paradigm 38 consistency: 0.01736983605538045\n",
      "Paradigm 39 consistency: 0.010502461377285166\n",
      "Paradigm 40 consistency: 0.01736983605538045\n",
      "Paradigm 41 consistency: 0.01736983605538045\n",
      "Paradigm 42 consistency: 0.01736983605538045\n",
      "Paradigm 43 consistency: 0.01736983605538034\n",
      "Paradigm 44 consistency: 0.01736983605538034\n",
      "Paradigm 45 consistency: 0.01736983605538034\n"
     ]
    },
    {
     "name": "stderr",
     "output_type": "stream",
     "text": [
      "\n"
     ]
    },
    {
     "name": "stdout",
     "output_type": "stream",
     "text": [
      "Paradigm 46 consistency: 0.047909643385225076\n",
      "Paradigm 47 consistency: 0.01736983605538034\n",
      "Paradigm 48 consistency: 0.01736983605538034\n",
      "Paradigm 49 consistency: 0.01736983605538045\n",
      "Paradigm 50 consistency: 0.03826325692095478\n",
      "Paradigm 51 consistency: 0.01736983605538045\n",
      "Paradigm 52 consistency: 0.01736983605538045\n",
      "Paradigm 53 consistency: 0.01736983605538045\n",
      "Paradigm 54 consistency: 0.01736983605538045\n",
      "Paradigm 55 consistency: 0.01736983605538045\n",
      "Paradigm 56 consistency: 0.01736983605538045\n",
      "Paradigm 57 consistency: 0.01736983605538045\n",
      "Paradigm 58 consistency: 0.01736983605538034\n",
      "Paradigm 59 consistency: 0.01736983605538045\n",
      "Paradigm 60 consistency: 0.010502461377285166\n"
     ]
    },
    {
     "name": "stderr",
     "output_type": "stream",
     "text": [
      " 61%|██████    | 61/100 [00:01<00:00, 56.14it/s]\u001b[A\n"
     ]
    },
    {
     "name": "stdout",
     "output_type": "stream",
     "text": [
      "Paradigm 61 consistency: 0.01736983605538045\n",
      "Paradigm 62 consistency: 0.01736983605538034\n",
      "Paradigm 63 consistency: 0.01736983605538045\n",
      "Paradigm 64 consistency: 0.01736983605538034\n",
      "Paradigm 65 consistency: 0.01736983605538034\n",
      "Paradigm 66 consistency: 0.01736983605538045\n",
      "Paradigm 67 consistency: 0.01736983605538045\n",
      "Paradigm 68 consistency: 0.01736983605538034\n",
      "Paradigm 69 consistency: 0.0024805242792796944\n",
      "Paradigm 70 consistency: 0.010502461377285166\n",
      "Paradigm 71 consistency: 0.03826325692095478\n",
      "Paradigm 72 consistency: 0.01736983605538034\n",
      "Paradigm 73 consistency: 0.01736983605538045\n"
     ]
    },
    {
     "name": "stderr",
     "output_type": "stream",
     "text": [
      " 74%|███████▍  | 74/100 [00:01<00:00, 57.77it/s]\u001b[A"
     ]
    },
    {
     "name": "stdout",
     "output_type": "stream",
     "text": [
      "Paradigm 74 consistency: 0.03826325692095478\n",
      "Paradigm 75 consistency: 0.0958883125600768\n",
      "Paradigm 76 consistency: 0.01736983605538034\n",
      "Paradigm 77 consistency: 0.01736983605538034\n",
      "Paradigm 78 consistency: 0.01736983605538045\n",
      "Paradigm 79 consistency: 0.010502461377285166\n",
      "Paradigm 80 consistency: 0.01736983605538045\n",
      "Paradigm 81 consistency: 0.01736983605538045\n",
      "Paradigm 82 consistency: 0.01736983605538034\n",
      "Paradigm 83 consistency: 0.01736983605538045\n",
      "Paradigm 84 consistency: 0.01736983605538045\n",
      "Paradigm 85 consistency: 0.01736983605538034\n"
     ]
    },
    {
     "name": "stderr",
     "output_type": "stream",
     "text": []
    },
    {
     "name": "stdout",
     "output_type": "stream",
     "text": [
      "Paradigm 86 consistency: 0.01736983605538034\n",
      "Paradigm 87 consistency: 0.07413710786179006\n",
      "Paradigm 88 consistency: 0.047909643385224854\n",
      "Paradigm 89 consistency: 0.01736983605538045\n",
      "Paradigm 90 consistency: 0.047909643385224854\n",
      "Paradigm 91 consistency: 0.01736983605538045\n",
      "Paradigm 92 consistency: 0.01736983605538045\n",
      "Paradigm 93 consistency: 0.03826325692095478\n",
      "Paradigm 94 consistency: 0.01736983605538034\n",
      "Paradigm 95 consistency: 0.01736983605538045\n",
      "Paradigm 96 consistency: 0.01736983605538045\n",
      "Paradigm 97 consistency: 0.03826325692095478\n"
     ]
    },
    {
     "name": "stderr",
     "output_type": "stream",
     "text": [
      "100%|██████████| 100/100 [00:01<00:00, 53.10it/s]\n"
     ]
    },
    {
     "name": "stdout",
     "output_type": "stream",
     "text": [
      "Paradigm 98 consistency: 0.047909643385224854\n",
      "Paradigm 99 consistency: 0.01736983605538045\n",
      "1900\n",
      "Calculate metrics by transformation\n"
     ]
    },
    {
     "name": "stderr",
     "output_type": "stream",
     "text": [
      "100%|██████████| 19/19 [00:01<00:00, 10.84it/s]\n",
      " 22%|██▏       | 2/9 [00:03<00:13,  1.95s/it]"
     ]
    },
    {
     "name": "stdout",
     "output_type": "stream",
     "text": [
      "Section presupposition_both_presupposition:\n",
      "  Accuracy: 0.9763\n",
      "  Precision: 0.9767\n",
      "  Recall: 0.9773\n",
      "  F1: 0.9769\n",
      "  Consistency: 0.0234\n",
      "\n",
      "Evaluating section: presupposition_change_of_state\n"
     ]
    },
    {
     "name": "stderr",
     "output_type": "stream",
     "text": []
    },
    {
     "name": "stdout",
     "output_type": "stream",
     "text": [
      "Paradigm 0 consistency: 0.5145392392540866\n",
      "Paradigm 1 consistency: 0.39871518417755825\n",
      "Paradigm 2 consistency: 0.3141871168274789\n",
      "Paradigm 3 consistency: 0.7025277510807103\n",
      "Paradigm 4 consistency: 0.39871518417755825\n",
      "Paradigm 5 consistency: 0.5115068636860558\n",
      "Paradigm 6 consistency: 0.5115068636860558\n",
      "Paradigm 7 consistency: 0.5115068636860558\n",
      "Paradigm 8 consistency: 0.3028137911081479\n",
      "Paradigm 9 consistency: 0.5115068636860558\n"
     ]
    },
    {
     "name": "stderr",
     "output_type": "stream",
     "text": []
    },
    {
     "name": "stdout",
     "output_type": "stream",
     "text": [
      "Paradigm 10 consistency: 0.6272947035832889\n",
      "Paradigm 11 consistency: 0.5115068636860558\n",
      "Paradigm 12 consistency: 0.314187116827479\n",
      "Paradigm 13 consistency: 0.3141871168274789\n",
      "Paradigm 14 consistency: 0.314187116827479\n",
      "Paradigm 15 consistency: 0.37075077614396534\n",
      "Paradigm 16 consistency: 0.24936273490419736\n"
     ]
    },
    {
     "name": "stderr",
     "output_type": "stream",
     "text": []
    },
    {
     "name": "stdout",
     "output_type": "stream",
     "text": [
      "Paradigm 17 consistency: 0.5115068636860558\n",
      "Paradigm 18 consistency: 0.314187116827479\n",
      "Paradigm 19 consistency: 0.5115068636860558\n",
      "Paradigm 20 consistency: 0.6272947035832889\n",
      "Paradigm 21 consistency: 0.6272947035832889\n",
      "Paradigm 22 consistency: 0.37075077614396534\n",
      "Paradigm 23 consistency: 0.5115068636860558\n",
      "Paradigm 24 consistency: 0.20033199319823147\n",
      "Paradigm 25 consistency: 0.3141871168274789\n"
     ]
    },
    {
     "name": "stderr",
     "output_type": "stream",
     "text": []
    },
    {
     "name": "stdout",
     "output_type": "stream",
     "text": [
      "Paradigm 26 consistency: 0.3555333547974129\n",
      "Paradigm 27 consistency: 0.6272947035832889\n",
      "Paradigm 28 consistency: 0.5115068636860558\n",
      "Paradigm 29 consistency: 0.5145392392540866\n",
      "Paradigm 30 consistency: 0.5115068636860558\n",
      "Paradigm 31 consistency: 0.3555333547974129\n",
      "Paradigm 32 consistency: 0.5145392392540866\n",
      "Paradigm 33 consistency: 0.37075077614396534\n",
      "Paradigm 34 consistency: 0.5145392392540866\n",
      "Paradigm 35 consistency: 0.5145392392540866\n",
      "Paradigm 36 consistency: 0.314187116827479\n",
      "Paradigm 37 consistency: 0.6272947035832889\n"
     ]
    },
    {
     "name": "stderr",
     "output_type": "stream",
     "text": []
    },
    {
     "name": "stdout",
     "output_type": "stream",
     "text": [
      "Paradigm 38 consistency: 0.37075077614396534\n",
      "Paradigm 39 consistency: 0.6272947035832889\n",
      "Paradigm 40 consistency: 0.42378260447830407\n",
      "Paradigm 41 consistency: 0.5145392392540866\n",
      "Paradigm 42 consistency: 0.7025277510807103\n",
      "Paradigm 43 consistency: 0.5145392392540866\n",
      "Paradigm 44 consistency: 0.7025277510807103\n",
      "Paradigm 45 consistency: 0.5115068636860558\n",
      "Paradigm 46 consistency: 0.7025277510807103\n",
      "Paradigm 47 consistency: 0.5115068636860558\n",
      "Paradigm 48 consistency: 0.5115068636860558\n",
      "Paradigm 49 consistency: 0.7025277510807103\n",
      "Paradigm 50 consistency: 0.3555333547974129\n",
      "Paradigm 51 consistency: 0.39871518417755825\n",
      "Paradigm 52 consistency: 0.314187116827479\n",
      "Paradigm 53 consistency: 0.6272947035832889\n",
      "Paradigm 54 consistency: 0.16494454884084464\n",
      "Paradigm 55 consistency: 0.17194835729502667\n",
      "Paradigm 56 consistency: 0.7025277510807103\n"
     ]
    },
    {
     "name": "stderr",
     "output_type": "stream",
     "text": []
    },
    {
     "name": "stdout",
     "output_type": "stream",
     "text": [
      "Paradigm 57 consistency: 0.3141871168274789\n",
      "Paradigm 58 consistency: 0.3028137911081479\n",
      "Paradigm 59 consistency: 0.3028137911081479\n",
      "Paradigm 60 consistency: 0.2575124304578764\n",
      "Paradigm 61 consistency: 0.37075077614396534\n",
      "Paradigm 62 consistency: 0.6272947035832889\n",
      "Paradigm 63 consistency: 0.5145392392540866\n",
      "Paradigm 64 consistency: 0.5115068636860558\n",
      "Paradigm 65 consistency: 0.16494454884084464\n"
     ]
    },
    {
     "name": "stderr",
     "output_type": "stream",
     "text": []
    },
    {
     "name": "stdout",
     "output_type": "stream",
     "text": [
      "Paradigm 66 consistency: 0.7025277510807103\n",
      "Paradigm 67 consistency: 0.07413710786179006\n",
      "Paradigm 68 consistency: 0.7025277510807103\n",
      "Paradigm 69 consistency: 0.7025277510807103\n",
      "Paradigm 70 consistency: 0.5145392392540866\n",
      "Paradigm 71 consistency: 0.5145392392540866\n",
      "Paradigm 72 consistency: 0.12691452647336965\n",
      "Paradigm 73 consistency: 0.6272947035832889\n",
      "Paradigm 74 consistency: 0.17194835729502667\n",
      "Paradigm 75 consistency: 0.5115068636860558\n",
      "Paradigm 76 consistency: 0.7025277510807103\n"
     ]
    },
    {
     "name": "stderr",
     "output_type": "stream",
     "text": []
    },
    {
     "name": "stdout",
     "output_type": "stream",
     "text": [
      "Paradigm 77 consistency: 0.5115068636860558\n",
      "Paradigm 78 consistency: 0.314187116827479\n",
      "Paradigm 79 consistency: 0.39871518417755825\n",
      "Paradigm 80 consistency: 0.5115068636860558\n",
      "Paradigm 81 consistency: 0.1148097082393531\n",
      "Paradigm 82 consistency: 0.3028137911081479\n",
      "Paradigm 83 consistency: 0.37075077614396534\n",
      "Paradigm 84 consistency: 0.20033199319823147\n"
     ]
    },
    {
     "name": "stderr",
     "output_type": "stream",
     "text": []
    },
    {
     "name": "stdout",
     "output_type": "stream",
     "text": [
      "Paradigm 85 consistency: 0.3555333547974129\n",
      "Paradigm 86 consistency: 0.3028137911081479\n",
      "Paradigm 87 consistency: 0.314187116827479\n",
      "Paradigm 88 consistency: 0.42378260447830407\n",
      "Paradigm 89 consistency: 0.314187116827479\n",
      "Paradigm 90 consistency: 0.7025277510807103\n",
      "Paradigm 91 consistency: 0.314187116827479\n",
      "Paradigm 92 consistency: 0.314187116827479\n",
      "Paradigm 93 consistency: 0.7025277510807103\n",
      "Paradigm 94 consistency: 0.42378260447830407\n"
     ]
    },
    {
     "name": "stderr",
     "output_type": "stream",
     "text": [
      "100%|██████████| 100/100 [00:02<00:00, 44.65it/s]\n"
     ]
    },
    {
     "name": "stdout",
     "output_type": "stream",
     "text": [
      "Paradigm 95 consistency: 0.5115068636860558\n",
      "Paradigm 96 consistency: 0.2330839172350092\n",
      "Paradigm 97 consistency: 0.42378260447830407\n",
      "Paradigm 98 consistency: 0.314187116827479\n",
      "Paradigm 99 consistency: 0.39871518417755825\n",
      "1900\n",
      "Calculate metrics by transformation\n"
     ]
    },
    {
     "name": "stderr",
     "output_type": "stream",
     "text": [
      "100%|██████████| 19/19 [00:01<00:00, 11.03it/s]\n",
      " 33%|███▎      | 3/9 [00:08<00:17,  2.88s/it]"
     ]
    },
    {
     "name": "stdout",
     "output_type": "stream",
     "text": [
      "Section presupposition_change_of_state:\n",
      "  Accuracy: 0.5679\n",
      "  Precision: 0.6619\n",
      "  Recall: 0.4970\n",
      "  F1: 0.4706\n",
      "  Consistency: 0.4412\n",
      "\n",
      "Evaluating section: presupposition_cleft_existence\n"
     ]
    },
    {
     "name": "stderr",
     "output_type": "stream",
     "text": []
    },
    {
     "name": "stdout",
     "output_type": "stream",
     "text": [
      "Paradigm 0 consistency: 0.3555333547974129\n",
      "Paradigm 1 consistency: 0.3555333547974129\n",
      "Paradigm 2 consistency: 0.3555333547974129\n",
      "Paradigm 3 consistency: 0.3555333547974129\n",
      "Paradigm 4 consistency: 0.3555333547974129\n",
      "Paradigm 5 consistency: 0.26342943586645207\n",
      "Paradigm 6 consistency: 0.24936273490419736\n",
      "Paradigm 7 consistency: 0.42378260447830407\n",
      "Paradigm 8 consistency: 0.42378260447830407\n",
      "Paradigm 9 consistency: 0.5115068636860558\n",
      "Paradigm 10 consistency: 0.3555333547974129\n"
     ]
    },
    {
     "name": "stderr",
     "output_type": "stream",
     "text": []
    },
    {
     "name": "stdout",
     "output_type": "stream",
     "text": [
      "Paradigm 11 consistency: 0.42378260447830407\n",
      "Paradigm 12 consistency: 0.3555333547974129\n",
      "Paradigm 13 consistency: 0.24936273490419736\n",
      "Paradigm 14 consistency: 0.3555333547974129\n",
      "Paradigm 15 consistency: 0.24936273490419725\n",
      "Paradigm 16 consistency: 0.20033199319823147\n",
      "Paradigm 17 consistency: 0.39871518417755825\n",
      "Paradigm 18 consistency: 0.3555333547974129\n"
     ]
    },
    {
     "name": "stderr",
     "output_type": "stream",
     "text": []
    },
    {
     "name": "stdout",
     "output_type": "stream",
     "text": [
      "Paradigm 19 consistency: 0.2330839172350092\n",
      "Paradigm 20 consistency: 0.24936273490419725\n",
      "Paradigm 21 consistency: 0.24936273490419736\n",
      "Paradigm 22 consistency: 0.3555333547974129\n",
      "Paradigm 23 consistency: 0.3555333547974129\n",
      "Paradigm 24 consistency: 0.3555333547974129\n",
      "Paradigm 25 consistency: 0.5115068636860558\n",
      "Paradigm 26 consistency: 0.42378260447830407\n",
      "Paradigm 27 consistency: 0.3555333547974129\n",
      "Paradigm 28 consistency: 0.3028137911081479\n",
      "Paradigm 29 consistency: 0.3555333547974129\n",
      "Paradigm 30 consistency: 0.17194835729502667\n"
     ]
    },
    {
     "name": "stderr",
     "output_type": "stream",
     "text": []
    },
    {
     "name": "stdout",
     "output_type": "stream",
     "text": [
      "Paradigm 31 consistency: 0.3555333547974129\n",
      "Paradigm 32 consistency: 0.20033199319823147\n",
      "Paradigm 33 consistency: 0.3555333547974129\n",
      "Paradigm 34 consistency: 0.42378260447830407\n",
      "Paradigm 35 consistency: 0.24936273490419736\n",
      "Paradigm 36 consistency: 0.42378260447830407\n",
      "Paradigm 37 consistency: 0.3555333547974129\n",
      "Paradigm 38 consistency: 0.3141871168274789\n",
      "Paradigm 39 consistency: 0.24936273490419736\n",
      "Paradigm 40 consistency: 0.24936273490419736\n",
      "Paradigm 41 consistency: 0.42378260447830407\n",
      "Paradigm 42 consistency: 0.24936273490419736\n"
     ]
    },
    {
     "name": "stderr",
     "output_type": "stream",
     "text": []
    },
    {
     "name": "stdout",
     "output_type": "stream",
     "text": [
      "Paradigm 43 consistency: 0.3555333547974129\n",
      "Paradigm 44 consistency: 0.3555333547974129\n",
      "Paradigm 45 consistency: 0.42378260447830407\n",
      "Paradigm 46 consistency: 0.3555333547974129\n",
      "Paradigm 47 consistency: 0.3141871168274789\n",
      "Paradigm 48 consistency: 0.2330839172350092\n",
      "Paradigm 49 consistency: 0.12691452647336965\n",
      "Paradigm 50 consistency: 0.20033199319823147\n",
      "Paradigm 51 consistency: 0.3555333547974129\n",
      "Paradigm 52 consistency: 0.3028137911081479\n"
     ]
    },
    {
     "name": "stderr",
     "output_type": "stream",
     "text": [
      "\n"
     ]
    },
    {
     "name": "stdout",
     "output_type": "stream",
     "text": [
      "Paradigm 53 consistency: 0.24936273490419736\n",
      "Paradigm 54 consistency: 0.2330839172350092\n",
      "Paradigm 55 consistency: 0.20033199319823147\n",
      "Paradigm 56 consistency: 0.3555333547974129\n",
      "Paradigm 57 consistency: 0.3555333547974129\n",
      "Paradigm 58 consistency: 0.42378260447830407\n",
      "Paradigm 59 consistency: 0.3555333547974129\n",
      "Paradigm 60 consistency: 0.42378260447830407\n",
      "Paradigm 61 consistency: 0.3555333547974129\n",
      "Paradigm 62 consistency: 0.3555333547974129\n",
      "Paradigm 63 consistency: 0.314187116827479\n",
      "Paradigm 64 consistency: 0.3555333547974129\n",
      "Paradigm 65 consistency: 0.42378260447830407\n"
     ]
    },
    {
     "name": "stderr",
     "output_type": "stream",
     "text": [
      " 66%|██████▌   | 66/100 [00:01<00:00, 53.27it/s]\u001b[A"
     ]
    },
    {
     "name": "stdout",
     "output_type": "stream",
     "text": [
      "Paradigm 66 consistency: 0.42378260447830407\n",
      "Paradigm 67 consistency: 0.20033199319823147\n",
      "Paradigm 68 consistency: 0.3555333547974129\n",
      "Paradigm 69 consistency: 0.42378260447830407\n",
      "Paradigm 70 consistency: 0.17194835729502667\n",
      "Paradigm 71 consistency: 0.42378260447830407\n",
      "Paradigm 72 consistency: 0.24936273490419736\n",
      "Paradigm 73 consistency: 0.24936273490419736\n",
      "Paradigm 74 consistency: 0.42378260447830407\n"
     ]
    },
    {
     "name": "stderr",
     "output_type": "stream",
     "text": []
    },
    {
     "name": "stdout",
     "output_type": "stream",
     "text": [
      "Paradigm 75 consistency: 0.3555333547974129\n",
      "Paradigm 76 consistency: 0.3555333547974129\n",
      "Paradigm 77 consistency: 0.42378260447830407\n",
      "Paradigm 78 consistency: 0.24936273490419725\n",
      "Paradigm 79 consistency: 0.3555333547974129\n",
      "Paradigm 80 consistency: 0.42378260447830407\n",
      "Paradigm 81 consistency: 0.24936273490419736\n",
      "Paradigm 82 consistency: 0.3555333547974129\n",
      "Paradigm 83 consistency: 0.24936273490419736\n",
      "Paradigm 84 consistency: 0.3555333547974129\n"
     ]
    },
    {
     "name": "stderr",
     "output_type": "stream",
     "text": []
    },
    {
     "name": "stdout",
     "output_type": "stream",
     "text": [
      "Paradigm 85 consistency: 0.24936273490419736\n",
      "Paradigm 86 consistency: 0.24936273490419736\n",
      "Paradigm 87 consistency: 0.42378260447830407\n",
      "Paradigm 88 consistency: 0.3555333547974129\n",
      "Paradigm 89 consistency: 0.24936273490419736\n",
      "Paradigm 90 consistency: 0.3555333547974129\n",
      "Paradigm 91 consistency: 0.3555333547974129\n",
      "Paradigm 92 consistency: 0.42378260447830407\n",
      "Paradigm 93 consistency: 0.3555333547974129\n",
      "Paradigm 94 consistency: 0.42378260447830407\n"
     ]
    },
    {
     "name": "stderr",
     "output_type": "stream",
     "text": [
      "100%|██████████| 100/100 [00:02<00:00, 44.37it/s]\n"
     ]
    },
    {
     "name": "stdout",
     "output_type": "stream",
     "text": [
      "Paradigm 95 consistency: 0.3028137911081479\n",
      "Paradigm 96 consistency: 0.3555333547974129\n",
      "Paradigm 97 consistency: 0.314187116827479\n",
      "Paradigm 98 consistency: 0.42378260447830407\n",
      "Paradigm 99 consistency: 0.42378260447830407\n",
      "1900\n",
      "Calculate metrics by transformation\n"
     ]
    },
    {
     "name": "stderr",
     "output_type": "stream",
     "text": [
      "100%|██████████| 19/19 [00:01<00:00, 11.83it/s]\n",
      " 44%|████▍     | 4/9 [00:12<00:16,  3.33s/it]"
     ]
    },
    {
     "name": "stdout",
     "output_type": "stream",
     "text": [
      "Section presupposition_cleft_existence:\n",
      "  Accuracy: 0.6884\n",
      "  Precision: 0.8489\n",
      "  Recall: 0.6312\n",
      "  F1: 0.6415\n",
      "  Consistency: 0.3334\n",
      "\n",
      "Evaluating section: presupposition_cleft_uniqueness\n"
     ]
    },
    {
     "name": "stderr",
     "output_type": "stream",
     "text": []
    },
    {
     "name": "stdout",
     "output_type": "stream",
     "text": [
      "Paradigm 0 consistency: 0.7025277510807103\n",
      "Paradigm 1 consistency: 0.6272947035832889\n",
      "Paradigm 2 consistency: 0.7025277510807103\n",
      "Paradigm 3 consistency: 0.7025277510807103\n",
      "Paradigm 4 consistency: 0.7025277510807103\n",
      "Paradigm 5 consistency: 0.7025277510807103\n",
      "Paradigm 6 consistency: 0.7025277510807103\n",
      "Paradigm 7 consistency: 0.7025277510807103\n",
      "Paradigm 8 consistency: 0.7025277510807103\n",
      "Paradigm 9 consistency: 0.7025277510807103\n",
      "Paradigm 10 consistency: 0.7025277510807103"
     ]
    },
    {
     "name": "stderr",
     "output_type": "stream",
     "text": []
    },
    {
     "name": "stdout",
     "output_type": "stream",
     "text": [
      "\n",
      "Paradigm 11 consistency: 0.7025277510807103\n",
      "Paradigm 12 consistency: 0.7025277510807103\n",
      "Paradigm 13 consistency: 0.7025277510807103\n",
      "Paradigm 14 consistency: 0.7025277510807103\n",
      "Paradigm 15 consistency: 0.7025277510807103\n",
      "Paradigm 16 consistency: 0.7025277510807103\n",
      "Paradigm 17 consistency: 0.7025277510807103\n",
      "Paradigm 18 consistency: 0.7025277510807103\n",
      "Paradigm 19 consistency: 0.5145392392540866\n",
      "Paradigm 20 consistency: 0.7025277510807103\n",
      "Paradigm 21 consistency: 0.7025277510807103\n",
      "Paradigm 22 consistency: 0.7025277510807103\n"
     ]
    },
    {
     "name": "stderr",
     "output_type": "stream",
     "text": [
      "\n"
     ]
    },
    {
     "name": "stdout",
     "output_type": "stream",
     "text": [
      "Paradigm 23 consistency: 0.7025277510807103\n"
     ]
    },
    {
     "name": "stderr",
     "output_type": "stream",
     "text": [
      " 24%|██▍       | 24/100 [00:00<00:01, 52.86it/s]\u001b[A\n"
     ]
    },
    {
     "name": "stdout",
     "output_type": "stream",
     "text": [
      "Paradigm 24 consistency: 0.7025277510807103\n",
      "Paradigm 25 consistency: 0.7025277510807103\n",
      "Paradigm 26 consistency: 0.7025277510807103\n",
      "Paradigm 27 consistency: 0.7025277510807103\n",
      "Paradigm 28 consistency: 0.5145392392540866\n",
      "Paradigm 29 consistency: 0.7025277510807103\n",
      "Paradigm 30 consistency: 0.7025277510807103\n",
      "Paradigm 31 consistency: 0.7025277510807103\n",
      "Paradigm 32 consistency: 0.7025277510807103\n",
      "Paradigm 33 consistency: 0.7025277510807103\n",
      "Paradigm 34 consistency: 0.7025277510807103\n",
      "Paradigm 35 consistency: 0.7025277510807103\n",
      "Paradigm 36 consistency: 0.7025277510807103\n",
      "Paradigm 37 consistency: 0.6272947035832889\n",
      "Paradigm 38 consistency: 0.7025277510807103\n"
     ]
    },
    {
     "name": "stderr",
     "output_type": "stream",
     "text": [
      " 39%|███▉      | 39/100 [00:00<00:00, 63.60it/s]\u001b[A"
     ]
    },
    {
     "name": "stdout",
     "output_type": "stream",
     "text": [
      "Paradigm 39 consistency: 0.7025277510807103\n",
      "Paradigm 40 consistency: 0.7025277510807103\n",
      "Paradigm 41 consistency: 0.7025277510807103\n",
      "Paradigm 42 consistency: 0.7025277510807103\n",
      "Paradigm 43 consistency: 0.7025277510807103\n",
      "Paradigm 44 consistency: 0.7025277510807103\n",
      "Paradigm 45 consistency: 0.7025277510807103\n",
      "Paradigm 46 consistency: 0.7025277510807103\n"
     ]
    },
    {
     "name": "stderr",
     "output_type": "stream",
     "text": []
    },
    {
     "name": "stdout",
     "output_type": "stream",
     "text": [
      "Paradigm 47 consistency: 0.6272947035832889\n",
      "Paradigm 48 consistency: 0.7025277510807103\n",
      "Paradigm 49 consistency: 0.7025277510807103\n",
      "Paradigm 50 consistency: 0.7025277510807103\n",
      "Paradigm 51 consistency: 0.7025277510807103\n",
      "Paradigm 52 consistency: 0.7025277510807103\n",
      "Paradigm 53 consistency: 0.7025277510807103\n",
      "Paradigm 54 consistency: 0.7025277510807103\n",
      "Paradigm 55 consistency: 0.7025277510807103\n",
      "Paradigm 56 consistency: 0.7025277510807103\n",
      "Paradigm 57 consistency: 0.7025277510807103\n",
      "Paradigm 58 consistency: 0.7025277510807103\n"
     ]
    },
    {
     "name": "stderr",
     "output_type": "stream",
     "text": []
    },
    {
     "name": "stdout",
     "output_type": "stream",
     "text": [
      "Paradigm 59 consistency: 0.5145392392540866\n",
      "Paradigm 60 consistency: 0.6272947035832889\n",
      "Paradigm 61 consistency: 0.7025277510807103\n",
      "Paradigm 62 consistency: 0.7025277510807103\n",
      "Paradigm 63 consistency: 0.7025277510807103\n",
      "Paradigm 64 consistency: 0.7025277510807103\n",
      "Paradigm 65 consistency: 0.7025277510807103\n",
      "Paradigm 66 consistency: 0.7025277510807103\n",
      "Paradigm 67 consistency: 0.7025277510807103\n",
      "Paradigm 68 consistency: 0.7025277510807103\n",
      "Paradigm 69 consistency: 0.7025277510807103\n",
      "Paradigm 70 consistency: 0.42378260447830407\n"
     ]
    },
    {
     "name": "stderr",
     "output_type": "stream",
     "text": []
    },
    {
     "name": "stdout",
     "output_type": "stream",
     "text": [
      "Paradigm 71 consistency: 0.7025277510807103\n",
      "Paradigm 72 consistency: 0.7025277510807103\n",
      "Paradigm 73 consistency: 0.7025277510807103\n",
      "Paradigm 74 consistency: 0.7025277510807103\n",
      "Paradigm 75 consistency: 0.7025277510807103\n",
      "Paradigm 76 consistency: 0.7025277510807103\n",
      "Paradigm 77 consistency: 0.7025277510807103\n",
      "Paradigm 78 consistency: 0.7025277510807103\n",
      "Paradigm 79 consistency: 0.7025277510807103\n",
      "Paradigm 80 consistency: 0.5145392392540866\n",
      "Paradigm 81 consistency: 0.7025277510807103\n",
      "Paradigm 82 consistency: 0.7025277510807103\n",
      "Paradigm 83 consistency: 0.7025277510807103\n",
      "Paradigm 84 consistency: 0.7025277510807103\n",
      "Paradigm 85 consistency: 0.7025277510807103\n",
      "Paradigm 86 consistency: 0.5145392392540866\n",
      "Paradigm 87 consistency: 0.7025277510807103\n",
      "Paradigm 88 consistency: 0.7025277510807103\n"
     ]
    },
    {
     "name": "stderr",
     "output_type": "stream",
     "text": [
      "100%|██████████| 100/100 [00:01<00:00, 53.51it/s]"
     ]
    },
    {
     "name": "stdout",
     "output_type": "stream",
     "text": [
      "Paradigm 89 consistency: 0.7025277510807103\n",
      "Paradigm 90 consistency: 0.7025277510807103\n",
      "Paradigm 91 consistency: 0.7025277510807103\n",
      "Paradigm 92 consistency: 0.7025277510807103\n",
      "Paradigm 93 consistency: 0.7025277510807103\n",
      "Paradigm 94 consistency: 0.7025277510807103\n",
      "Paradigm 95 consistency: 0.7025277510807103\n",
      "Paradigm 96 consistency: 0.7025277510807103\n",
      "Paradigm 97 consistency: 0.7025277510807103\n",
      "Paradigm 98 consistency: 0.7025277510807103\n",
      "Paradigm 99 consistency: 0.7025277510807103\n"
     ]
    },
    {
     "name": "stderr",
     "output_type": "stream",
     "text": [
      "\n"
     ]
    },
    {
     "name": "stdout",
     "output_type": "stream",
     "text": [
      "1900\n",
      "Calculate metrics by transformation\n"
     ]
    },
    {
     "name": "stderr",
     "output_type": "stream",
     "text": [
      "100%|██████████| 19/19 [00:01<00:00, 10.34it/s]\n",
      " 56%|█████▌    | 5/9 [00:16<00:14,  3.54s/it]"
     ]
    },
    {
     "name": "stdout",
     "output_type": "stream",
     "text": [
      "Section presupposition_cleft_uniqueness:\n",
      "  Accuracy: 0.4789\n",
      "  Precision: 0.7490\n",
      "  Recall: 0.3950\n",
      "  F1: 0.3120\n",
      "  Consistency: 0.6873\n",
      "\n",
      "Evaluating section: presupposition_only_presupposition\n"
     ]
    },
    {
     "name": "stderr",
     "output_type": "stream",
     "text": []
    },
    {
     "name": "stdout",
     "output_type": "stream",
     "text": [
      "Paradigm 0 consistency: 0.314187116827479\n",
      "Paradigm 1 consistency: 0.16494454884084464\n",
      "Paradigm 2 consistency: 0.2330839172350092\n",
      "Paradigm 3 consistency: 0.20033199319823147\n",
      "Paradigm 4 consistency: 0.24936273490419736\n",
      "Paradigm 5 consistency: 0.07768278518151717\n",
      "Paradigm 6 consistency: 0.3141871168274789\n",
      "Paradigm 7 consistency: 0.314187116827479\n",
      "Paradigm 8 consistency: 0.16494454884084464\n"
     ]
    },
    {
     "name": "stderr",
     "output_type": "stream",
     "text": []
    },
    {
     "name": "stdout",
     "output_type": "stream",
     "text": [
      "Paradigm 9 consistency: 0.20033199319823147"
     ]
    },
    {
     "name": "stderr",
     "output_type": "stream",
     "text": []
    },
    {
     "name": "stdout",
     "output_type": "stream",
     "text": [
      "\n",
      "Paradigm 10 consistency: 0.20033199319823147\n",
      "Paradigm 11 consistency: 0.39871518417755825\n",
      "Paradigm 12 consistency: 0.3555333547974129\n",
      "Paradigm 13 consistency: 0.16494454884084464\n",
      "Paradigm 14 consistency: 0.24936273490419736\n",
      "Paradigm 15 consistency: 0.24936273490419736\n",
      "Paradigm 16 consistency: 0.20033199319823147\n",
      "Paradigm 17 consistency: 0.20033199319823147\n",
      "Paradigm 18 consistency: 0.20033199319823147\n"
     ]
    },
    {
     "name": "stderr",
     "output_type": "stream",
     "text": []
    },
    {
     "name": "stdout",
     "output_type": "stream",
     "text": [
      "Paradigm 19 consistency: 0.20033199319823147\n",
      "Paradigm 20 consistency: 0.20033199319823147\n",
      "Paradigm 21 consistency: 0.20033199319823147\n",
      "Paradigm 22 consistency: 0.12691452647336965\n",
      "Paradigm 23 consistency: 0.16494454884084464\n"
     ]
    },
    {
     "name": "stderr",
     "output_type": "stream",
     "text": []
    },
    {
     "name": "stdout",
     "output_type": "stream",
     "text": [
      "Paradigm 24 consistency: 0.39871518417755825\n",
      "Paradigm 25 consistency: 0.20033199319823147\n",
      "Paradigm 26 consistency: 0.17194835729502667\n",
      "Paradigm 27 consistency: 0.20033199319823147\n",
      "Paradigm 28 consistency: 0.24936273490419736\n",
      "Paradigm 29 consistency: 0.39871518417755825\n",
      "Paradigm 30 consistency: 0.17194835729502667\n",
      "Paradigm 31 consistency: 0.24936273490419725\n",
      "Paradigm 32 consistency: 0.24936273490419725\n"
     ]
    },
    {
     "name": "stderr",
     "output_type": "stream",
     "text": []
    },
    {
     "name": "stdout",
     "output_type": "stream",
     "text": [
      "Paradigm 33 consistency: 0.314187116827479\n",
      "Paradigm 34 consistency: 0.314187116827479\n",
      "Paradigm 35 consistency: 0.314187116827479\n",
      "Paradigm 36 consistency: 0.17194835729502667\n",
      "Paradigm 37 consistency: 0.314187116827479\n",
      "Paradigm 38 consistency: 0.20033199319823147\n",
      "Paradigm 39 consistency: 0.17194835729502667\n",
      "Paradigm 40 consistency: 0.3141871168274789\n"
     ]
    },
    {
     "name": "stderr",
     "output_type": "stream",
     "text": []
    },
    {
     "name": "stdout",
     "output_type": "stream",
     "text": [
      "Paradigm 41 consistency: 0.3141871168274789\n",
      "Paradigm 42 consistency: 0.24936273490419736\n",
      "Paradigm 43 consistency: 0.3141871168274789\n",
      "Paradigm 44 consistency: 0.24936273490419736\n",
      "Paradigm 45 consistency: 0.24936273490419725\n",
      "Paradigm 46 consistency: 0.14194027202555726\n",
      "Paradigm 47 consistency: 0.24936273490419725\n"
     ]
    },
    {
     "name": "stderr",
     "output_type": "stream",
     "text": [
      "\n"
     ]
    },
    {
     "name": "stdout",
     "output_type": "stream",
     "text": [
      "Paradigm 48 consistency: 0.24936273490419725\n",
      "Paradigm 49 consistency: 0.24936273490419725\n",
      "Paradigm 50 consistency: 0.24936273490419725\n",
      "Paradigm 51 consistency: 0.39871518417755825\n",
      "Paradigm 52 consistency: 0.24936273490419725\n",
      "Paradigm 53 consistency: 0.314187116827479\n"
     ]
    },
    {
     "name": "stderr",
     "output_type": "stream",
     "text": [
      " 54%|█████▍    | 54/100 [00:00<00:00, 59.56it/s]\u001b[A\n"
     ]
    },
    {
     "name": "stdout",
     "output_type": "stream",
     "text": [
      "Paradigm 54 consistency: 0.24936273490419736\n",
      "Paradigm 55 consistency: 0.314187116827479\n",
      "Paradigm 56 consistency: 0.314187116827479\n",
      "Paradigm 57 consistency: 0.20033199319823147\n",
      "Paradigm 58 consistency: 0.24936273490419736\n",
      "Paradigm 59 consistency: 0.314187116827479\n"
     ]
    },
    {
     "name": "stderr",
     "output_type": "stream",
     "text": [
      " 60%|██████    | 60/100 [00:01<00:00, 58.65it/s]\u001b[A\n"
     ]
    },
    {
     "name": "stdout",
     "output_type": "stream",
     "text": [
      "Paradigm 60 consistency: 0.20033199319823147\n",
      "Paradigm 61 consistency: 0.314187116827479\n",
      "Paradigm 62 consistency: 0.20033199319823147\n",
      "Paradigm 63 consistency: 0.20033199319823147\n",
      "Paradigm 64 consistency: 0.3141871168274789\n",
      "Paradigm 65 consistency: 0.24936273490419725\n"
     ]
    },
    {
     "name": "stderr",
     "output_type": "stream",
     "text": [
      " 66%|██████▌   | 66/100 [00:01<00:00, 57.54it/s]\u001b[A"
     ]
    },
    {
     "name": "stdout",
     "output_type": "stream",
     "text": [
      "Paradigm 66 consistency: 0.314187116827479\n",
      "Paradigm 67 consistency: 0.17194835729502667\n",
      "Paradigm 68 consistency: 0.24936273490419725\n",
      "Paradigm 69 consistency: 0.20033199319823147\n"
     ]
    },
    {
     "name": "stderr",
     "output_type": "stream",
     "text": []
    },
    {
     "name": "stdout",
     "output_type": "stream",
     "text": [
      "Paradigm 70 consistency: 0.24936273490419736\n",
      "Paradigm 71 consistency: 0.3141871168274789\n",
      "Paradigm 72 consistency: 0.314187116827479\n",
      "Paradigm 73 consistency: 0.39871518417755825\n",
      "Paradigm 74 consistency: 0.20033199319823147\n"
     ]
    },
    {
     "name": "stderr",
     "output_type": "stream",
     "text": [
      "\n"
     ]
    },
    {
     "name": "stdout",
     "output_type": "stream",
     "text": [
      "Paradigm 75 consistency: 0.24936273490419725\n",
      "Paradigm 76 consistency: 0.314187116827479\n",
      "Paradigm 77 consistency: 0.07413710786179006\n",
      "Paradigm 78 consistency: 0.3141871168274789\n",
      "Paradigm 79 consistency: 0.20033199319823147\n",
      "Paradigm 80 consistency: 0.20033199319823147\n",
      "Paradigm 81 consistency: 0.17194835729502667\n",
      "Paradigm 82 consistency: 0.20033199319823147\n",
      "Paradigm 83 consistency: 0.3141871168274789\n"
     ]
    },
    {
     "name": "stderr",
     "output_type": "stream",
     "text": [
      " 84%|████████▍ | 84/100 [00:01<00:00, 49.13it/s]\u001b[A"
     ]
    },
    {
     "name": "stdout",
     "output_type": "stream",
     "text": [
      "Paradigm 84 consistency: 0.314187116827479\n",
      "Paradigm 85 consistency: 0.2330839172350092\n",
      "Paradigm 86 consistency: 0.3141871168274789\n",
      "Paradigm 87 consistency: 0.314187116827479\n"
     ]
    },
    {
     "name": "stderr",
     "output_type": "stream",
     "text": []
    },
    {
     "name": "stdout",
     "output_type": "stream",
     "text": [
      "Paradigm 88 consistency: 0.24936273490419736\n",
      "Paradigm 89 consistency: 0.24936273490419736\n",
      "Paradigm 90 consistency: 0.17194835729502667\n",
      "Paradigm 91 consistency: 0.314187116827479\n",
      "Paradigm 92 consistency: 0.42378260447830407\n",
      "Paradigm 93 consistency: 0.24936273490419736\n",
      "Paradigm 94 consistency: 0.3141871168274789\n"
     ]
    },
    {
     "name": "stderr",
     "output_type": "stream",
     "text": []
    },
    {
     "name": "stdout",
     "output_type": "stream",
     "text": [
      "Paradigm 95 consistency: 0.314187116827479\n",
      "Paradigm 96 consistency: 0.314187116827479\n",
      "Paradigm 97 consistency: 0.314187116827479\n"
     ]
    },
    {
     "name": "stderr",
     "output_type": "stream",
     "text": [
      "100%|██████████| 100/100 [00:02<00:00, 49.61it/s]\n"
     ]
    },
    {
     "name": "stdout",
     "output_type": "stream",
     "text": [
      "Paradigm 98 consistency: 0.314187116827479\n",
      "Paradigm 99 consistency: 0.20033199319823147\n",
      "1900\n",
      "Calculate metrics by transformation\n"
     ]
    },
    {
     "name": "stderr",
     "output_type": "stream",
     "text": [
      "100%|██████████| 19/19 [00:01<00:00, 11.95it/s]\n",
      " 67%|██████▋   | 6/9 [00:19<00:10,  3.65s/it]"
     ]
    },
    {
     "name": "stdout",
     "output_type": "stream",
     "text": [
      "Section presupposition_only_presupposition:\n",
      "  Accuracy: 0.6995\n",
      "  Precision: 0.8292\n",
      "  Recall: 0.6557\n",
      "  F1: 0.6786\n",
      "  Consistency: 0.2541\n",
      "\n",
      "Evaluating section: presupposition_possessed_definites_existence\n"
     ]
    },
    {
     "name": "stderr",
     "output_type": "stream",
     "text": []
    },
    {
     "name": "stdout",
     "output_type": "stream",
     "text": [
      "Paradigm 0 consistency: 0.047909643385224854\n",
      "Paradigm 1 consistency: 0.01736983605538045\n",
      "Paradigm 2 consistency: 0.01736983605538034\n",
      "Paradigm 3 consistency: 0.01736983605538045\n",
      "Paradigm 4 consistency: 0.0958883125600768\n",
      "Paradigm 5 consistency: 0.01736983605538045\n"
     ]
    },
    {
     "name": "stderr",
     "output_type": "stream",
     "text": []
    },
    {
     "name": "stdout",
     "output_type": "stream",
     "text": [
      "Paradigm 6 consistency: 0.01736983605538034\n",
      "Paradigm 7 consistency: 0.01736983605538045\n",
      "Paradigm 8 consistency: 0.01736983605538034\n"
     ]
    },
    {
     "name": "stderr",
     "output_type": "stream",
     "text": [
      "\n"
     ]
    },
    {
     "name": "stdout",
     "output_type": "stream",
     "text": [
      "Paradigm 9 consistency: 0.16494454884084464\n",
      "Paradigm 10 consistency: 0.047909643385224854\n",
      "Paradigm 11 consistency: 0.01736983605538034\n",
      "Paradigm 12 consistency: 0.01736983605538034\n",
      "Paradigm 13 consistency: 0.3141871168274789\n",
      "Paradigm 14 consistency: 0.01736983605538045\n",
      "Paradigm 15 consistency: 0.01736983605538045\n",
      "Paradigm 16 consistency: 0.0024805242792796944\n",
      "Paradigm 17 consistency: 0.047909643385225076\n"
     ]
    },
    {
     "name": "stderr",
     "output_type": "stream",
     "text": [
      " 18%|█▊        | 18/100 [00:00<00:01, 45.53it/s]\u001b[A"
     ]
    },
    {
     "name": "stdout",
     "output_type": "stream",
     "text": [
      "Paradigm 18 consistency: 0.01736983605538034\n",
      "Paradigm 19 consistency: 0.01736983605538034\n",
      "Paradigm 20 consistency: 0.047909643385224854\n",
      "Paradigm 21 consistency: 0.047909643385224854\n"
     ]
    },
    {
     "name": "stderr",
     "output_type": "stream",
     "text": [
      "\n"
     ]
    },
    {
     "name": "stdout",
     "output_type": "stream",
     "text": [
      "Paradigm 22 consistency: 0.047909643385224854\n",
      "Paradigm 23 consistency: 0.01736983605538045\n",
      "Paradigm 24 consistency: 0.01736983605538045\n",
      "Paradigm 25 consistency: 0.01736983605538034\n",
      "Paradigm 26 consistency: 0.01736983605538034\n",
      "Paradigm 27 consistency: 0.047909643385224854\n",
      "Paradigm 28 consistency: 0.01736983605538045\n"
     ]
    },
    {
     "name": "stderr",
     "output_type": "stream",
     "text": [
      " 29%|██▉       | 29/100 [00:00<00:01, 47.55it/s]\u001b[A"
     ]
    },
    {
     "name": "stdout",
     "output_type": "stream",
     "text": [
      "Paradigm 29 consistency: 0.047909643385225076\n",
      "Paradigm 30 consistency: 0.047909643385225076\n",
      "Paradigm 31 consistency: 0.2330839172350092\n",
      "Paradigm 32 consistency: 0.17194835729502667\n"
     ]
    },
    {
     "name": "stderr",
     "output_type": "stream",
     "text": []
    },
    {
     "name": "stdout",
     "output_type": "stream",
     "text": [
      "Paradigm 33 consistency: 0.01736983605538034\n",
      "Paradigm 34 consistency: 0.0958883125600768\n",
      "Paradigm 35 consistency: 0.01736983605538045\n",
      "Paradigm 36 consistency: 0.01736983605538034\n",
      "Paradigm 37 consistency: 0.01736983605538045\n",
      "Paradigm 38 consistency: 0.01736983605538034\n",
      "Paradigm 39 consistency: 0.37075077614396534\n"
     ]
    },
    {
     "name": "stderr",
     "output_type": "stream",
     "text": []
    },
    {
     "name": "stdout",
     "output_type": "stream",
     "text": [
      "Paradigm 40 consistency: 0.01736983605538034\n",
      "Paradigm 41 consistency: 0.24936273490419736\n",
      "Paradigm 42 consistency: 0.5115068636860558\n",
      "Paradigm 43 consistency: 0.01736983605538034\n",
      "Paradigm 44 consistency: 0.01736983605538045\n"
     ]
    },
    {
     "name": "stderr",
     "output_type": "stream",
     "text": []
    },
    {
     "name": "stdout",
     "output_type": "stream",
     "text": [
      "Paradigm 45 consistency: 0.01736983605538034\n",
      "Paradigm 46 consistency: 0.03826325692095478\n",
      "Paradigm 47 consistency: 0.01736983605538045\n",
      "Paradigm 48 consistency: 0.01736983605538034\n",
      "Paradigm 49 consistency: 0.047909643385224854\n"
     ]
    },
    {
     "name": "stderr",
     "output_type": "stream",
     "text": []
    },
    {
     "name": "stdout",
     "output_type": "stream",
     "text": [
      "Paradigm 50 consistency: 0.01736983605538045\n",
      "Paradigm 51 consistency: 0.01736983605538045\n",
      "Paradigm 52 consistency: 0.0958883125600769\n"
     ]
    },
    {
     "name": "stderr",
     "output_type": "stream",
     "text": [
      "\n"
     ]
    },
    {
     "name": "stdout",
     "output_type": "stream",
     "text": [
      "Paradigm 53 consistency: 0.0024805242792796944\n",
      "Paradigm 54 consistency: 0.01736983605538045\n",
      "Paradigm 55 consistency: 0.07768278518151717\n",
      "Paradigm 56 consistency: 0.047909643385224854\n",
      "Paradigm 57 consistency: 0.01736983605538045\n",
      "Paradigm 58 consistency: 0.047909643385225076\n",
      "Paradigm 59 consistency: 0.047909643385225076\n",
      "Paradigm 60 consistency: 0.01736983605538045\n",
      "Paradigm 61 consistency: 0.047909643385224854\n",
      "Paradigm 62 consistency: 0.01736983605538045\n"
     ]
    },
    {
     "name": "stderr",
     "output_type": "stream",
     "text": [
      " 63%|██████▎   | 63/100 [00:01<00:00, 50.09it/s]\u001b[A"
     ]
    },
    {
     "name": "stdout",
     "output_type": "stream",
     "text": [
      "Paradigm 63 consistency: 0.01736983605538045\n",
      "Paradigm 64 consistency: 0.01736983605538045\n",
      "Paradigm 65 consistency: 0.01736983605538034\n",
      "Paradigm 66 consistency: 0.01736983605538034\n",
      "Paradigm 67 consistency: 0.01736983605538034\n",
      "Paradigm 68 consistency: 0.01736983605538034\n"
     ]
    },
    {
     "name": "stderr",
     "output_type": "stream",
     "text": [
      "\n"
     ]
    },
    {
     "name": "stdout",
     "output_type": "stream",
     "text": [
      "Paradigm 69 consistency: 0.01736983605538034\n",
      "Paradigm 70 consistency: 0.01736983605538045\n",
      "Paradigm 71 consistency: 0.01736983605538045\n",
      "Paradigm 72 consistency: 0.01736983605538045\n",
      "Paradigm 73 consistency: 0.047909643385224854\n",
      "Paradigm 74 consistency: 0.0958883125600769\n",
      "Paradigm 75 consistency: 0.01736983605538045\n",
      "Paradigm 76 consistency: 0.07413710786179006\n",
      "Paradigm 77 consistency: 0.0958883125600768\n",
      "Paradigm 78 consistency: 0.01736983605538045\n"
     ]
    },
    {
     "name": "stderr",
     "output_type": "stream",
     "text": [
      " 79%|███████▉  | 79/100 [00:01<00:00, 61.62it/s]\u001b[A\n"
     ]
    },
    {
     "name": "stdout",
     "output_type": "stream",
     "text": [
      "Paradigm 79 consistency: 0.047909643385225076\n",
      "Paradigm 80 consistency: 0.01736983605538045\n",
      "Paradigm 81 consistency: 0.01736983605538045\n",
      "Paradigm 82 consistency: 0.0958883125600768\n",
      "Paradigm 83 consistency: 0.01736983605538034\n",
      "Paradigm 84 consistency: 0.12691452647336965\n",
      "Paradigm 85 consistency: 0.01736983605538045\n"
     ]
    },
    {
     "name": "stderr",
     "output_type": "stream",
     "text": [
      " 86%|████████▌ | 86/100 [00:01<00:00, 60.82it/s]\u001b[A"
     ]
    },
    {
     "name": "stdout",
     "output_type": "stream",
     "text": [
      "Paradigm 86 consistency: 0.314187116827479\n",
      "Paradigm 87 consistency: 0.047909643385224854\n",
      "Paradigm 88 consistency: 0.047909643385225076\n",
      "Paradigm 89 consistency: 0.01736983605538045\n",
      "Paradigm 90 consistency: 0.047909643385224854\n",
      "Paradigm 91 consistency: 0.01736983605538034\n"
     ]
    },
    {
     "name": "stderr",
     "output_type": "stream",
     "text": [
      "100%|██████████| 100/100 [00:01<00:00, 51.70it/s]"
     ]
    },
    {
     "name": "stdout",
     "output_type": "stream",
     "text": [
      "Paradigm 92 consistency: 0.047909643385225076\n",
      "Paradigm 93 consistency: 0.047909643385225076\n",
      "Paradigm 94 consistency: 0.07413710786178995\n",
      "Paradigm 95 consistency: 0.047909643385225076\n",
      "Paradigm 96 consistency: 0.01736983605538034\n",
      "Paradigm 97 consistency: 0.047909643385224854\n",
      "Paradigm 98 consistency: 0.12691452647336965\n",
      "Paradigm 99 consistency: 0.01736983605538045\n",
      "1900\n"
     ]
    },
    {
     "name": "stderr",
     "output_type": "stream",
     "text": [
      "\n"
     ]
    },
    {
     "name": "stdout",
     "output_type": "stream",
     "text": [
      "Calculate metrics by transformation\n"
     ]
    },
    {
     "name": "stderr",
     "output_type": "stream",
     "text": [
      "100%|██████████| 19/19 [00:01<00:00, 11.21it/s]\n",
      " 78%|███████▊  | 7/9 [00:23<00:07,  3.75s/it]"
     ]
    },
    {
     "name": "stdout",
     "output_type": "stream",
     "text": [
      "Section presupposition_possessed_definites_existence:\n",
      "  Accuracy: 0.9374\n",
      "  Precision: 0.9449\n",
      "  Recall: 0.9289\n",
      "  F1: 0.9355\n",
      "  Consistency: 0.0549\n",
      "\n",
      "Evaluating section: presupposition_possessed_definites_uniqueness\n"
     ]
    },
    {
     "name": "stderr",
     "output_type": "stream",
     "text": []
    },
    {
     "name": "stdout",
     "output_type": "stream",
     "text": [
      "Paradigm 0 consistency: 0.37075077614396534\n",
      "Paradigm 1 consistency: 0.7025277510807103\n",
      "Paradigm 2 consistency: 0.7025277510807103\n",
      "Paradigm 3 consistency: 0.7025277510807103\n",
      "Paradigm 4 consistency: 0.7025277510807103\n",
      "Paradigm 5 consistency: 0.7025277510807103\n",
      "Paradigm 6 consistency: 0.7025277510807103\n",
      "Paradigm 7 consistency: 0.7025277510807103\n",
      "Paradigm 8 consistency: 0.7025277510807103\n",
      "Paradigm 9 consistency: 0.7025277510807103\n",
      "Paradigm 10 consistency: 0.7025277510807103\n",
      "Paradigm 11 consistency: 0.7025277510807103\n"
     ]
    },
    {
     "name": "stderr",
     "output_type": "stream",
     "text": []
    },
    {
     "name": "stdout",
     "output_type": "stream",
     "text": [
      "Paradigm 12 consistency: 0.7025277510807103\n",
      "Paradigm 13 consistency: 0.7025277510807103\n",
      "Paradigm 14 consistency: 0.7025277510807103\n",
      "Paradigm 15 consistency: 0.7025277510807103\n"
     ]
    },
    {
     "name": "stderr",
     "output_type": "stream",
     "text": []
    },
    {
     "name": "stdout",
     "output_type": "stream",
     "text": [
      "Paradigm 16 consistency: 0.5145392392540866\n",
      "Paradigm 17 consistency: 0.7025277510807103\n",
      "Paradigm 18 consistency: 0.5115068636860558\n",
      "Paradigm 19 consistency: 0.5145392392540866\n",
      "Paradigm 20 consistency: 0.7025277510807103\n",
      "Paradigm 21 consistency: 0.7025277510807103\n",
      "Paradigm 22 consistency: 0.5145392392540866\n",
      "Paradigm 23 consistency: 0.7025277510807103\n"
     ]
    },
    {
     "name": "stderr",
     "output_type": "stream",
     "text": []
    },
    {
     "name": "stdout",
     "output_type": "stream",
     "text": [
      "Paradigm 24 consistency: 0.7025277510807103\n",
      "Paradigm 25 consistency: 0.5145392392540866\n",
      "Paradigm 26 consistency: 0.7025277510807103\n",
      "Paradigm 27 consistency: 0.7025277510807103\n",
      "Paradigm 28 consistency: 0.7025277510807103\n"
     ]
    },
    {
     "name": "stderr",
     "output_type": "stream",
     "text": []
    },
    {
     "name": "stdout",
     "output_type": "stream",
     "text": [
      "Paradigm 29 consistency: 0.20033199319823147\n",
      "Paradigm 30 consistency: 0.5145392392540866\n",
      "Paradigm 31 consistency: 0.7025277510807103\n",
      "Paradigm 32 consistency: 0.7025277510807103\n",
      "Paradigm 33 consistency: 0.7025277510807103\n",
      "Paradigm 34 consistency: 0.7025277510807103\n"
     ]
    },
    {
     "name": "stderr",
     "output_type": "stream",
     "text": []
    },
    {
     "name": "stdout",
     "output_type": "stream",
     "text": [
      "Paradigm 35 consistency: 0.7025277510807103\n",
      "Paradigm 36 consistency: 0.7025277510807103\n",
      "Paradigm 37 consistency: 0.7025277510807103\n",
      "Paradigm 38 consistency: 0.7025277510807103\n",
      "Paradigm 39 consistency: 0.7025277510807103\n",
      "Paradigm 40 consistency: 0.7025277510807103\n",
      "Paradigm 41 consistency: 0.7025277510807103\n",
      "Paradigm 42 consistency: 0.7025277510807103\n",
      "Paradigm 43 consistency: 0.7025277510807103\n",
      "Paradigm 44 consistency: 0.7025277510807103\n",
      "Paradigm 45 consistency: 0.7025277510807103\n"
     ]
    },
    {
     "name": "stderr",
     "output_type": "stream",
     "text": []
    },
    {
     "name": "stdout",
     "output_type": "stream",
     "text": [
      "Paradigm 46 consistency: 0.7025277510807103\n",
      "Paradigm 47 consistency: 0.7025277510807103\n",
      "Paradigm 48 consistency: 0.3141871168274789\n",
      "Paradigm 49 consistency: 0.7025277510807103\n",
      "Paradigm 50 consistency: 0.7025277510807103\n",
      "Paradigm 51 consistency: 0.7025277510807103\n"
     ]
    },
    {
     "name": "stderr",
     "output_type": "stream",
     "text": []
    },
    {
     "name": "stdout",
     "output_type": "stream",
     "text": [
      "Paradigm 52 consistency: 0.7025277510807103\n"
     ]
    },
    {
     "name": "stderr",
     "output_type": "stream",
     "text": []
    },
    {
     "name": "stdout",
     "output_type": "stream",
     "text": [
      "Paradigm 53 consistency: 0.7025277510807103\n"
     ]
    },
    {
     "name": "stderr",
     "output_type": "stream",
     "text": []
    },
    {
     "name": "stdout",
     "output_type": "stream",
     "text": [
      "Paradigm 54 consistency: 0.7025277510807103\n"
     ]
    },
    {
     "name": "stderr",
     "output_type": "stream",
     "text": []
    },
    {
     "name": "stdout",
     "output_type": "stream",
     "text": [
      "Paradigm 55 consistency: 0.7025277510807103\n"
     ]
    },
    {
     "name": "stderr",
     "output_type": "stream",
     "text": []
    },
    {
     "name": "stdout",
     "output_type": "stream",
     "text": [
      "Paradigm 56 consistency: 0.7025277510807103\n"
     ]
    },
    {
     "name": "stderr",
     "output_type": "stream",
     "text": []
    },
    {
     "name": "stdout",
     "output_type": "stream",
     "text": [
      "Paradigm 57 consistency: 0.7025277510807103\n"
     ]
    },
    {
     "name": "stderr",
     "output_type": "stream",
     "text": []
    },
    {
     "name": "stdout",
     "output_type": "stream",
     "text": [
      "Paradigm 58 consistency: 0.7025277510807103\n"
     ]
    },
    {
     "name": "stderr",
     "output_type": "stream",
     "text": []
    },
    {
     "name": "stdout",
     "output_type": "stream",
     "text": [
      "Paradigm 59 consistency: 0.7025277510807103\n"
     ]
    },
    {
     "name": "stderr",
     "output_type": "stream",
     "text": []
    },
    {
     "name": "stdout",
     "output_type": "stream",
     "text": [
      "Paradigm 60 consistency: 0.7025277510807103\n"
     ]
    },
    {
     "name": "stderr",
     "output_type": "stream",
     "text": []
    },
    {
     "name": "stdout",
     "output_type": "stream",
     "text": [
      "Paradigm 61 consistency: 0.7025277510807103\n"
     ]
    },
    {
     "name": "stderr",
     "output_type": "stream",
     "text": []
    },
    {
     "name": "stdout",
     "output_type": "stream",
     "text": [
      "Paradigm 62 consistency: 0.7025277510807103\n"
     ]
    },
    {
     "name": "stderr",
     "output_type": "stream",
     "text": []
    },
    {
     "name": "stdout",
     "output_type": "stream",
     "text": [
      "Paradigm 63 consistency: 0.7025277510807103\n"
     ]
    },
    {
     "name": "stderr",
     "output_type": "stream",
     "text": []
    },
    {
     "name": "stdout",
     "output_type": "stream",
     "text": [
      "Paradigm 64 consistency: 0.7025277510807103\n"
     ]
    },
    {
     "name": "stderr",
     "output_type": "stream",
     "text": []
    },
    {
     "name": "stdout",
     "output_type": "stream",
     "text": [
      "Paradigm 65 consistency: 0.7025277510807103\n"
     ]
    },
    {
     "name": "stderr",
     "output_type": "stream",
     "text": []
    },
    {
     "name": "stdout",
     "output_type": "stream",
     "text": [
      "Paradigm 66 consistency: 0.7025277510807103\n"
     ]
    },
    {
     "name": "stderr",
     "output_type": "stream",
     "text": []
    },
    {
     "name": "stdout",
     "output_type": "stream",
     "text": [
      "Paradigm 67 consistency: 0.7025277510807103\n"
     ]
    },
    {
     "name": "stderr",
     "output_type": "stream",
     "text": []
    },
    {
     "name": "stdout",
     "output_type": "stream",
     "text": [
      "Paradigm 68 consistency: 0.7025277510807103\n"
     ]
    },
    {
     "name": "stderr",
     "output_type": "stream",
     "text": []
    },
    {
     "name": "stdout",
     "output_type": "stream",
     "text": [
      "Paradigm 69 consistency: 0.7025277510807103\n"
     ]
    },
    {
     "name": "stderr",
     "output_type": "stream",
     "text": []
    },
    {
     "name": "stdout",
     "output_type": "stream",
     "text": [
      "Paradigm 70 consistency: 0.7025277510807103\n"
     ]
    },
    {
     "name": "stderr",
     "output_type": "stream",
     "text": []
    },
    {
     "name": "stdout",
     "output_type": "stream",
     "text": [
      "Paradigm 71 consistency: 0.7025277510807103\n"
     ]
    },
    {
     "name": "stderr",
     "output_type": "stream",
     "text": []
    },
    {
     "name": "stdout",
     "output_type": "stream",
     "text": [
      "Paradigm 72 consistency: 0.7025277510807103\n"
     ]
    },
    {
     "name": "stderr",
     "output_type": "stream",
     "text": []
    },
    {
     "name": "stdout",
     "output_type": "stream",
     "text": [
      "Paradigm 73 consistency: 0.7025277510807103\n"
     ]
    },
    {
     "name": "stderr",
     "output_type": "stream",
     "text": []
    },
    {
     "name": "stdout",
     "output_type": "stream",
     "text": [
      "Paradigm 74 consistency: 0.7025277510807103\n"
     ]
    },
    {
     "name": "stderr",
     "output_type": "stream",
     "text": []
    },
    {
     "name": "stdout",
     "output_type": "stream",
     "text": [
      "Paradigm 75 consistency: 0.7025277510807103\n"
     ]
    },
    {
     "name": "stderr",
     "output_type": "stream",
     "text": []
    },
    {
     "name": "stdout",
     "output_type": "stream",
     "text": [
      "Paradigm 76 consistency: 0.7025277510807103\n"
     ]
    },
    {
     "name": "stderr",
     "output_type": "stream",
     "text": []
    },
    {
     "name": "stdout",
     "output_type": "stream",
     "text": [
      "Paradigm 77 consistency: 0.7025277510807103\n"
     ]
    },
    {
     "name": "stderr",
     "output_type": "stream",
     "text": []
    },
    {
     "name": "stdout",
     "output_type": "stream",
     "text": [
      "Paradigm 78 consistency: 0.7025277510807103\n"
     ]
    },
    {
     "name": "stderr",
     "output_type": "stream",
     "text": []
    },
    {
     "name": "stdout",
     "output_type": "stream",
     "text": [
      "Paradigm 79 consistency: 0.7025277510807103\n"
     ]
    },
    {
     "name": "stderr",
     "output_type": "stream",
     "text": []
    },
    {
     "name": "stdout",
     "output_type": "stream",
     "text": [
      "Paradigm 80 consistency: 0.7025277510807103\n"
     ]
    },
    {
     "name": "stderr",
     "output_type": "stream",
     "text": []
    },
    {
     "name": "stdout",
     "output_type": "stream",
     "text": [
      "Paradigm 81 consistency: 0.7025277510807103\n"
     ]
    },
    {
     "name": "stderr",
     "output_type": "stream",
     "text": []
    },
    {
     "name": "stdout",
     "output_type": "stream",
     "text": [
      "Paradigm 82 consistency: 0.7025277510807103\n"
     ]
    },
    {
     "name": "stderr",
     "output_type": "stream",
     "text": []
    },
    {
     "name": "stdout",
     "output_type": "stream",
     "text": [
      "Paradigm 83 consistency: 0.7025277510807103\n"
     ]
    },
    {
     "name": "stderr",
     "output_type": "stream",
     "text": []
    },
    {
     "name": "stdout",
     "output_type": "stream",
     "text": [
      "Paradigm 84 consistency: 0.7025277510807103\n"
     ]
    },
    {
     "name": "stderr",
     "output_type": "stream",
     "text": []
    },
    {
     "name": "stdout",
     "output_type": "stream",
     "text": [
      "Paradigm 85 consistency: 0.7025277510807103\n"
     ]
    },
    {
     "name": "stderr",
     "output_type": "stream",
     "text": []
    },
    {
     "name": "stdout",
     "output_type": "stream",
     "text": [
      "Paradigm 86 consistency: 0.7025277510807103\n"
     ]
    },
    {
     "name": "stderr",
     "output_type": "stream",
     "text": []
    },
    {
     "name": "stdout",
     "output_type": "stream",
     "text": [
      "Paradigm 87 consistency: 0.7025277510807103\n"
     ]
    },
    {
     "name": "stderr",
     "output_type": "stream",
     "text": []
    },
    {
     "name": "stdout",
     "output_type": "stream",
     "text": [
      "Paradigm 88 consistency: 0.7025277510807103\n"
     ]
    },
    {
     "name": "stderr",
     "output_type": "stream",
     "text": []
    },
    {
     "name": "stdout",
     "output_type": "stream",
     "text": [
      "Paradigm 89 consistency: 0.7025277510807103\n"
     ]
    },
    {
     "name": "stderr",
     "output_type": "stream",
     "text": []
    },
    {
     "name": "stdout",
     "output_type": "stream",
     "text": [
      "Paradigm 90 consistency: 0.5145392392540866\n"
     ]
    },
    {
     "name": "stderr",
     "output_type": "stream",
     "text": []
    },
    {
     "name": "stdout",
     "output_type": "stream",
     "text": [
      "Paradigm 91 consistency: 0.7025277510807103\n"
     ]
    },
    {
     "name": "stderr",
     "output_type": "stream",
     "text": []
    },
    {
     "name": "stdout",
     "output_type": "stream",
     "text": [
      "Paradigm 92 consistency: 0.7025277510807103\n"
     ]
    },
    {
     "name": "stderr",
     "output_type": "stream",
     "text": []
    },
    {
     "name": "stdout",
     "output_type": "stream",
     "text": [
      "Paradigm 93 consistency: 0.7025277510807103\n"
     ]
    },
    {
     "name": "stderr",
     "output_type": "stream",
     "text": []
    },
    {
     "name": "stdout",
     "output_type": "stream",
     "text": [
      "Paradigm 94 consistency: 0.7025277510807103\n"
     ]
    },
    {
     "name": "stderr",
     "output_type": "stream",
     "text": []
    },
    {
     "name": "stdout",
     "output_type": "stream",
     "text": [
      "Paradigm 95 consistency: 0.7025277510807103\n"
     ]
    },
    {
     "name": "stderr",
     "output_type": "stream",
     "text": []
    },
    {
     "name": "stdout",
     "output_type": "stream",
     "text": [
      "Paradigm 96 consistency: 0.7025277510807103\n"
     ]
    },
    {
     "name": "stderr",
     "output_type": "stream",
     "text": []
    },
    {
     "name": "stdout",
     "output_type": "stream",
     "text": [
      "Paradigm 97 consistency: 0.7025277510807103\n"
     ]
    },
    {
     "name": "stderr",
     "output_type": "stream",
     "text": []
    },
    {
     "name": "stdout",
     "output_type": "stream",
     "text": [
      "Paradigm 98 consistency: 0.7025277510807103\n"
     ]
    },
    {
     "name": "stderr",
     "output_type": "stream",
     "text": [
      "100%|██████████| 100/100 [1:04:47<00:00, 38.87s/it]"
     ]
    },
    {
     "name": "stdout",
     "output_type": "stream",
     "text": [
      "Paradigm 99 consistency: 0.7025277510807103\n",
      "1900\n"
     ]
    },
    {
     "name": "stderr",
     "output_type": "stream",
     "text": [
      "\n"
     ]
    },
    {
     "name": "stdout",
     "output_type": "stream",
     "text": [
      "Calculate metrics by transformation\n"
     ]
    },
    {
     "name": "stderr",
     "output_type": "stream",
     "text": [
      "100%|██████████| 19/19 [00:01<00:00, 11.17it/s]\n",
      " 89%|████████▉ | 8/9 [1:05:12<20:26, 1226.90s/it]"
     ]
    },
    {
     "name": "stdout",
     "output_type": "stream",
     "text": [
      "Section presupposition_possessed_definites_uniqueness:\n",
      "  Accuracy: 0.4805\n",
      "  Precision: 0.7378\n",
      "  Recall: 0.3968\n",
      "  F1: 0.3150\n",
      "  Consistency: 0.6771\n",
      "\n",
      "Evaluating section: presupposition_question_presupposition\n"
     ]
    },
    {
     "name": "stderr",
     "output_type": "stream",
     "text": []
    },
    {
     "name": "stdout",
     "output_type": "stream",
     "text": [
      "Paradigm 0 consistency: 0.0958883125600768\n",
      "Paradigm 1 consistency: 0.047909643385224854\n",
      "Paradigm 2 consistency: 0.16494454884084464\n",
      "Paradigm 3 consistency: 0.16494454884084464\n",
      "Paradigm 4 consistency: 0.12691452647336965\n",
      "Paradigm 5 consistency: 0.01736983605538045\n",
      "Paradigm 6 consistency: 0.20033199319823147\n"
     ]
    },
    {
     "name": "stderr",
     "output_type": "stream",
     "text": [
      "\n"
     ]
    },
    {
     "name": "stdout",
     "output_type": "stream",
     "text": [
      "Paradigm 7 consistency: 0.01736983605538034\n"
     ]
    },
    {
     "name": "stderr",
     "output_type": "stream",
     "text": [
      "  8%|▊         | 8/100 [00:00<00:02, 37.31it/s]\u001b[A"
     ]
    },
    {
     "name": "stdout",
     "output_type": "stream",
     "text": [
      "Paradigm 8 consistency: 0.035038159617655995\n",
      "Paradigm 9 consistency: 0.17194835729502667\n"
     ]
    },
    {
     "name": "stderr",
     "output_type": "stream",
     "text": []
    },
    {
     "name": "stdout",
     "output_type": "stream",
     "text": [
      "Paradigm 10 consistency: 0.047909643385225076\n"
     ]
    },
    {
     "name": "stderr",
     "output_type": "stream",
     "text": []
    },
    {
     "name": "stdout",
     "output_type": "stream",
     "text": [
      "Paradigm 11 consistency: 0.3555333547974129\n"
     ]
    },
    {
     "name": "stderr",
     "output_type": "stream",
     "text": []
    },
    {
     "name": "stdout",
     "output_type": "stream",
     "text": [
      "Paradigm 12 consistency: 0.3028137911081479\n"
     ]
    },
    {
     "name": "stderr",
     "output_type": "stream",
     "text": []
    },
    {
     "name": "stdout",
     "output_type": "stream",
     "text": [
      "Paradigm 13 consistency: 0.01736983605538045\n"
     ]
    },
    {
     "name": "stderr",
     "output_type": "stream",
     "text": []
    },
    {
     "name": "stdout",
     "output_type": "stream",
     "text": [
      "Paradigm 14 consistency: 0.26342943586645207\n"
     ]
    },
    {
     "name": "stderr",
     "output_type": "stream",
     "text": []
    },
    {
     "name": "stdout",
     "output_type": "stream",
     "text": [
      "Paradigm 15 consistency: 0.0958883125600768\n"
     ]
    },
    {
     "name": "stderr",
     "output_type": "stream",
     "text": []
    },
    {
     "name": "stdout",
     "output_type": "stream",
     "text": [
      "Paradigm 16 consistency: 0.03826325692095478\n"
     ]
    },
    {
     "name": "stderr",
     "output_type": "stream",
     "text": []
    },
    {
     "name": "stdout",
     "output_type": "stream",
     "text": [
      "Paradigm 17 consistency: 0.0958883125600769\n"
     ]
    },
    {
     "name": "stderr",
     "output_type": "stream",
     "text": []
    },
    {
     "name": "stdout",
     "output_type": "stream",
     "text": [
      "Paradigm 18 consistency: 0.20033199319823147\n"
     ]
    },
    {
     "name": "stderr",
     "output_type": "stream",
     "text": []
    },
    {
     "name": "stdout",
     "output_type": "stream",
     "text": [
      "Paradigm 19 consistency: 0.047909643385224854\n"
     ]
    },
    {
     "name": "stderr",
     "output_type": "stream",
     "text": []
    },
    {
     "name": "stdout",
     "output_type": "stream",
     "text": [
      "Paradigm 20 consistency: 0.1306021193250927\n"
     ]
    },
    {
     "name": "stderr",
     "output_type": "stream",
     "text": []
    },
    {
     "name": "stdout",
     "output_type": "stream",
     "text": [
      "Paradigm 21 consistency: 0.047909643385224854\n"
     ]
    },
    {
     "name": "stderr",
     "output_type": "stream",
     "text": []
    },
    {
     "name": "stdout",
     "output_type": "stream",
     "text": [
      "Paradigm 22 consistency: 0.035038159617655995\n"
     ]
    },
    {
     "name": "stderr",
     "output_type": "stream",
     "text": []
    },
    {
     "name": "stdout",
     "output_type": "stream",
     "text": [
      "Paradigm 23 consistency: 0.6272947035832889\n"
     ]
    },
    {
     "name": "stderr",
     "output_type": "stream",
     "text": []
    },
    {
     "name": "stdout",
     "output_type": "stream",
     "text": [
      "Paradigm 24 consistency: 0.0024805242792796944\n"
     ]
    },
    {
     "name": "stderr",
     "output_type": "stream",
     "text": []
    },
    {
     "name": "stdout",
     "output_type": "stream",
     "text": [
      "Paradigm 25 consistency: 0.20033199319823147\n"
     ]
    },
    {
     "name": "stderr",
     "output_type": "stream",
     "text": []
    },
    {
     "name": "stdout",
     "output_type": "stream",
     "text": [
      "Paradigm 26 consistency: 0.047909643385225076\n"
     ]
    },
    {
     "name": "stderr",
     "output_type": "stream",
     "text": []
    },
    {
     "name": "stdout",
     "output_type": "stream",
     "text": [
      "Paradigm 27 consistency: 0.047909643385224854\n"
     ]
    },
    {
     "name": "stderr",
     "output_type": "stream",
     "text": []
    },
    {
     "name": "stdout",
     "output_type": "stream",
     "text": [
      "Paradigm 28 consistency: 0.26342943586645207\n"
     ]
    },
    {
     "name": "stderr",
     "output_type": "stream",
     "text": []
    },
    {
     "name": "stdout",
     "output_type": "stream",
     "text": [
      "Paradigm 29 consistency: 0.07413710786179006\n"
     ]
    },
    {
     "name": "stderr",
     "output_type": "stream",
     "text": []
    },
    {
     "name": "stdout",
     "output_type": "stream",
     "text": [
      "Paradigm 30 consistency: 0.20033199319823147\n"
     ]
    },
    {
     "name": "stderr",
     "output_type": "stream",
     "text": []
    },
    {
     "name": "stdout",
     "output_type": "stream",
     "text": [
      "Paradigm 31 consistency: 0.01736983605538034\n"
     ]
    },
    {
     "name": "stderr",
     "output_type": "stream",
     "text": []
    },
    {
     "name": "stdout",
     "output_type": "stream",
     "text": [
      "Paradigm 32 consistency: 0.0958883125600769\n"
     ]
    },
    {
     "name": "stderr",
     "output_type": "stream",
     "text": []
    },
    {
     "name": "stdout",
     "output_type": "stream",
     "text": [
      "Paradigm 33 consistency: 0.0958883125600769\n"
     ]
    },
    {
     "name": "stderr",
     "output_type": "stream",
     "text": []
    },
    {
     "name": "stdout",
     "output_type": "stream",
     "text": [
      "Paradigm 34 consistency: 0.16494454884084464\n"
     ]
    },
    {
     "name": "stderr",
     "output_type": "stream",
     "text": []
    },
    {
     "name": "stdout",
     "output_type": "stream",
     "text": [
      "Paradigm 35 consistency: 0.16494454884084464\n"
     ]
    },
    {
     "name": "stderr",
     "output_type": "stream",
     "text": []
    },
    {
     "name": "stdout",
     "output_type": "stream",
     "text": [
      "Paradigm 36 consistency: 0.0958883125600768\n"
     ]
    },
    {
     "name": "stderr",
     "output_type": "stream",
     "text": []
    },
    {
     "name": "stdout",
     "output_type": "stream",
     "text": [
      "Paradigm 37 consistency: 0.07768278518151717\n"
     ]
    },
    {
     "name": "stderr",
     "output_type": "stream",
     "text": []
    },
    {
     "name": "stdout",
     "output_type": "stream",
     "text": [
      "Paradigm 38 consistency: 0.5115068636860558\n"
     ]
    },
    {
     "name": "stderr",
     "output_type": "stream",
     "text": []
    },
    {
     "name": "stdout",
     "output_type": "stream",
     "text": [
      "Paradigm 39 consistency: 0.1148097082393531\n"
     ]
    },
    {
     "name": "stderr",
     "output_type": "stream",
     "text": []
    },
    {
     "name": "stdout",
     "output_type": "stream",
     "text": [
      "Paradigm 40 consistency: 0.0958883125600768\n"
     ]
    },
    {
     "name": "stderr",
     "output_type": "stream",
     "text": []
    },
    {
     "name": "stdout",
     "output_type": "stream",
     "text": [
      "Paradigm 41 consistency: 0.16494454884084464\n"
     ]
    },
    {
     "name": "stderr",
     "output_type": "stream",
     "text": []
    },
    {
     "name": "stdout",
     "output_type": "stream",
     "text": [
      "Paradigm 42 consistency: 0.12691452647336965\n"
     ]
    },
    {
     "name": "stderr",
     "output_type": "stream",
     "text": []
    },
    {
     "name": "stdout",
     "output_type": "stream",
     "text": [
      "Paradigm 43 consistency: 0.5145392392540866\n"
     ]
    },
    {
     "name": "stderr",
     "output_type": "stream",
     "text": []
    },
    {
     "name": "stdout",
     "output_type": "stream",
     "text": [
      "Paradigm 44 consistency: 0.0958883125600768\n"
     ]
    },
    {
     "name": "stderr",
     "output_type": "stream",
     "text": []
    },
    {
     "name": "stdout",
     "output_type": "stream",
     "text": [
      "Paradigm 45 consistency: 0.12691452647336965\n"
     ]
    },
    {
     "name": "stderr",
     "output_type": "stream",
     "text": []
    },
    {
     "name": "stdout",
     "output_type": "stream",
     "text": [
      "Paradigm 46 consistency: 0.2575124304578764\n"
     ]
    },
    {
     "name": "stderr",
     "output_type": "stream",
     "text": []
    },
    {
     "name": "stdout",
     "output_type": "stream",
     "text": [
      "Paradigm 47 consistency: 0.07768278518151717\n"
     ]
    },
    {
     "name": "stderr",
     "output_type": "stream",
     "text": []
    },
    {
     "name": "stdout",
     "output_type": "stream",
     "text": [
      "Paradigm 48 consistency: 0.047909643385224854\n"
     ]
    },
    {
     "name": "stderr",
     "output_type": "stream",
     "text": []
    },
    {
     "name": "stdout",
     "output_type": "stream",
     "text": [
      "Paradigm 49 consistency: 0.12691452647336965\n"
     ]
    },
    {
     "name": "stderr",
     "output_type": "stream",
     "text": []
    },
    {
     "name": "stdout",
     "output_type": "stream",
     "text": [
      "Paradigm 50 consistency: 0.047909643385224854\n"
     ]
    },
    {
     "name": "stderr",
     "output_type": "stream",
     "text": []
    },
    {
     "name": "stdout",
     "output_type": "stream",
     "text": [
      "Paradigm 51 consistency: 0.010502461377285166\n"
     ]
    },
    {
     "name": "stderr",
     "output_type": "stream",
     "text": []
    },
    {
     "name": "stdout",
     "output_type": "stream",
     "text": [
      "Paradigm 52 consistency: 0.42378260447830407\n"
     ]
    },
    {
     "name": "stderr",
     "output_type": "stream",
     "text": []
    },
    {
     "name": "stdout",
     "output_type": "stream",
     "text": [
      "Paradigm 53 consistency: 0.1148097082393531\n"
     ]
    },
    {
     "name": "stderr",
     "output_type": "stream",
     "text": []
    },
    {
     "name": "stdout",
     "output_type": "stream",
     "text": [
      "Paradigm 54 consistency: 0.01736983605538034\n"
     ]
    },
    {
     "name": "stderr",
     "output_type": "stream",
     "text": []
    },
    {
     "name": "stdout",
     "output_type": "stream",
     "text": [
      "Paradigm 55 consistency: 0.0958883125600768\n"
     ]
    },
    {
     "name": "stderr",
     "output_type": "stream",
     "text": []
    },
    {
     "name": "stdout",
     "output_type": "stream",
     "text": [
      "Paradigm 56 consistency: 0.16494454884084464\n"
     ]
    },
    {
     "name": "stderr",
     "output_type": "stream",
     "text": []
    },
    {
     "name": "stdout",
     "output_type": "stream",
     "text": [
      "Paradigm 57 consistency: 0.2634294358664523\n"
     ]
    },
    {
     "name": "stderr",
     "output_type": "stream",
     "text": []
    },
    {
     "name": "stdout",
     "output_type": "stream",
     "text": [
      "Paradigm 58 consistency: 0.01736983605538045\n"
     ]
    },
    {
     "name": "stderr",
     "output_type": "stream",
     "text": []
    },
    {
     "name": "stdout",
     "output_type": "stream",
     "text": [
      "Paradigm 59 consistency: 0.01736983605538045\n"
     ]
    },
    {
     "name": "stderr",
     "output_type": "stream",
     "text": []
    },
    {
     "name": "stdout",
     "output_type": "stream",
     "text": [
      "Paradigm 60 consistency: 0.047909643385224854\n"
     ]
    },
    {
     "name": "stderr",
     "output_type": "stream",
     "text": []
    },
    {
     "name": "stdout",
     "output_type": "stream",
     "text": [
      "Paradigm 61 consistency: 0.01736983605538045\n"
     ]
    },
    {
     "name": "stderr",
     "output_type": "stream",
     "text": []
    },
    {
     "name": "stdout",
     "output_type": "stream",
     "text": [
      "Paradigm 62 consistency: 0.3028137911081479\n"
     ]
    },
    {
     "name": "stderr",
     "output_type": "stream",
     "text": []
    },
    {
     "name": "stdout",
     "output_type": "stream",
     "text": [
      "Paradigm 63 consistency: 0.24936273490419736\n"
     ]
    },
    {
     "name": "stderr",
     "output_type": "stream",
     "text": []
    },
    {
     "name": "stdout",
     "output_type": "stream",
     "text": [
      "Paradigm 64 consistency: 0.1306021193250927\n"
     ]
    },
    {
     "name": "stderr",
     "output_type": "stream",
     "text": []
    },
    {
     "name": "stdout",
     "output_type": "stream",
     "text": [
      "Paradigm 65 consistency: 0.07413710786178995\n"
     ]
    },
    {
     "name": "stderr",
     "output_type": "stream",
     "text": []
    },
    {
     "name": "stdout",
     "output_type": "stream",
     "text": [
      "Paradigm 66 consistency: 0.16852561199027072\n"
     ]
    },
    {
     "name": "stderr",
     "output_type": "stream",
     "text": []
    },
    {
     "name": "stdout",
     "output_type": "stream",
     "text": [
      "Paradigm 67 consistency: 0.01736983605538045\n"
     ]
    },
    {
     "name": "stderr",
     "output_type": "stream",
     "text": []
    },
    {
     "name": "stdout",
     "output_type": "stream",
     "text": [
      "Paradigm 68 consistency: 0.0958883125600768\n"
     ]
    },
    {
     "name": "stderr",
     "output_type": "stream",
     "text": []
    },
    {
     "name": "stdout",
     "output_type": "stream",
     "text": [
      "Paradigm 69 consistency: 0.0958883125600768\n"
     ]
    },
    {
     "name": "stderr",
     "output_type": "stream",
     "text": []
    },
    {
     "name": "stdout",
     "output_type": "stream",
     "text": [
      "Paradigm 70 consistency: 0.047909643385225076\n"
     ]
    },
    {
     "name": "stderr",
     "output_type": "stream",
     "text": []
    },
    {
     "name": "stdout",
     "output_type": "stream",
     "text": [
      "Paradigm 71 consistency: 0.2634294358664523\n"
     ]
    },
    {
     "name": "stderr",
     "output_type": "stream",
     "text": []
    },
    {
     "name": "stdout",
     "output_type": "stream",
     "text": [
      "Paradigm 72 consistency: 0.16494454884084464\n"
     ]
    },
    {
     "name": "stderr",
     "output_type": "stream",
     "text": []
    },
    {
     "name": "stdout",
     "output_type": "stream",
     "text": [
      "Paradigm 73 consistency: 0.01736983605538034\n"
     ]
    },
    {
     "name": "stderr",
     "output_type": "stream",
     "text": []
    },
    {
     "name": "stdout",
     "output_type": "stream",
     "text": [
      "Paradigm 74 consistency: 0.0958883125600768\n"
     ]
    },
    {
     "name": "stderr",
     "output_type": "stream",
     "text": []
    },
    {
     "name": "stdout",
     "output_type": "stream",
     "text": [
      "Paradigm 75 consistency: 0.01736983605538034\n"
     ]
    },
    {
     "name": "stderr",
     "output_type": "stream",
     "text": []
    },
    {
     "name": "stdout",
     "output_type": "stream",
     "text": [
      "Paradigm 76 consistency: 0.047909643385224854\n"
     ]
    },
    {
     "name": "stderr",
     "output_type": "stream",
     "text": []
    },
    {
     "name": "stdout",
     "output_type": "stream",
     "text": [
      "Paradigm 77 consistency: 0.01736983605538045\n"
     ]
    },
    {
     "name": "stderr",
     "output_type": "stream",
     "text": []
    },
    {
     "name": "stdout",
     "output_type": "stream",
     "text": [
      "Paradigm 78 consistency: 0.01736983605538045\n"
     ]
    },
    {
     "name": "stderr",
     "output_type": "stream",
     "text": []
    },
    {
     "name": "stdout",
     "output_type": "stream",
     "text": [
      "Paradigm 79 consistency: 0.16494454884084464\n"
     ]
    },
    {
     "name": "stderr",
     "output_type": "stream",
     "text": []
    },
    {
     "name": "stdout",
     "output_type": "stream",
     "text": [
      "Paradigm 80 consistency: 0.047909643385224854\n"
     ]
    },
    {
     "name": "stderr",
     "output_type": "stream",
     "text": []
    },
    {
     "name": "stdout",
     "output_type": "stream",
     "text": [
      "Paradigm 81 consistency: 0.1148097082393531\n"
     ]
    },
    {
     "name": "stderr",
     "output_type": "stream",
     "text": []
    },
    {
     "name": "stdout",
     "output_type": "stream",
     "text": [
      "Paradigm 82 consistency: 0.01736983605538045\n"
     ]
    },
    {
     "name": "stderr",
     "output_type": "stream",
     "text": []
    },
    {
     "name": "stdout",
     "output_type": "stream",
     "text": [
      "Paradigm 83 consistency: 0.16494454884084464\n"
     ]
    },
    {
     "name": "stderr",
     "output_type": "stream",
     "text": []
    },
    {
     "name": "stdout",
     "output_type": "stream",
     "text": [
      "Paradigm 84 consistency: 0.16852561199027072\n"
     ]
    },
    {
     "name": "stderr",
     "output_type": "stream",
     "text": []
    },
    {
     "name": "stdout",
     "output_type": "stream",
     "text": [
      "Paradigm 85 consistency: 0.16494454884084464\n"
     ]
    },
    {
     "name": "stderr",
     "output_type": "stream",
     "text": []
    },
    {
     "name": "stdout",
     "output_type": "stream",
     "text": [
      "Paradigm 86 consistency: 0.01736983605538045\n"
     ]
    },
    {
     "name": "stderr",
     "output_type": "stream",
     "text": []
    },
    {
     "name": "stdout",
     "output_type": "stream",
     "text": [
      "Paradigm 87 consistency: 0.07768278518151717\n"
     ]
    },
    {
     "name": "stderr",
     "output_type": "stream",
     "text": []
    },
    {
     "name": "stdout",
     "output_type": "stream",
     "text": [
      "Paradigm 88 consistency: 0.12691452647336965\n"
     ]
    },
    {
     "name": "stderr",
     "output_type": "stream",
     "text": []
    },
    {
     "name": "stdout",
     "output_type": "stream",
     "text": [
      "Paradigm 89 consistency: 0.01736983605538045\n"
     ]
    },
    {
     "name": "stderr",
     "output_type": "stream",
     "text": []
    },
    {
     "name": "stdout",
     "output_type": "stream",
     "text": [
      "Paradigm 90 consistency: 0.01736983605538045\n"
     ]
    },
    {
     "name": "stderr",
     "output_type": "stream",
     "text": []
    },
    {
     "name": "stdout",
     "output_type": "stream",
     "text": [
      "Paradigm 91 consistency: 0.1148097082393531\n"
     ]
    },
    {
     "name": "stderr",
     "output_type": "stream",
     "text": []
    },
    {
     "name": "stdout",
     "output_type": "stream",
     "text": [
      "Paradigm 92 consistency: 0.03826325692095478\n"
     ]
    },
    {
     "name": "stderr",
     "output_type": "stream",
     "text": []
    },
    {
     "name": "stdout",
     "output_type": "stream",
     "text": [
      "Paradigm 93 consistency: 0.047909643385224854\n"
     ]
    },
    {
     "name": "stderr",
     "output_type": "stream",
     "text": []
    },
    {
     "name": "stdout",
     "output_type": "stream",
     "text": [
      "Paradigm 94 consistency: 0.10025624130173738\n"
     ]
    },
    {
     "name": "stderr",
     "output_type": "stream",
     "text": []
    },
    {
     "name": "stdout",
     "output_type": "stream",
     "text": [
      "Paradigm 95 consistency: 0.047909643385224854\n"
     ]
    },
    {
     "name": "stderr",
     "output_type": "stream",
     "text": []
    },
    {
     "name": "stdout",
     "output_type": "stream",
     "text": [
      "Paradigm 96 consistency: 0.047909643385224854\n"
     ]
    },
    {
     "name": "stderr",
     "output_type": "stream",
     "text": []
    },
    {
     "name": "stdout",
     "output_type": "stream",
     "text": [
      "Paradigm 97 consistency: 0.01736983605538034\n"
     ]
    },
    {
     "name": "stderr",
     "output_type": "stream",
     "text": []
    },
    {
     "name": "stdout",
     "output_type": "stream",
     "text": [
      "Paradigm 98 consistency: 0.26342943586645207\n"
     ]
    },
    {
     "name": "stderr",
     "output_type": "stream",
     "text": [
      "100%|██████████| 100/100 [1:45:44<00:00, 63.44s/it]"
     ]
    },
    {
     "name": "stdout",
     "output_type": "stream",
     "text": [
      "Paradigm 99 consistency: 0.16494454884084464\n",
      "1900\n"
     ]
    },
    {
     "name": "stderr",
     "output_type": "stream",
     "text": [
      "\n"
     ]
    },
    {
     "name": "stdout",
     "output_type": "stream",
     "text": [
      "Calculate metrics by transformation\n"
     ]
    },
    {
     "name": "stderr",
     "output_type": "stream",
     "text": [
      "100%|██████████| 19/19 [00:02<00:00,  8.80it/s]\n",
      "100%|██████████| 9/9 [2:50:59<00:00, 1140.00s/it]"
     ]
    },
    {
     "name": "stdout",
     "output_type": "stream",
     "text": [
      "Section presupposition_question_presupposition:\n",
      "  Accuracy: 0.8421\n",
      "  Precision: 0.8741\n",
      "  Recall: 0.8216\n",
      "  F1: 0.8340\n",
      "  Consistency: 0.1217\n",
      "\n"
     ]
    },
    {
     "name": "stderr",
     "output_type": "stream",
     "text": [
      "\n"
     ]
    }
   ],
   "source": [
    "results = evaluate_all_sections(trained_module, paradigm_examples)"
   ]
  },
  {
   "cell_type": "code",
   "execution_count": null,
   "id": "b3f46c17",
   "metadata": {},
   "outputs": [
    {
     "name": "stdout",
     "output_type": "stream",
     "text": [
      "\n",
      "================================================================================\n",
      "SECTION-LEVEL RESULTS\n",
      "================================================================================\n",
      "                                      Section  Accuracy  Precision   Recall       F1  Consistency\n",
      "           presupposition_both_presupposition  0.976316   0.976741 0.977250 0.976923     0.023364\n",
      "               presupposition_change_of_state  0.567895   0.661949 0.496972 0.470625     0.441210\n",
      "               presupposition_cleft_existence  0.688421   0.848858 0.631222 0.641477     0.333441\n",
      "              presupposition_cleft_uniqueness  0.478947   0.748956 0.395028 0.311998     0.687332\n",
      "           presupposition_only_presupposition  0.699474   0.829189 0.655722 0.678558     0.254056\n",
      " presupposition_possessed_definites_existence  0.937368   0.944866 0.928861 0.935482     0.054856\n",
      "presupposition_possessed_definites_uniqueness  0.480526   0.737844 0.396833 0.314979     0.677115\n",
      "       presupposition_question_presupposition  0.842105   0.874063 0.821556 0.833981     0.121652\n",
      "\n",
      "================================================================================\n",
      "TRANSFORMATION-LEVEL RESULTS\n",
      "================================================================================\n",
      " transformation  accuracy  precision   recall       f1\n",
      "              0   0.70125   0.792516 0.675366 0.651443\n",
      "              1   0.70375   0.762265 0.665347 0.645047\n",
      "              2   0.71500   0.802668 0.659509 0.645010\n",
      "              3   0.71125   0.778260 0.663898 0.642165\n",
      "              4   0.70625   0.755846 0.659939 0.640767\n",
      "              5   0.71000   0.783366 0.672246 0.649216\n",
      "              6   0.69625   0.801180 0.642552 0.616083\n",
      "              7   0.70375   0.797317 0.678203 0.655143\n",
      "              8   0.72000   0.789067 0.659674 0.646225\n",
      "              9   0.71000   0.789659 0.666217 0.649758\n",
      "             10   0.73250   0.834266 0.677042 0.665554\n",
      "             11   0.72875   0.791304 0.667169 0.652716\n",
      "             12   0.69375   0.741059 0.651161 0.625175\n",
      "             13   0.71500   0.774157 0.666861 0.648544\n",
      "             14   0.70000   0.758003 0.656317 0.634206\n",
      "             15   0.70500   0.776842 0.656604 0.635718\n",
      "             16   0.69625   0.771026 0.656946 0.633976\n",
      "             17   0.71875   0.761599 0.676761 0.653954\n",
      "             18   0.70125   0.748340 0.644573 0.620137\n",
      "\n",
      "================================================================================\n",
      "OVERALL RESULTS\n",
      "================================================================================\n",
      "Overall Accuracy: 0.7089\n",
      "Overall Precision: 0.8278\n",
      "Overall Recall: 0.6629\n",
      "Overall F1: 0.6455\n",
      "Overall Consistency: 0.3241\n"
     ]
    }
   ],
   "source": [
    "section_df, transformation_df = create_results_table(results, \n",
    "    ['presupposition_both_presupposition',\n",
    "        'presupposition_change_of_state',\n",
    "        'presupposition_cleft_existence',\n",
    "        'presupposition_cleft_uniqueness',\n",
    "        'presupposition_only_presupposition',\n",
    "        'presupposition_possessed_definites_existence',\n",
    "        'presupposition_possessed_definites_uniqueness',\n",
    "        'presupposition_question_presupposition'])\n",
    "\n",
    "print(\"\\n\" + \"=\"*80)\n",
    "print(\"SECTION-LEVEL RESULTS\")\n",
    "print(\"=\"*80)\n",
    "print(section_df.to_string(index=False))\n",
    "\n",
    "print(\"\\n\" + \"=\"*80)\n",
    "print(\"TRANSFORMATION-LEVEL RESULTS\")\n",
    "print(\"=\"*80)\n",
    "print(transformation_df.to_string(index=False))\n",
    "\n",
    "# Calculate overall metrics\n",
    "overall_accuracy = section_df['Accuracy'].mean()\n",
    "overall_precision = section_df['Precision'].mean()\n",
    "overall_recall = section_df['Recall'].mean()\n",
    "overall_f1 = section_df['F1'].mean()\n",
    "overall_consistency = section_df['Consistency'].mean()\n",
    "\n",
    "print(f\"\\n\" + \"=\"*80)\n",
    "print(\"OVERALL RESULTS\")\n",
    "print(\"=\"*80)\n",
    "print(f\"Overall Accuracy: {overall_accuracy:.4f}\")\n",
    "print(f\"Overall Precision: {overall_precision:.4f}\")\n",
    "print(f\"Overall Recall: {overall_recall:.4f}\")\n",
    "print(f\"Overall F1: {overall_f1:.4f}\")\n",
    "print(f\"Overall Consistency: {overall_consistency:.4f}\")"
   ]
  },
  {
   "cell_type": "markdown",
   "id": "d7c0bdba",
   "metadata": {},
   "source": [
    "## Results Analysis\n",
    "\n",
    "This experiment evaluates whether explanation-based prompting can improve presupposition identification by exploiting the structured paradigms encoded in the ImpPres dataset. \n",
    "\n",
    "Results show that while certain presupposition types (e.g., possessed definites (existence) and both presupposition) achieve high accuracy, they often lack consistency across transformations, indicating limited generalization from the paradigm structure. In contrast, other types such as cleft uniqueness and possessed definites (uniqueness) show high consistency but low accuracy, suggesting some problem in the model systematicly happening across the section, possibly caused by a specific pattern of the it, that isn't changed throught transformations. \n",
    "\n",
    "Transformation-level scores are relatively uniform, implying the model captures some general patterns across variants. However, the overall consistency score (0.32) remains low, limiting the effectiveness of paradigm-aware reasoning. \n",
    "The overall accuracy is 0.7 which is less then the previous task, meaning the added pradigm calculation is hurting the preformence of the model.  \n",
    "\n",
    "These results suggest that while the model benefits from the structure of paradigms to some extent, further improvements are needed, particularly through training or prompting strategies that explicitly reinforce consistency across transformations.\n",
    "\n"
   ]
  }
 ],
 "metadata": {
  "kernelspec": {
   "display_name": "hw2",
   "language": "python",
   "name": "python3"
  },
  "language_info": {
   "codemirror_mode": {
    "name": "ipython",
    "version": 3
   },
   "file_extension": ".py",
   "mimetype": "text/x-python",
   "name": "python",
   "nbconvert_exporter": "python",
   "pygments_lexer": "ipython3",
   "version": "3.11.12"
  }
 },
 "nbformat": 4,
 "nbformat_minor": 5
}
